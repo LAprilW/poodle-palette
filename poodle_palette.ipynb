{
  "cells": [
    {
      "cell_type": "markdown",
      "metadata": {
        "id": "view-in-github",
        "colab_type": "text"
      },
      "source": [
        "<a href=\"https://colab.research.google.com/github/LAprilW/poodle-palette/blob/main/poodle_palette.ipynb\" target=\"_parent\"><img src=\"https://colab.research.google.com/assets/colab-badge.svg\" alt=\"Open In Colab\"/></a>"
      ]
    },
    {
      "cell_type": "markdown",
      "id": "0",
      "metadata": {
        "id": "0"
      },
      "source": [
        "# 🐩 Poodle Palette — Genotype → Phenotype Tutor\n",
        "\n",
        "Welcome! This notebook lets you toggle **five** coat-colour loci and instantly see the phenotype (or carrier notes) for any Poodle genotype:\n",
        "\n",
        "* **B** — black vs. brown pigment  \n",
        "* **E** — pigment switch (ee = red/cream)  \n",
        "* **K** — dominant black / brindle / pattern-free  \n",
        "* **A** — sable, phantom, agouti, recessive black (shown when K = kyky)  \n",
        "* **S** — solid vs. parti spotting\n",
        "\n",
        "Click around in the widget below, or feed the function a full genotype string to watch the colours - and the carrier caveats - unfold. Enjoy the genetics journey!"
      ]
    },
    {
      "cell_type": "code",
      "execution_count": 1,
      "id": "1",
      "metadata": {
        "id": "1"
      },
      "outputs": [],
      "source": [
        "# 📦 Setup\n",
        "# If running locally, make sure pandas and matplotlib are installed.\n",
        "# In Google Colab these come pre‑installed.\n",
        "import pandas as pd\n",
        "import matplotlib.pyplot as plt\n",
        "\n",
        "# Display plots inline\n",
        "%matplotlib inline\n"
      ]
    },
    {
      "cell_type": "markdown",
      "id": "2",
      "metadata": {
        "id": "2"
      },
      "source": [
        "## 🎓 2. Genetic Background — quick‐reference table\n",
        "\n",
        "| Locus | Key alleles* | Dominance order&nbsp;→ | What the locus controls | Notes for Poodles |\n",
        "|-------|--------------|------------------------|-------------------------|-------------------|\n",
        "| **B** (TYRP1) | **B** = black • **b** = brown | BB ≈ Bb ≫ bb | Eumelanin pigment (black vs. brown) | bb turns nose/lips brown and lightens any black areas (inc. phantom points). |\n",
        "| **E** (MC1R) | **E** = allows pigment • **e** = recessive red | EE ≈ Ee ≫ ee | Switch that blocks/permits black/brown coat colour | ee hides all K/A patterns; dog may *carry* them. |\n",
        "| **K** (CBD103) | **KB** = dominant black • **Kbr** = brindle • **ky** = pattern-free | KB ≫ Kbr ≫ ky | Overrides or reveals A-locus patterns | Kbr shows brindle **unless** coat is ee or a/a. |\n",
        "| **A** (ASIP) | **ay** = sable • **at** = phantom • **aw** = agouti • **a** = recessive black | ay ≫ at ≫ aw ≫ a | Determines banding/point patterns **only** when K = ky/ky **or** Kbr (non-a/a) | In ee kyky dogs, top A allele is “carried” rather than shown. |\n",
        "| **S** (MITF) | **S** = solid • **sp** = parti | SS ≫ Ssp ≫ spsp | White-spotting (parti) layer on top of base colour | Ssp dogs carry parti; spsp shows full parti pattern. |\n",
        "\n",
        "\\* For simplicity we list the most common poodle alleles. Other rare modifiers (D-locus silvering, I-locus intensity, etc.) are beyond this demo.\n",
        "\n",
        "> **Rule of thumb:**  \n",
        "> 1. **E** sets the stage (ee hides everything).  \n",
        "> 2. **K** decides if patterns are blocked (KB), brindled (Kbr), or revealed (kyky).  \n",
        "> 3. **A** supplies the actual pattern—*if* K lets it through.  \n",
        "> 4. **B** colours the eumelanin (black vs. brown).  \n",
        "> 5. **S** sprinkles white on top if homozygous *sp*.  \n",
        ">  \n",
        "> Carriers (Kbr, Ssp, ay/at/aw in ee dogs) are noted in the phenotype read-out but not visually expressed.\n"
      ]
    },
    {
      "cell_type": "code",
      "execution_count": 2,
      "id": "3",
      "metadata": {
        "id": "3"
      },
      "outputs": [],
      "source": [
        "## 3. Imports + Helper Dictionaries\n"
      ]
    },
    {
      "cell_type": "code",
      "execution_count": 3,
      "id": "4",
      "metadata": {
        "id": "4"
      },
      "outputs": [],
      "source": [
        "# 📦 Standard data-science imports\n",
        "import pandas as pd\n",
        "import matplotlib.pyplot as plt\n",
        "\n",
        "# 📚 Teaching widgets (for the interactive allele picker we’ll add later)\n",
        "from IPython.display import HTML\n",
        "import ipywidgets as widgets\n",
        "\n",
        "# 🖼️ Show charts inside the notebook\n",
        "%matplotlib inline\n",
        "\n",
        "# ────────────────────────────────────────────────────────────────\n",
        "# Helper dictionaries for quick look-ups at each locus\n",
        "# These will be used by predict_colour() in the next section.\n",
        "\n",
        "# B-locus (black vs. brown pigment)\n",
        "B_LOCUS = {\n",
        "    \"BB\": \"Black\",\n",
        "    \"Bb\": \"Black\",\n",
        "    \"bb\": \"Brown\"\n",
        "}\n",
        "\n",
        "# E-locus (extension / red-cream override)\n",
        "E_LOCUS = {\n",
        "    \"EE\": \"Allows black/brown\",\n",
        "    \"Ee\": \"Allows black/brown\",\n",
        "    \"ee\": \"Red/Cream (blocks black)\"}\n",
        "\n",
        "# Spotting / Parti – dominant solid S, recessive parti sp\n",
        "S_LOCUS = {\n",
        "    \"SS\": \"solid\",\n",
        "    \"Ssp\": \"solid (carrier)\",\n",
        "    \"spsp\": \"parti\"\n",
        "}\n",
        "\n",
        "# K-locus hierarchy  KB  >  Kbr  >  ky\n",
        "K_HIERARCHY = [\"KB\", \"Kbr\", \"ky\"]    # first one present wins\n",
        "\n",
        "# A-locus hierarchy  ay  >  at  >  aw  >  a\n",
        "A_HIERARCHY = [\"ay\", \"at\", \"aw\", \"a\"]\n"
      ]
    },
    {
      "cell_type": "code",
      "execution_count": 4,
      "id": "5",
      "metadata": {
        "id": "5"
      },
      "outputs": [],
      "source": [
        "## 4. Function `predict_colour()`"
      ]
    },
    {
      "cell_type": "code",
      "execution_count": 5,
      "id": "6",
      "metadata": {
        "id": "6"
      },
      "outputs": [],
      "source": [
        "K_HIERARCHY = [\"Kbr\", \"KB\"]\n",
        "A_HIERARCHY = [\"ay\", \"at\", \"aw\", \"a\"]\n",
        "A_LABELS    = {\"ay\": \"Sable\", \"at\": \"Phantom\", \"aw\": \"Agouti\"}\n",
        "\n",
        "def predict_colour(b_pair: str, e_pair: str,\n",
        "                   k_pair: str,\n",
        "                   a1: str, a2: str,\n",
        "                   s_pair: str) -> str:\n",
        "    \"\"\"Return plain-English Poodle coat description with carrier notes.\"\"\"\n",
        "\n",
        "    recessive_red = (e_pair == \"ee\")\n",
        "    brown_base    = (b_pair == \"bb\")\n",
        "\n",
        "    # ── 1. Base colour ────────────────────────────────────────────────\n",
        "    if recessive_red:\n",
        "        base_colour = \"Red/Cream\" + (\" (brown nose)\" if brown_base else \"\")\n",
        "    else:\n",
        "        base_colour = \"Brown\" if brown_base else \"Black\"\n",
        "\n",
        "    # ── 2. K winner ──────────────────────────────────────────────────\n",
        "    if \"Kbr\" in k_pair:\n",
        "        k_dom = \"Kbr\"\n",
        "    elif \"KB\" in k_pair:\n",
        "        k_dom = \"KB\"\n",
        "    else:\n",
        "        k_dom = \"ky\"\n",
        "\n",
        "    # ── 3. Dominant A allele ─────────────────────────────────────────\n",
        "    dom_a = next(a for a in A_HIERARCHY if a in (a1 + a2))\n",
        "\n",
        "    # ── 4. Pattern / carrier text (brindle, sable, etc.) ─────────────\n",
        "    pattern = \"\"\n",
        "    if recessive_red:\n",
        "        if k_dom == \"Kbr\":\n",
        "            pattern = \"carries Brindle\"\n",
        "        elif k_dom == \"ky\" and dom_a != \"a\":\n",
        "            pattern = f\"carries {A_LABELS[dom_a]}\"\n",
        "    else:\n",
        "        if k_dom == \"KB\":\n",
        "            pattern = \"\"\n",
        "        elif k_dom == \"Kbr\":\n",
        "            pattern = \"\" if dom_a == \"a\" else \"Brindle\"\n",
        "        else:  # kyky\n",
        "            pattern = A_LABELS.get(dom_a, \"\")\n",
        "\n",
        "    # ── 5. Spotting / Parti text ─────────────────────────────────────\n",
        "    spot_prefix = \"Parti\" if s_pair.lower().endswith(\"spsp\") else \"\"\n",
        "    spot_suffix = \"carries Parti\" if s_pair == \"Ssp\" or s_pair.lower() == \"ssp\" else \"\"\n",
        "\n",
        "    # ── 6. Assemble, keep spaces tidy ────────────────────────────────\n",
        "    parts = [spot_prefix, base_colour, pattern, spot_suffix]\n",
        "    return \" \".join(p for p in parts if p)\n"
      ]
    },
    {
      "cell_type": "code",
      "execution_count": 6,
      "id": "7",
      "metadata": {
        "colab": {
          "base_uri": "https://localhost:8080/"
        },
        "id": "7",
        "outputId": "f5c61016-1164-4d07-cf32-4a5048b73867"
      },
      "outputs": [
        {
          "output_type": "stream",
          "name": "stdout",
          "text": [
            "Red/Cream carries Sable\n",
            "Red/Cream carries Phantom\n",
            "Red/Cream (brown nose)\n",
            "Red/Cream carries Brindle\n",
            "Brown Phantom\n"
          ]
        }
      ],
      "source": [
        "# ee + kyky + ay  → carries Sable\n",
        "print(predict_colour(\"BB\",\"ee\",\"kyky\",\"ay\",\"at\",\"SS\"))\n",
        "#   Red/Cream carries Sable\n",
        "\n",
        "# ee + kyky + at  → carries Phantom\n",
        "print(predict_colour(\"BB\",\"ee\",\"kyky\",\"at\",\"aw\",\"SS\"))\n",
        "#   Red/Cream carries Phantom\n",
        "\n",
        "# ee + kyky + a/a  → just Red/Cream\n",
        "print(predict_colour(\"bb\",\"ee\",\"kyky\",\"a\",\"a\",\"SS\"))\n",
        "#   Red/Cream\n",
        "\n",
        "# ee + Kbr  → carries Brindle (unchanged)\n",
        "print(predict_colour(\"BB\",\"ee\",\"Kbrky\",\"ay\",\"at\",\"SS\"))\n",
        "#   Red/Cream carries Brindle\n",
        "\n",
        "# non-ee kyky atat  → Phantom Black (pattern shows)\n",
        "print(predict_colour(\"bb\",\"EE\",\"kyky\",\"at\",\"at\",\"SS\"))\n",
        "#   Phantom Black\n"
      ]
    },
    {
      "cell_type": "code",
      "execution_count": 7,
      "id": "8",
      "metadata": {
        "id": "8"
      },
      "outputs": [],
      "source": [
        "## 5. Bulk Conversion of Your CSV"
      ]
    },
    {
      "cell_type": "code",
      "execution_count": 8,
      "id": "9",
      "metadata": {
        "id": "9"
      },
      "outputs": [],
      "source": [
        "## 6. Interactive Playground"
      ]
    },
    {
      "cell_type": "code",
      "execution_count": 9,
      "id": "10",
      "metadata": {
        "colab": {
          "base_uri": "https://localhost:8080/",
          "height": 238,
          "referenced_widgets": [
            "a9a096595b724b7bab4561dfae0d068e",
            "c9d7a0d0ff5f4a67a7625d2f66457f29",
            "2abaca6d4e43409ab5523e94e5cf7823",
            "8d3a5d8345f84dab924ebacc8f18f24e",
            "0fa5df95082a4af890d5813e6b1ef636",
            "8b8bdb6f58d24851a18d244461156b28",
            "364af68aac704708b20eacb616aa5d03",
            "2980790e4e3c412293e64b69776ca65b",
            "1f811d122da14defaa98802f085e7d8f",
            "3dc77e35915442a0b1612ae6d5574228",
            "651a380cf06a409fa4e67219dfde55c0",
            "f37ffd0d03b74d2ca3cf98e5cbea6a5d",
            "59ffeb5d874f4220887a2d47639f0591",
            "25d0f069f941434a994e6c593df9e580",
            "4696fa89432d4d14894bf34479ae4e41",
            "fcc0ce2d915c4e0fa5d96cd7b2e2ddb2",
            "80c678912ecc4b41804d6d6fff7dec0c",
            "d304356ae95047d582ce8f62080ba084",
            "01108d29b5344a07a3bf952654d7a329",
            "d4dce9e1d0f14ebd836c80f3b507d1cd"
          ]
        },
        "id": "10",
        "outputId": "a164e698-ae7a-470b-8246-025afa269a74"
      },
      "outputs": [
        {
          "output_type": "display_data",
          "data": {
            "text/plain": [
              "ToggleButtons(description='B locus:', options=(('BB (black)', 'BB'), ('Bb (black)', 'Bb'), ('bb (brown)', 'bb'…"
            ],
            "application/vnd.jupyter.widget-view+json": {
              "version_major": 2,
              "version_minor": 0,
              "model_id": "a9a096595b724b7bab4561dfae0d068e"
            }
          },
          "metadata": {}
        },
        {
          "output_type": "display_data",
          "data": {
            "text/plain": [
              "ToggleButtons(description='E locus:', options=(('EE (permits)', 'EE'), ('Ee (permits)', 'Ee'), ('ee (red/cream…"
            ],
            "application/vnd.jupyter.widget-view+json": {
              "version_major": 2,
              "version_minor": 0,
              "model_id": "8d3a5d8345f84dab924ebacc8f18f24e"
            }
          },
          "metadata": {}
        },
        {
          "output_type": "display_data",
          "data": {
            "text/plain": [
              "ToggleButtons(description='K locus:', options=(('KB/KB', 'KBKB'), ('Kbr/ky', 'Kbrky'), ('ky/ky', 'kyky')), val…"
            ],
            "application/vnd.jupyter.widget-view+json": {
              "version_major": 2,
              "version_minor": 0,
              "model_id": "364af68aac704708b20eacb616aa5d03"
            }
          },
          "metadata": {}
        },
        {
          "output_type": "display_data",
          "data": {
            "text/plain": [
              "ToggleButtons(description='A-1:', options=(('ay', 'ay'), ('at', 'at'), ('aw', 'aw'), ('a', 'a')), value='ay')"
            ],
            "application/vnd.jupyter.widget-view+json": {
              "version_major": 2,
              "version_minor": 0,
              "model_id": "3dc77e35915442a0b1612ae6d5574228"
            }
          },
          "metadata": {}
        },
        {
          "output_type": "display_data",
          "data": {
            "text/plain": [
              "ToggleButtons(description='A-2:', options=(('ay', 'ay'), ('at', 'at'), ('aw', 'aw'), ('a', 'a')), value='ay')"
            ],
            "application/vnd.jupyter.widget-view+json": {
              "version_major": 2,
              "version_minor": 0,
              "model_id": "59ffeb5d874f4220887a2d47639f0591"
            }
          },
          "metadata": {}
        },
        {
          "output_type": "display_data",
          "data": {
            "text/plain": [
              "ToggleButtons(description='S locus:', options=(('SS (solid)', 'SS'), ('Ssp (carrier)', 'Ssp'), ('sp/sp (parti)…"
            ],
            "application/vnd.jupyter.widget-view+json": {
              "version_major": 2,
              "version_minor": 0,
              "model_id": "fcc0ce2d915c4e0fa5d96cd7b2e2ddb2"
            }
          },
          "metadata": {}
        },
        {
          "output_type": "display_data",
          "data": {
            "text/plain": [
              "Output()"
            ],
            "application/vnd.jupyter.widget-view+json": {
              "version_major": 2,
              "version_minor": 0,
              "model_id": "01108d29b5344a07a3bf952654d7a329"
            }
          },
          "metadata": {}
        }
      ],
      "source": [
        "def show_interactive():\n",
        "    # --- B locus ----------------------------------------------------------\n",
        "    b_btn = widgets.ToggleButtons(\n",
        "        options=[(\"BB (black)\", \"BB\"),\n",
        "                 (\"Bb (black)\", \"Bb\"),\n",
        "                 (\"bb (brown)\", \"bb\")],\n",
        "        description=\"B locus:\",\n",
        "    )\n",
        "\n",
        "    # --- E locus ----------------------------------------------------------\n",
        "    e_btn = widgets.ToggleButtons(\n",
        "        options=[(\"EE (permits)\", \"EE\"),\n",
        "                 (\"Ee (permits)\", \"Ee\"),\n",
        "                 (\"ee (red/cream)\", \"ee\")],\n",
        "        description=\"E locus:\",\n",
        "    )\n",
        "\n",
        "    # --- K locus ----------------------------------------------------------\n",
        "    k_btn = widgets.ToggleButtons(\n",
        "        options=[(\"KB/KB\",  \"KBKB\"),\n",
        "                 (\"Kbr/ky\", \"Kbrky\"),\n",
        "                 (\"ky/ky\",  \"kyky\")],\n",
        "        description=\"K locus:\",\n",
        "    )\n",
        "\n",
        "    # --- A locus (two alleles) -------------------------------------------\n",
        "    a1_btn = widgets.ToggleButtons(\n",
        "        description=\"A-1:\",\n",
        "        options=[(\"ay\", \"ay\"), (\"at\", \"at\"), (\"aw\", \"aw\"), (\"a\", \"a\")],\n",
        "    )\n",
        "    a2_btn = widgets.ToggleButtons(\n",
        "        description=\"A-2:\",\n",
        "        options=[(\"ay\", \"ay\"), (\"at\", \"at\"), (\"aw\", \"aw\"), (\"a\", \"a\")],\n",
        "    )\n",
        "\n",
        "    # --- Spotting ---------------------------------------------------------\n",
        "    s_btn = widgets.ToggleButtons(\n",
        "        description=\"S locus:\",\n",
        "        options=[(\"SS (solid)\",  \"SS\"),\n",
        "                 (\"Ssp (carrier)\", \"Ssp\"),\n",
        "                 (\"sp/sp (parti)\", \"spsp\")],\n",
        "    )\n",
        "\n",
        "    # --------- live output area ------------------------------------------\n",
        "    out = widgets.Output()\n",
        "\n",
        "    def update(_=None):\n",
        "        colour = predict_colour(\n",
        "            b_btn.value,\n",
        "            e_btn.value,\n",
        "            k_btn.value,\n",
        "            a1_btn.value,\n",
        "            a2_btn.value,\n",
        "            s_btn.value\n",
        "        )\n",
        "        with out:\n",
        "            out.clear_output()\n",
        "            display(HTML(f\"<h3>{colour}</h3>\"))\n",
        "\n",
        "    # fire once at start\n",
        "    update()\n",
        "\n",
        "    # listen for *any* change\n",
        "    for w in (b_btn, e_btn, k_btn, a1_btn, a2_btn, s_btn):\n",
        "        w.observe(update, names=\"value\")\n",
        "\n",
        "    display(b_btn, e_btn, k_btn, a1_btn, a2_btn, s_btn, out)\n",
        "\n",
        "# run it\n",
        "show_interactive()\n"
      ]
    },
    {
      "cell_type": "code",
      "execution_count": 10,
      "id": "11",
      "metadata": {
        "id": "11"
      },
      "outputs": [],
      "source": [
        "## 7. Visual Summary"
      ]
    },
    {
      "cell_type": "code",
      "execution_count": 11,
      "id": "12",
      "metadata": {
        "id": "12"
      },
      "outputs": [],
      "source": [
        "## 8. Further Reading"
      ]
    }
  ],
  "metadata": {
    "colab": {
      "provenance": [],
      "include_colab_link": true
    },
    "kernelspec": {
      "display_name": "Python 3",
      "name": "python3"
    },
    "language_info": {
      "name": "python"
    },
    "widgets": {
      "application/vnd.jupyter.widget-state+json": {
        "a9a096595b724b7bab4561dfae0d068e": {
          "model_module": "@jupyter-widgets/controls",
          "model_name": "ToggleButtonsModel",
          "model_module_version": "1.5.0",
          "state": {
            "_dom_classes": [],
            "_model_module": "@jupyter-widgets/controls",
            "_model_module_version": "1.5.0",
            "_model_name": "ToggleButtonsModel",
            "_options_labels": [
              "BB (black)",
              "Bb (black)",
              "bb (brown)"
            ],
            "_view_count": null,
            "_view_module": "@jupyter-widgets/controls",
            "_view_module_version": "1.5.0",
            "_view_name": "ToggleButtonsView",
            "button_style": "",
            "description": "B locus:",
            "description_tooltip": null,
            "disabled": false,
            "icons": [],
            "index": 0,
            "layout": "IPY_MODEL_c9d7a0d0ff5f4a67a7625d2f66457f29",
            "style": "IPY_MODEL_2abaca6d4e43409ab5523e94e5cf7823",
            "tooltips": []
          }
        },
        "c9d7a0d0ff5f4a67a7625d2f66457f29": {
          "model_module": "@jupyter-widgets/base",
          "model_name": "LayoutModel",
          "model_module_version": "1.2.0",
          "state": {
            "_model_module": "@jupyter-widgets/base",
            "_model_module_version": "1.2.0",
            "_model_name": "LayoutModel",
            "_view_count": null,
            "_view_module": "@jupyter-widgets/base",
            "_view_module_version": "1.2.0",
            "_view_name": "LayoutView",
            "align_content": null,
            "align_items": null,
            "align_self": null,
            "border": null,
            "bottom": null,
            "display": null,
            "flex": null,
            "flex_flow": null,
            "grid_area": null,
            "grid_auto_columns": null,
            "grid_auto_flow": null,
            "grid_auto_rows": null,
            "grid_column": null,
            "grid_gap": null,
            "grid_row": null,
            "grid_template_areas": null,
            "grid_template_columns": null,
            "grid_template_rows": null,
            "height": null,
            "justify_content": null,
            "justify_items": null,
            "left": null,
            "margin": null,
            "max_height": null,
            "max_width": null,
            "min_height": null,
            "min_width": null,
            "object_fit": null,
            "object_position": null,
            "order": null,
            "overflow": null,
            "overflow_x": null,
            "overflow_y": null,
            "padding": null,
            "right": null,
            "top": null,
            "visibility": null,
            "width": null
          }
        },
        "2abaca6d4e43409ab5523e94e5cf7823": {
          "model_module": "@jupyter-widgets/controls",
          "model_name": "ToggleButtonsStyleModel",
          "model_module_version": "1.5.0",
          "state": {
            "_model_module": "@jupyter-widgets/controls",
            "_model_module_version": "1.5.0",
            "_model_name": "ToggleButtonsStyleModel",
            "_view_count": null,
            "_view_module": "@jupyter-widgets/base",
            "_view_module_version": "1.2.0",
            "_view_name": "StyleView",
            "button_width": "",
            "description_width": "",
            "font_weight": ""
          }
        },
        "8d3a5d8345f84dab924ebacc8f18f24e": {
          "model_module": "@jupyter-widgets/controls",
          "model_name": "ToggleButtonsModel",
          "model_module_version": "1.5.0",
          "state": {
            "_dom_classes": [],
            "_model_module": "@jupyter-widgets/controls",
            "_model_module_version": "1.5.0",
            "_model_name": "ToggleButtonsModel",
            "_options_labels": [
              "EE (permits)",
              "Ee (permits)",
              "ee (red/cream)"
            ],
            "_view_count": null,
            "_view_module": "@jupyter-widgets/controls",
            "_view_module_version": "1.5.0",
            "_view_name": "ToggleButtonsView",
            "button_style": "",
            "description": "E locus:",
            "description_tooltip": null,
            "disabled": false,
            "icons": [],
            "index": 0,
            "layout": "IPY_MODEL_0fa5df95082a4af890d5813e6b1ef636",
            "style": "IPY_MODEL_8b8bdb6f58d24851a18d244461156b28",
            "tooltips": []
          }
        },
        "0fa5df95082a4af890d5813e6b1ef636": {
          "model_module": "@jupyter-widgets/base",
          "model_name": "LayoutModel",
          "model_module_version": "1.2.0",
          "state": {
            "_model_module": "@jupyter-widgets/base",
            "_model_module_version": "1.2.0",
            "_model_name": "LayoutModel",
            "_view_count": null,
            "_view_module": "@jupyter-widgets/base",
            "_view_module_version": "1.2.0",
            "_view_name": "LayoutView",
            "align_content": null,
            "align_items": null,
            "align_self": null,
            "border": null,
            "bottom": null,
            "display": null,
            "flex": null,
            "flex_flow": null,
            "grid_area": null,
            "grid_auto_columns": null,
            "grid_auto_flow": null,
            "grid_auto_rows": null,
            "grid_column": null,
            "grid_gap": null,
            "grid_row": null,
            "grid_template_areas": null,
            "grid_template_columns": null,
            "grid_template_rows": null,
            "height": null,
            "justify_content": null,
            "justify_items": null,
            "left": null,
            "margin": null,
            "max_height": null,
            "max_width": null,
            "min_height": null,
            "min_width": null,
            "object_fit": null,
            "object_position": null,
            "order": null,
            "overflow": null,
            "overflow_x": null,
            "overflow_y": null,
            "padding": null,
            "right": null,
            "top": null,
            "visibility": null,
            "width": null
          }
        },
        "8b8bdb6f58d24851a18d244461156b28": {
          "model_module": "@jupyter-widgets/controls",
          "model_name": "ToggleButtonsStyleModel",
          "model_module_version": "1.5.0",
          "state": {
            "_model_module": "@jupyter-widgets/controls",
            "_model_module_version": "1.5.0",
            "_model_name": "ToggleButtonsStyleModel",
            "_view_count": null,
            "_view_module": "@jupyter-widgets/base",
            "_view_module_version": "1.2.0",
            "_view_name": "StyleView",
            "button_width": "",
            "description_width": "",
            "font_weight": ""
          }
        },
        "364af68aac704708b20eacb616aa5d03": {
          "model_module": "@jupyter-widgets/controls",
          "model_name": "ToggleButtonsModel",
          "model_module_version": "1.5.0",
          "state": {
            "_dom_classes": [],
            "_model_module": "@jupyter-widgets/controls",
            "_model_module_version": "1.5.0",
            "_model_name": "ToggleButtonsModel",
            "_options_labels": [
              "KB/KB",
              "Kbr/ky",
              "ky/ky"
            ],
            "_view_count": null,
            "_view_module": "@jupyter-widgets/controls",
            "_view_module_version": "1.5.0",
            "_view_name": "ToggleButtonsView",
            "button_style": "",
            "description": "K locus:",
            "description_tooltip": null,
            "disabled": false,
            "icons": [],
            "index": 0,
            "layout": "IPY_MODEL_2980790e4e3c412293e64b69776ca65b",
            "style": "IPY_MODEL_1f811d122da14defaa98802f085e7d8f",
            "tooltips": []
          }
        },
        "2980790e4e3c412293e64b69776ca65b": {
          "model_module": "@jupyter-widgets/base",
          "model_name": "LayoutModel",
          "model_module_version": "1.2.0",
          "state": {
            "_model_module": "@jupyter-widgets/base",
            "_model_module_version": "1.2.0",
            "_model_name": "LayoutModel",
            "_view_count": null,
            "_view_module": "@jupyter-widgets/base",
            "_view_module_version": "1.2.0",
            "_view_name": "LayoutView",
            "align_content": null,
            "align_items": null,
            "align_self": null,
            "border": null,
            "bottom": null,
            "display": null,
            "flex": null,
            "flex_flow": null,
            "grid_area": null,
            "grid_auto_columns": null,
            "grid_auto_flow": null,
            "grid_auto_rows": null,
            "grid_column": null,
            "grid_gap": null,
            "grid_row": null,
            "grid_template_areas": null,
            "grid_template_columns": null,
            "grid_template_rows": null,
            "height": null,
            "justify_content": null,
            "justify_items": null,
            "left": null,
            "margin": null,
            "max_height": null,
            "max_width": null,
            "min_height": null,
            "min_width": null,
            "object_fit": null,
            "object_position": null,
            "order": null,
            "overflow": null,
            "overflow_x": null,
            "overflow_y": null,
            "padding": null,
            "right": null,
            "top": null,
            "visibility": null,
            "width": null
          }
        },
        "1f811d122da14defaa98802f085e7d8f": {
          "model_module": "@jupyter-widgets/controls",
          "model_name": "ToggleButtonsStyleModel",
          "model_module_version": "1.5.0",
          "state": {
            "_model_module": "@jupyter-widgets/controls",
            "_model_module_version": "1.5.0",
            "_model_name": "ToggleButtonsStyleModel",
            "_view_count": null,
            "_view_module": "@jupyter-widgets/base",
            "_view_module_version": "1.2.0",
            "_view_name": "StyleView",
            "button_width": "",
            "description_width": "",
            "font_weight": ""
          }
        },
        "3dc77e35915442a0b1612ae6d5574228": {
          "model_module": "@jupyter-widgets/controls",
          "model_name": "ToggleButtonsModel",
          "model_module_version": "1.5.0",
          "state": {
            "_dom_classes": [],
            "_model_module": "@jupyter-widgets/controls",
            "_model_module_version": "1.5.0",
            "_model_name": "ToggleButtonsModel",
            "_options_labels": [
              "ay",
              "at",
              "aw",
              "a"
            ],
            "_view_count": null,
            "_view_module": "@jupyter-widgets/controls",
            "_view_module_version": "1.5.0",
            "_view_name": "ToggleButtonsView",
            "button_style": "",
            "description": "A-1:",
            "description_tooltip": null,
            "disabled": false,
            "icons": [],
            "index": 0,
            "layout": "IPY_MODEL_651a380cf06a409fa4e67219dfde55c0",
            "style": "IPY_MODEL_f37ffd0d03b74d2ca3cf98e5cbea6a5d",
            "tooltips": []
          }
        },
        "651a380cf06a409fa4e67219dfde55c0": {
          "model_module": "@jupyter-widgets/base",
          "model_name": "LayoutModel",
          "model_module_version": "1.2.0",
          "state": {
            "_model_module": "@jupyter-widgets/base",
            "_model_module_version": "1.2.0",
            "_model_name": "LayoutModel",
            "_view_count": null,
            "_view_module": "@jupyter-widgets/base",
            "_view_module_version": "1.2.0",
            "_view_name": "LayoutView",
            "align_content": null,
            "align_items": null,
            "align_self": null,
            "border": null,
            "bottom": null,
            "display": null,
            "flex": null,
            "flex_flow": null,
            "grid_area": null,
            "grid_auto_columns": null,
            "grid_auto_flow": null,
            "grid_auto_rows": null,
            "grid_column": null,
            "grid_gap": null,
            "grid_row": null,
            "grid_template_areas": null,
            "grid_template_columns": null,
            "grid_template_rows": null,
            "height": null,
            "justify_content": null,
            "justify_items": null,
            "left": null,
            "margin": null,
            "max_height": null,
            "max_width": null,
            "min_height": null,
            "min_width": null,
            "object_fit": null,
            "object_position": null,
            "order": null,
            "overflow": null,
            "overflow_x": null,
            "overflow_y": null,
            "padding": null,
            "right": null,
            "top": null,
            "visibility": null,
            "width": null
          }
        },
        "f37ffd0d03b74d2ca3cf98e5cbea6a5d": {
          "model_module": "@jupyter-widgets/controls",
          "model_name": "ToggleButtonsStyleModel",
          "model_module_version": "1.5.0",
          "state": {
            "_model_module": "@jupyter-widgets/controls",
            "_model_module_version": "1.5.0",
            "_model_name": "ToggleButtonsStyleModel",
            "_view_count": null,
            "_view_module": "@jupyter-widgets/base",
            "_view_module_version": "1.2.0",
            "_view_name": "StyleView",
            "button_width": "",
            "description_width": "",
            "font_weight": ""
          }
        },
        "59ffeb5d874f4220887a2d47639f0591": {
          "model_module": "@jupyter-widgets/controls",
          "model_name": "ToggleButtonsModel",
          "model_module_version": "1.5.0",
          "state": {
            "_dom_classes": [],
            "_model_module": "@jupyter-widgets/controls",
            "_model_module_version": "1.5.0",
            "_model_name": "ToggleButtonsModel",
            "_options_labels": [
              "ay",
              "at",
              "aw",
              "a"
            ],
            "_view_count": null,
            "_view_module": "@jupyter-widgets/controls",
            "_view_module_version": "1.5.0",
            "_view_name": "ToggleButtonsView",
            "button_style": "",
            "description": "A-2:",
            "description_tooltip": null,
            "disabled": false,
            "icons": [],
            "index": 0,
            "layout": "IPY_MODEL_25d0f069f941434a994e6c593df9e580",
            "style": "IPY_MODEL_4696fa89432d4d14894bf34479ae4e41",
            "tooltips": []
          }
        },
        "25d0f069f941434a994e6c593df9e580": {
          "model_module": "@jupyter-widgets/base",
          "model_name": "LayoutModel",
          "model_module_version": "1.2.0",
          "state": {
            "_model_module": "@jupyter-widgets/base",
            "_model_module_version": "1.2.0",
            "_model_name": "LayoutModel",
            "_view_count": null,
            "_view_module": "@jupyter-widgets/base",
            "_view_module_version": "1.2.0",
            "_view_name": "LayoutView",
            "align_content": null,
            "align_items": null,
            "align_self": null,
            "border": null,
            "bottom": null,
            "display": null,
            "flex": null,
            "flex_flow": null,
            "grid_area": null,
            "grid_auto_columns": null,
            "grid_auto_flow": null,
            "grid_auto_rows": null,
            "grid_column": null,
            "grid_gap": null,
            "grid_row": null,
            "grid_template_areas": null,
            "grid_template_columns": null,
            "grid_template_rows": null,
            "height": null,
            "justify_content": null,
            "justify_items": null,
            "left": null,
            "margin": null,
            "max_height": null,
            "max_width": null,
            "min_height": null,
            "min_width": null,
            "object_fit": null,
            "object_position": null,
            "order": null,
            "overflow": null,
            "overflow_x": null,
            "overflow_y": null,
            "padding": null,
            "right": null,
            "top": null,
            "visibility": null,
            "width": null
          }
        },
        "4696fa89432d4d14894bf34479ae4e41": {
          "model_module": "@jupyter-widgets/controls",
          "model_name": "ToggleButtonsStyleModel",
          "model_module_version": "1.5.0",
          "state": {
            "_model_module": "@jupyter-widgets/controls",
            "_model_module_version": "1.5.0",
            "_model_name": "ToggleButtonsStyleModel",
            "_view_count": null,
            "_view_module": "@jupyter-widgets/base",
            "_view_module_version": "1.2.0",
            "_view_name": "StyleView",
            "button_width": "",
            "description_width": "",
            "font_weight": ""
          }
        },
        "fcc0ce2d915c4e0fa5d96cd7b2e2ddb2": {
          "model_module": "@jupyter-widgets/controls",
          "model_name": "ToggleButtonsModel",
          "model_module_version": "1.5.0",
          "state": {
            "_dom_classes": [],
            "_model_module": "@jupyter-widgets/controls",
            "_model_module_version": "1.5.0",
            "_model_name": "ToggleButtonsModel",
            "_options_labels": [
              "SS (solid)",
              "Ssp (carrier)",
              "sp/sp (parti)"
            ],
            "_view_count": null,
            "_view_module": "@jupyter-widgets/controls",
            "_view_module_version": "1.5.0",
            "_view_name": "ToggleButtonsView",
            "button_style": "",
            "description": "S locus:",
            "description_tooltip": null,
            "disabled": false,
            "icons": [],
            "index": 0,
            "layout": "IPY_MODEL_80c678912ecc4b41804d6d6fff7dec0c",
            "style": "IPY_MODEL_d304356ae95047d582ce8f62080ba084",
            "tooltips": []
          }
        },
        "80c678912ecc4b41804d6d6fff7dec0c": {
          "model_module": "@jupyter-widgets/base",
          "model_name": "LayoutModel",
          "model_module_version": "1.2.0",
          "state": {
            "_model_module": "@jupyter-widgets/base",
            "_model_module_version": "1.2.0",
            "_model_name": "LayoutModel",
            "_view_count": null,
            "_view_module": "@jupyter-widgets/base",
            "_view_module_version": "1.2.0",
            "_view_name": "LayoutView",
            "align_content": null,
            "align_items": null,
            "align_self": null,
            "border": null,
            "bottom": null,
            "display": null,
            "flex": null,
            "flex_flow": null,
            "grid_area": null,
            "grid_auto_columns": null,
            "grid_auto_flow": null,
            "grid_auto_rows": null,
            "grid_column": null,
            "grid_gap": null,
            "grid_row": null,
            "grid_template_areas": null,
            "grid_template_columns": null,
            "grid_template_rows": null,
            "height": null,
            "justify_content": null,
            "justify_items": null,
            "left": null,
            "margin": null,
            "max_height": null,
            "max_width": null,
            "min_height": null,
            "min_width": null,
            "object_fit": null,
            "object_position": null,
            "order": null,
            "overflow": null,
            "overflow_x": null,
            "overflow_y": null,
            "padding": null,
            "right": null,
            "top": null,
            "visibility": null,
            "width": null
          }
        },
        "d304356ae95047d582ce8f62080ba084": {
          "model_module": "@jupyter-widgets/controls",
          "model_name": "ToggleButtonsStyleModel",
          "model_module_version": "1.5.0",
          "state": {
            "_model_module": "@jupyter-widgets/controls",
            "_model_module_version": "1.5.0",
            "_model_name": "ToggleButtonsStyleModel",
            "_view_count": null,
            "_view_module": "@jupyter-widgets/base",
            "_view_module_version": "1.2.0",
            "_view_name": "StyleView",
            "button_width": "",
            "description_width": "",
            "font_weight": ""
          }
        },
        "01108d29b5344a07a3bf952654d7a329": {
          "model_module": "@jupyter-widgets/output",
          "model_name": "OutputModel",
          "model_module_version": "1.0.0",
          "state": {
            "_dom_classes": [],
            "_model_module": "@jupyter-widgets/output",
            "_model_module_version": "1.0.0",
            "_model_name": "OutputModel",
            "_view_count": null,
            "_view_module": "@jupyter-widgets/output",
            "_view_module_version": "1.0.0",
            "_view_name": "OutputView",
            "layout": "IPY_MODEL_d4dce9e1d0f14ebd836c80f3b507d1cd",
            "msg_id": "",
            "outputs": [
              {
                "output_type": "display_data",
                "data": {
                  "text/plain": "<IPython.core.display.HTML object>",
                  "text/html": "<h3>Black</h3>"
                },
                "metadata": {}
              }
            ]
          }
        },
        "d4dce9e1d0f14ebd836c80f3b507d1cd": {
          "model_module": "@jupyter-widgets/base",
          "model_name": "LayoutModel",
          "model_module_version": "1.2.0",
          "state": {
            "_model_module": "@jupyter-widgets/base",
            "_model_module_version": "1.2.0",
            "_model_name": "LayoutModel",
            "_view_count": null,
            "_view_module": "@jupyter-widgets/base",
            "_view_module_version": "1.2.0",
            "_view_name": "LayoutView",
            "align_content": null,
            "align_items": null,
            "align_self": null,
            "border": null,
            "bottom": null,
            "display": null,
            "flex": null,
            "flex_flow": null,
            "grid_area": null,
            "grid_auto_columns": null,
            "grid_auto_flow": null,
            "grid_auto_rows": null,
            "grid_column": null,
            "grid_gap": null,
            "grid_row": null,
            "grid_template_areas": null,
            "grid_template_columns": null,
            "grid_template_rows": null,
            "height": null,
            "justify_content": null,
            "justify_items": null,
            "left": null,
            "margin": null,
            "max_height": null,
            "max_width": null,
            "min_height": null,
            "min_width": null,
            "object_fit": null,
            "object_position": null,
            "order": null,
            "overflow": null,
            "overflow_x": null,
            "overflow_y": null,
            "padding": null,
            "right": null,
            "top": null,
            "visibility": null,
            "width": null
          }
        }
      }
    }
  },
  "nbformat": 4,
  "nbformat_minor": 5
}