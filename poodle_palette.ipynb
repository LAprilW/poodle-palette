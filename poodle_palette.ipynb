{
  "cells": [
    {
      "cell_type": "markdown",
      "metadata": {
        "id": "view-in-github",
        "colab_type": "text"
      },
      "source": [
        "<a href=\"https://colab.research.google.com/github/LAprilW/poodle-palette/blob/main/poodle_palette.ipynb\" target=\"_parent\"><img src=\"https://colab.research.google.com/assets/colab-badge.svg\" alt=\"Open In Colab\"/></a>"
      ]
    },
    {
      "cell_type": "markdown",
      "id": "0",
      "metadata": {
        "id": "0"
      },
      "source": [
        "# 🐩 Poodle Palette – Genotype → Phenotype Tutor\n",
        "Welcome! In this notebook you’ll learn how two key genes (B and E) create the classic Poodle coat colours—and you’ll see the result for *any* genotype you enter."
      ]
    },
    {
      "cell_type": "code",
      "execution_count": null,
      "id": "1",
      "metadata": {
        "id": "1"
      },
      "outputs": [],
      "source": [
        "# 📦 Setup\n",
        "# If running locally, make sure pandas and matplotlib are installed.\n",
        "# In Google Colab these come pre‑installed.\n",
        "import pandas as pd\n",
        "import matplotlib.pyplot as plt\n",
        "\n",
        "# Display plots inline\n",
        "%matplotlib inline\n"
      ]
    },
    {
      "cell_type": "markdown",
      "id": "2",
      "metadata": {
        "id": "2"
      },
      "source": [
        "## 🎓 2. Genetic Background\n",
        "Poodle colours hinge mainly on two loci:\n",
        "\n",
        "| Locus | Dominant / recessive | What it controls |\n",
        "|-------|----------------------|------------------|\n",
        "| **B** | **B** = black pigment<br>**b** = brown pigment | `bb` turns all black areas brown (“liver”). |\n",
        "| **E** | **E** = allows black/brown<br>**e** = blocks black → red/cream | `ee` dogs show only red/cream pigment. |\n",
        "\n",
        "*We’ll ignore rarer loci (Dilute, Spotting) to keep the demo bite-sized.*"
      ]
    },
    {
      "cell_type": "code",
      "execution_count": null,
      "id": "3",
      "metadata": {
        "id": "3"
      },
      "outputs": [],
      "source": [
        "## 3. Imports + Helper Dictionaries\n"
      ]
    },
    {
      "cell_type": "code",
      "execution_count": null,
      "id": "4",
      "metadata": {
        "id": "4"
      },
      "outputs": [],
      "source": [
        "# 📦 Standard data-science imports\n",
        "import pandas as pd\n",
        "import matplotlib.pyplot as plt\n",
        "\n",
        "# 📚 Teaching widgets (for the interactive allele picker we’ll add later)\n",
        "from IPython.display import HTML\n",
        "import ipywidgets as widgets\n",
        "\n",
        "# 🖼️ Show charts inside the notebook\n",
        "%matplotlib inline\n",
        "\n",
        "# ────────────────────────────────────────────────────────────────\n",
        "# Helper dictionaries for quick look-ups at each locus\n",
        "# These will be used by predict_colour() in the next section.\n",
        "\n",
        "# B-locus (black vs. brown pigment)\n",
        "B_LOCUS = {\n",
        "    \"BB\": \"Black\",\n",
        "    \"Bb\": \"Black\",\n",
        "    \"bb\": \"Brown\"\n",
        "}\n",
        "\n",
        "# E-locus (extension / red-cream override)\n",
        "E_LOCUS = {\n",
        "    \"EE\": \"Allows black/brown\",\n",
        "    \"Ee\": \"Allows black/brown\",\n",
        "    \"ee\": \"Red/Cream (blocks black)\"}\n",
        "\n",
        "# Spotting / Parti – dominant solid S, recessive parti sp\n",
        "S_LOCUS = {\n",
        "    \"SS\": \"solid\",\n",
        "    \"Ssp\": \"solid (carrier)\",\n",
        "    \"spsp\": \"parti\"\n",
        "}\n",
        "\n",
        "# K-locus hierarchy  KB  >  Kbr  >  ky\n",
        "K_HIERARCHY = [\"KB\", \"Kbr\", \"ky\"]    # first one present wins\n",
        "\n",
        "# A-locus hierarchy  ay  >  at  >  aw  >  a\n",
        "A_HIERARCHY = [\"ay\", \"at\", \"aw\", \"a\"]\n"
      ]
    },
    {
      "cell_type": "code",
      "execution_count": null,
      "id": "5",
      "metadata": {
        "id": "5"
      },
      "outputs": [],
      "source": [
        "## 4. Function `predict_colour()`"
      ]
    },
    {
      "cell_type": "code",
      "execution_count": null,
      "id": "6",
      "metadata": {
        "id": "6"
      },
      "outputs": [],
      "source": [
        "K_HIERARCHY = [\"Kbr\", \"KB\"]\n",
        "A_HIERARCHY = [\"ay\", \"at\", \"aw\", \"a\"]\n",
        "A_LABELS    = {\"ay\": \"Sable\", \"at\": \"Phantom\", \"aw\": \"Agouti\"}\n",
        "\n",
        "def predict_colour(b_pair: str, e_pair: str,\n",
        "                   k_pair: str,\n",
        "                   a1: str, a2: str,\n",
        "                   s_pair: str) -> str:\n",
        "    \"\"\"Return plain-English Poodle coat description with carrier notes.\"\"\"\n",
        "\n",
        "    recessive_red = (e_pair == \"ee\")\n",
        "    brown_base    = (b_pair == \"bb\")\n",
        "\n",
        "    # ── 1. Base colour ────────────────────────────────────────────────\n",
        "    if recessive_red:\n",
        "        base_colour = \"Red/Cream\" + (\" (brown nose)\" if brown_base else \"\")\n",
        "    else:\n",
        "        base_colour = \"Brown\" if brown_base else \"Black\"\n",
        "\n",
        "    # ── 2. K winner ──────────────────────────────────────────────────\n",
        "    if \"Kbr\" in k_pair:\n",
        "        k_dom = \"Kbr\"\n",
        "    elif \"KB\" in k_pair:\n",
        "        k_dom = \"KB\"\n",
        "    else:\n",
        "        k_dom = \"ky\"\n",
        "\n",
        "    # ── 3. Dominant A allele ─────────────────────────────────────────\n",
        "    dom_a = next(a for a in A_HIERARCHY if a in (a1 + a2))\n",
        "\n",
        "    # ── 4. Pattern / carrier text (brindle, sable, etc.) ─────────────\n",
        "    pattern = \"\"\n",
        "    if recessive_red:\n",
        "        if k_dom == \"Kbr\":\n",
        "            pattern = \"carries Brindle\"\n",
        "        elif k_dom == \"ky\" and dom_a != \"a\":\n",
        "            pattern = f\"carries {A_LABELS[dom_a]}\"\n",
        "    else:\n",
        "        if k_dom == \"KB\":\n",
        "            pattern = \"\"\n",
        "        elif k_dom == \"Kbr\":\n",
        "            pattern = \"\" if dom_a == \"a\" else \"Brindle\"\n",
        "        else:  # kyky\n",
        "            pattern = A_LABELS.get(dom_a, \"\")\n",
        "\n",
        "    # ── 5. Spotting / Parti text ─────────────────────────────────────\n",
        "    spot_prefix = \"Parti\" if s_pair.lower().endswith(\"spsp\") else \"\"\n",
        "    spot_suffix = \"carries Parti\" if s_pair == \"Ssp\" or s_pair.lower() == \"ssp\" else \"\"\n",
        "\n",
        "    # ── 6. Assemble, keep spaces tidy ────────────────────────────────\n",
        "    parts = [spot_prefix, base_colour, pattern, spot_suffix]\n",
        "    return \" \".join(p for p in parts if p)\n"
      ]
    },
    {
      "cell_type": "code",
      "execution_count": null,
      "id": "7",
      "metadata": {
        "id": "7"
      },
      "outputs": [],
      "source": [
        "# ee + kyky + ay  → carries Sable\n",
        "print(predict_colour(\"BB\",\"ee\",\"kyky\",\"ay\",\"at\",\"SS\"))\n",
        "#   Red/Cream carries Sable\n",
        "\n",
        "# ee + kyky + at  → carries Phantom\n",
        "print(predict_colour(\"BB\",\"ee\",\"kyky\",\"at\",\"aw\",\"SS\"))\n",
        "#   Red/Cream carries Phantom\n",
        "\n",
        "# ee + kyky + a/a  → just Red/Cream\n",
        "print(predict_colour(\"bb\",\"ee\",\"kyky\",\"a\",\"a\",\"SS\"))\n",
        "#   Red/Cream\n",
        "\n",
        "# ee + Kbr  → carries Brindle (unchanged)\n",
        "print(predict_colour(\"BB\",\"ee\",\"Kbrky\",\"ay\",\"at\",\"SS\"))\n",
        "#   Red/Cream carries Brindle\n",
        "\n",
        "# non-ee kyky atat  → Phantom Black (pattern shows)\n",
        "print(predict_colour(\"bb\",\"EE\",\"kyky\",\"at\",\"at\",\"SS\"))\n",
        "#   Phantom Black\n"
      ]
    },
    {
      "cell_type": "code",
      "execution_count": null,
      "id": "8",
      "metadata": {
        "id": "8"
      },
      "outputs": [],
      "source": [
        "## 5. Bulk Conversion of Your CSV"
      ]
    },
    {
      "cell_type": "code",
      "execution_count": null,
      "id": "9",
      "metadata": {
        "id": "9"
      },
      "outputs": [],
      "source": [
        "## 6. Interactive Playground"
      ]
    },
    {
      "cell_type": "code",
      "execution_count": null,
      "id": "10",
      "metadata": {
        "id": "10"
      },
      "outputs": [],
      "source": [
        "def show_interactive():\n",
        "    # --- B locus ----------------------------------------------------------\n",
        "    b_btn = widgets.ToggleButtons(\n",
        "        options=[(\"BB (black)\", \"BB\"),\n",
        "                 (\"Bb (black)\", \"Bb\"),\n",
        "                 (\"bb (brown)\", \"bb\")],\n",
        "        description=\"B locus:\",\n",
        "    )\n",
        "\n",
        "    # --- E locus ----------------------------------------------------------\n",
        "    e_btn = widgets.ToggleButtons(\n",
        "        options=[(\"EE (permits)\", \"EE\"),\n",
        "                 (\"Ee (permits)\", \"Ee\"),\n",
        "                 (\"ee (red/cream)\", \"ee\")],\n",
        "        description=\"E locus:\",\n",
        "    )\n",
        "\n",
        "    # --- K locus ----------------------------------------------------------\n",
        "    k_btn = widgets.ToggleButtons(\n",
        "        options=[(\"KB/KB\",  \"KBKB\"),\n",
        "                 (\"Kbr/ky\", \"Kbrky\"),\n",
        "                 (\"ky/ky\",  \"kyky\")],\n",
        "        description=\"K locus:\",\n",
        "    )\n",
        "\n",
        "    # --- A locus (two alleles) -------------------------------------------\n",
        "    a1_btn = widgets.ToggleButtons(\n",
        "        description=\"A-1:\",\n",
        "        options=[(\"ay\", \"ay\"), (\"at\", \"at\"), (\"aw\", \"aw\"), (\"a\", \"a\")],\n",
        "    )\n",
        "    a2_btn = widgets.ToggleButtons(\n",
        "        description=\"A-2:\",\n",
        "        options=[(\"ay\", \"ay\"), (\"at\", \"at\"), (\"aw\", \"aw\"), (\"a\", \"a\")],\n",
        "    )\n",
        "\n",
        "    # --- Spotting ---------------------------------------------------------\n",
        "    s_btn = widgets.ToggleButtons(\n",
        "        description=\"S locus:\",\n",
        "        options=[(\"SS (solid)\",  \"SS\"),\n",
        "                 (\"Ssp (carrier)\", \"Ssp\"),\n",
        "                 (\"sp/sp (parti)\", \"spsp\")],\n",
        "    )\n",
        "\n",
        "    # --------- live output area ------------------------------------------\n",
        "    out = widgets.Output()\n",
        "\n",
        "    def update(_=None):\n",
        "        colour = predict_colour(\n",
        "            b_btn.value,\n",
        "            e_btn.value,\n",
        "            k_btn.value,\n",
        "            a1_btn.value,\n",
        "            a2_btn.value,\n",
        "            s_btn.value\n",
        "        )\n",
        "        with out:\n",
        "            out.clear_output()\n",
        "            display(HTML(f\"<h3>{colour}</h3>\"))\n",
        "\n",
        "    # fire once at start\n",
        "    update()\n",
        "\n",
        "    # listen for *any* change\n",
        "    for w in (b_btn, e_btn, k_btn, a1_btn, a2_btn, s_btn):\n",
        "        w.observe(update, names=\"value\")\n",
        "\n",
        "    display(b_btn, e_btn, k_btn, a1_btn, a2_btn, s_btn, out)\n",
        "\n",
        "# run it\n",
        "show_interactive()\n"
      ]
    },
    {
      "cell_type": "code",
      "execution_count": null,
      "id": "11",
      "metadata": {
        "id": "11"
      },
      "outputs": [],
      "source": [
        "## 7. Visual Summary"
      ]
    },
    {
      "cell_type": "code",
      "execution_count": null,
      "id": "12",
      "metadata": {
        "id": "12"
      },
      "outputs": [],
      "source": [
        "## 8. Further Reading"
      ]
    }
  ],
  "metadata": {
    "colab": {
      "provenance": [],
      "include_colab_link": true
    },
    "kernelspec": {
      "display_name": "Python 3",
      "name": "python3"
    },
    "language_info": {
      "name": "python"
    }
  },
  "nbformat": 4,
  "nbformat_minor": 5
}