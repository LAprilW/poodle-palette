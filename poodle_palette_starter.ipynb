{
  "cells": [
    {
      "cell_type": "markdown",
      "id": "11038978",
      "metadata": {
        "id": "11038978"
      },
      "source": [
        "# 🐩 Poodle Palette – Genotype → Phenotype Tutor\n",
        "Welcome! In this notebook you’ll learn how two key genes (B and E) create the classic Poodle coat colours—and you’ll see the result for *any* genotype you enter."
      ]
    },
    {
      "cell_type": "code",
      "execution_count": 1,
      "id": "f4e13390",
      "metadata": {
        "id": "f4e13390"
      },
      "outputs": [],
      "source": [
        "# 📦 Setup\n",
        "# If running locally, make sure pandas and matplotlib are installed.\n",
        "# In Google Colab these come pre‑installed.\n",
        "import pandas as pd\n",
        "import matplotlib.pyplot as plt\n",
        "\n",
        "# Display plots inline\n",
        "%matplotlib inline\n"
      ]
    },
    {
      "cell_type": "markdown",
      "source": [
        "## 🎓 2. Genetic Background\n",
        "Poodle colours hinge mainly on two loci:\n",
        "\n",
        "| Locus | Dominant / recessive | What it controls |\n",
        "|-------|----------------------|------------------|\n",
        "| **B** | **B** = black pigment<br>**b** = brown pigment | `bb` turns all black areas brown (“liver”). |\n",
        "| **E** | **E** = allows black/brown<br>**e** = blocks black → red/cream | `ee` dogs show only red/cream pigment. |\n",
        "\n",
        "*We’ll ignore rarer loci (Dilute, Spotting) to keep the demo bite-sized.*"
      ],
      "metadata": {
        "id": "wbwCUF5LmTVe"
      },
      "id": "wbwCUF5LmTVe"
    },
    {
      "cell_type": "code",
      "source": [
        "## 3. Imports + Helper Dictionaries\n"
      ],
      "metadata": {
        "id": "Kr-X0wLsmeMg"
      },
      "id": "Kr-X0wLsmeMg",
      "execution_count": 11,
      "outputs": []
    },
    {
      "cell_type": "code",
      "source": [
        "# 📦 Standard data-science imports\n",
        "import pandas as pd\n",
        "import matplotlib.pyplot as plt\n",
        "\n",
        "# 📚 Teaching widgets (for the interactive allele picker we’ll add later)\n",
        "from IPython.display import HTML\n",
        "import ipywidgets as widgets\n",
        "\n",
        "# 🖼️ Show charts inside the notebook\n",
        "%matplotlib inline\n",
        "\n",
        "# ────────────────────────────────────────────────────────────────\n",
        "# Helper dictionaries for quick look-ups at each locus\n",
        "# These will be used by predict_colour() in the next section.\n",
        "\n",
        "# B-locus (black vs. brown pigment)\n",
        "B_LOCUS = {\n",
        "    \"BB\": \"Black\",\n",
        "    \"Bb\": \"Black\",\n",
        "    \"bb\": \"Brown\"\n",
        "}\n",
        "\n",
        "# E-locus (extension / red-cream override)\n",
        "E_LOCUS = {\n",
        "    \"EE\": \"Allows black/brown\",\n",
        "    \"Ee\": \"Allows black/brown\",\n",
        "    \"ee\": \"Red/Cream (blocks black)\"\n",
        "}"
      ],
      "metadata": {
        "id": "SrpwZeXFnrgq"
      },
      "id": "SrpwZeXFnrgq",
      "execution_count": 12,
      "outputs": []
    },
    {
      "cell_type": "code",
      "source": [
        "## 4. Function `predict_colour()`"
      ],
      "metadata": {
        "id": "sSTrXgk-miZJ"
      },
      "id": "sSTrXgk-miZJ",
      "execution_count": 7,
      "outputs": []
    },
    {
      "cell_type": "code",
      "source": [
        "## 5. Bulk Conversion of Your CSV"
      ],
      "metadata": {
        "id": "PbGiLltjmnEb"
      },
      "id": "PbGiLltjmnEb",
      "execution_count": 8,
      "outputs": []
    },
    {
      "cell_type": "code",
      "source": [
        "## 6. Interactive Playground"
      ],
      "metadata": {
        "id": "q-Ome1RBmu4u"
      },
      "id": "q-Ome1RBmu4u",
      "execution_count": 9,
      "outputs": []
    },
    {
      "cell_type": "code",
      "source": [
        "## 7. Visual Summary"
      ],
      "metadata": {
        "id": "zlZc8rqlmxpu"
      },
      "id": "zlZc8rqlmxpu",
      "execution_count": null,
      "outputs": []
    },
    {
      "cell_type": "code",
      "source": [
        "## 8. Further Reading"
      ],
      "metadata": {
        "id": "hOJT0Qgwmzhr"
      },
      "id": "hOJT0Qgwmzhr",
      "execution_count": 10,
      "outputs": []
    }
  ],
  "metadata": {
    "colab": {
      "provenance": []
    },
    "language_info": {
      "name": "python"
    },
    "kernelspec": {
      "name": "python3",
      "display_name": "Python 3"
    }
  },
  "nbformat": 4,
  "nbformat_minor": 5
}