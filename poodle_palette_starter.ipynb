{
  "cells": [
    {
      "cell_type": "markdown",
      "id": "11038978",
      "metadata": {
        "id": "11038978"
      },
      "source": [
        "# 🐩 Poodle Palette – Genotype → Phenotype Tutor\n",
        "Welcome! In this notebook you’ll learn how two key genes (B and E) create the classic Poodle coat colours—and you’ll see the result for *any* genotype you enter."
      ]
    },
    {
      "cell_type": "code",
      "execution_count": 1,
      "id": "f4e13390",
      "metadata": {
        "id": "f4e13390"
      },
      "outputs": [],
      "source": [
        "# 📦 Setup\n",
        "# If running locally, make sure pandas and matplotlib are installed.\n",
        "# In Google Colab these come pre‑installed.\n",
        "import pandas as pd\n",
        "import matplotlib.pyplot as plt\n",
        "\n",
        "# Display plots inline\n",
        "%matplotlib inline\n"
      ]
    },
    {
      "cell_type": "markdown",
      "source": [
        "## 🎓 2. Genetic Background\n",
        "Poodle colours hinge mainly on two loci:\n",
        "\n",
        "| Locus | Dominant / recessive | What it controls |\n",
        "|-------|----------------------|------------------|\n",
        "| **B** | **B** = black pigment<br>**b** = brown pigment | `bb` turns all black areas brown (“liver”). |\n",
        "| **E** | **E** = allows black/brown<br>**e** = blocks black → red/cream | `ee` dogs show only red/cream pigment. |\n",
        "\n",
        "*We’ll ignore rarer loci (Dilute, Spotting) to keep the demo bite-sized.*"
      ],
      "metadata": {
        "id": "wbwCUF5LmTVe"
      },
      "id": "wbwCUF5LmTVe"
    },
    {
      "cell_type": "code",
      "source": [
        "## 3. Imports + Helper Dictionaries\n"
      ],
      "metadata": {
        "id": "Kr-X0wLsmeMg"
      },
      "id": "Kr-X0wLsmeMg",
      "execution_count": 11,
      "outputs": []
    },
    {
      "cell_type": "code",
      "source": [
        "# 📦 Standard data-science imports\n",
        "import pandas as pd\n",
        "import matplotlib.pyplot as plt\n",
        "\n",
        "# 📚 Teaching widgets (for the interactive allele picker we’ll add later)\n",
        "from IPython.display import HTML\n",
        "import ipywidgets as widgets\n",
        "\n",
        "# 🖼️ Show charts inside the notebook\n",
        "%matplotlib inline\n",
        "\n",
        "# ────────────────────────────────────────────────────────────────\n",
        "# Helper dictionaries for quick look-ups at each locus\n",
        "# These will be used by predict_colour() in the next section.\n",
        "\n",
        "# B-locus (black vs. brown pigment)\n",
        "B_LOCUS = {\n",
        "    \"BB\": \"Black\",\n",
        "    \"Bb\": \"Black\",\n",
        "    \"bb\": \"Brown\"\n",
        "}\n",
        "\n",
        "# E-locus (extension / red-cream override)\n",
        "E_LOCUS = {\n",
        "    \"EE\": \"Allows black/brown\",\n",
        "    \"Ee\": \"Allows black/brown\",\n",
        "    \"ee\": \"Red/Cream (blocks black)\"}\n",
        "\n",
        "# Spotting / Parti – dominant solid S, recessive parti sp\n",
        "S_LOCUS = {\n",
        "    \"SS\": \"solid\",\n",
        "    \"Ssp\": \"solid (carrier)\",\n",
        "    \"spsp\": \"parti\"\n",
        "}\n",
        "\n",
        "# K-locus hierarchy  KB  >  Kbr  >  ky\n",
        "K_HIERARCHY = [\"KB\", \"Kbr\", \"ky\"]    # first one present wins\n",
        "\n",
        "# A-locus hierarchy  ay  >  at  >  aw  >  a\n",
        "A_HIERARCHY = [\"ay\", \"at\", \"aw\", \"a\"]\n"
      ],
      "metadata": {
        "id": "SrpwZeXFnrgq"
      },
      "id": "SrpwZeXFnrgq",
      "execution_count": 25,
      "outputs": []
    },
    {
      "cell_type": "code",
      "source": [
        "## 4. Function `predict_colour()`"
      ],
      "metadata": {
        "id": "sSTrXgk-miZJ"
      },
      "id": "sSTrXgk-miZJ",
      "execution_count": 14,
      "outputs": []
    },
    {
      "cell_type": "code",
      "source": [
        "# ── K and A dominance tables ────────────────────────────────────────────\n",
        "K_HIERARCHY = [\"Kbr\", \"KB\"]    # test for Kbr first, then KB; ky is the default\n",
        "A_HIERARCHY = [\"ay\", \"at\", \"aw\", \"a\"]   # ay dominates at, etc.\n",
        "\n",
        "def predict_colour(b_pair: str, e_pair: str,\n",
        "                   k_pair: str, a_pair: str,\n",
        "                   s_pair: str) -> str:\n",
        "    \"\"\"\n",
        "    Translate five locus pairs into a coat-colour phrase.\n",
        "    Inputs are *pairs*, e.g.  b_pair='Bb',  k_pair='Kbrky',  a_pair='atat'.\n",
        "    \"\"\"\n",
        "\n",
        "    # 1️⃣  Base pigment from B & E\n",
        "    if e_pair[0].islower() and e_pair[1].islower():          # ee → red/cream\n",
        "        nose = \"brown\" if b_pair[0].islower() and b_pair[1].islower() else \"black\"\n",
        "        colour = f\"Red/Cream (nose: {nose})\"\n",
        "    else:                                                    # E_ → black / brown\n",
        "        colour = \"Brown\" if b_pair[0].islower() and b_pair[1].islower() else \"Black\"\n",
        "\n",
        "    # 2️⃣  K-locus winner\n",
        "    if \"Kbr\" in k_pair:          # check Kbr first so it beats KB in 'Kbrky'\n",
        "        k_dom = \"Kbr\"\n",
        "    elif \"KB\" in k_pair:\n",
        "        k_dom = \"KB\"\n",
        "    else:\n",
        "        k_dom = \"ky\"\n",
        "\n",
        "    # 3️⃣  Pattern from K- & A-interaction\n",
        "    pattern = \"\"\n",
        "    if k_dom == \"KB\":            # dominant black masks A\n",
        "        pattern = \"\"\n",
        "    elif k_dom == \"Kbr\":         # brindle *unless* dog is recessive-black (a/a)\n",
        "        dom_a = next(a for a in A_HIERARCHY if a in a_pair)\n",
        "        pattern = \"\" if dom_a == \"a\" else \"Brindle \"\n",
        "    else:                        # kyky → express true A pattern\n",
        "        dom_a = next(a for a in A_HIERARCHY if a in a_pair)\n",
        "        pattern = {\n",
        "            \"ay\": \"Sable \",\n",
        "            \"at\": \"Phantom \",\n",
        "            \"aw\": \"Agouti \",\n",
        "            \"a\":  \"\"\n",
        "        }[dom_a]\n",
        "\n",
        "    # 4️⃣  Spotting / parti layer\n",
        "    pattern_spot = \"Parti \" if \"sp\" in s_pair.lower() and \"sp\" in s_pair.lower()[-2:] else \"\"\n",
        "\n",
        "    # 5️⃣  Assemble\n",
        "    return f\"{pattern_spot}{pattern}{colour}\"\n"
      ],
      "metadata": {
        "id": "-I3XsuFioRUd"
      },
      "id": "-I3XsuFioRUd",
      "execution_count": 28,
      "outputs": []
    },
    {
      "cell_type": "code",
      "source": [
        "tests = [\n",
        "    (\"BB\", \"EE\", \"KBky\", \"ayat\", \"SS\"),     # dominant black\n",
        "    (\"bb\", \"EE\", \"Kbrky\", \"ayat\", \"SS\"),    # brindle sable (brown)\n",
        "    (\"BB\", \"EE\", \"kyky\", \"ataw\", \"spsp\"),   # parti phantom\n",
        "    (\"bb\", \"EE\", \"kyky\", \"aya\", \"SS\"),     #\n",
        "    (\"bb\", \"ee\", \"KBky\", \"ayay\", \"Ssp\"),    # red/cream overrides\n",
        "]\n",
        "for t in tests:\n",
        "    print(f\"{t} → {predict_colour(*t)}\")"
      ],
      "metadata": {
        "colab": {
          "base_uri": "https://localhost:8080/"
        },
        "id": "xCAqVEzgoZ4z",
        "outputId": "b7bae785-f4b1-4dea-ea31-69551299b9f2"
      },
      "id": "xCAqVEzgoZ4z",
      "execution_count": 34,
      "outputs": [
        {
          "output_type": "stream",
          "name": "stdout",
          "text": [
            "('BB', 'EE', 'KBky', 'ayat', 'SS') → Black\n",
            "('bb', 'EE', 'Kbrky', 'ayat', 'SS') → Brindle Brown\n",
            "('BB', 'EE', 'kyky', 'ataw', 'spsp') → Parti Phantom Black\n",
            "('bb', 'EE', 'kyky', 'aya', 'SS') → Sable Brown\n",
            "('bb', 'ee', 'KBky', 'ayay', 'Ssp') → Parti Red/Cream (nose: brown)\n"
          ]
        }
      ]
    },
    {
      "cell_type": "code",
      "source": [
        "## 5. Bulk Conversion of Your CSV"
      ],
      "metadata": {
        "id": "PbGiLltjmnEb"
      },
      "id": "PbGiLltjmnEb",
      "execution_count": 8,
      "outputs": []
    },
    {
      "cell_type": "code",
      "source": [
        "## 6. Interactive Playground"
      ],
      "metadata": {
        "id": "q-Ome1RBmu4u"
      },
      "id": "q-Ome1RBmu4u",
      "execution_count": 23,
      "outputs": []
    },
    {
      "cell_type": "code",
      "source": [
        "def show_interactive():\n",
        "    # --- locus buttons ---\n",
        "    b_btn = widgets.ToggleButtons(\n",
        "        options=[(\"BB (black)\", \"BB\"), (\"Bb (black)\", \"Bb\"), (\"bb (brown)\", \"bb\")],\n",
        "        description=\"B locus:\",\n",
        "    )\n",
        "    e_btn = widgets.ToggleButtons(\n",
        "        options=[(\"EE (permits)\", \"EE\"), (\"Ee (permits)\", \"Ee\"), (\"ee (red)\", \"ee\")],\n",
        "        description=\"E locus:\",\n",
        "    )\n",
        "    k_btn = widgets.ToggleButtons(\n",
        "        options=[(\"KB\", \"KBKB\"), (\"Kbr\", \"Kbrky\"), (\"ky/ky\", \"kyky\")],\n",
        "        description=\"K locus:\",\n",
        "    )\n",
        "    a_btn = widgets.ToggleButtons(\n",
        "        options=[(\"ay/ay (sable)\", \"ayay\"), (\"at/at (phantom)\", \"atat\"),\n",
        "                 (\"aw/aw (agouti)\", \"awaw\"), (\"a/a (rec.black)\", \"aa\")],\n",
        "        description=\"A locus:\",\n",
        "    )\n",
        "    s_btn = widgets.ToggleButtons(\n",
        "        options=[(\"SS (solid)\", \"SS\"), (\"Ssp (carrier)\", \"Ssp\"),\n",
        "                 (\"sp/sp (parti)\", \"spsp\")],\n",
        "        description=\"S locus:\",\n",
        "    )\n",
        "\n",
        "    out = widgets.Output()\n",
        "\n",
        "    def update(_=None):\n",
        "        result = predict_colour(\n",
        "            b_btn.value, e_btn.value,\n",
        "            k_btn.value, a_btn.value,\n",
        "            s_btn.value\n",
        "        )\n",
        "        with out:\n",
        "            out.clear_output()\n",
        "            display(HTML(f\"<h3>{result}</h3>\"))\n",
        "\n",
        "    # trigger on any change\n",
        "    for w in (b_btn, e_btn, k_btn, a_btn, s_btn):\n",
        "        w.observe(update, names=\"value\")\n",
        "\n",
        "    update()  # initial paint\n",
        "    display(b_btn, e_btn, k_btn, a_btn, s_btn, out)\n",
        "\n",
        "show_interactive()\n"
      ],
      "metadata": {
        "id": "K0XYXzsXtgFu",
        "outputId": "f960b9cd-1890-4908-b5bd-50ddcabb9658",
        "colab": {
          "base_uri": "https://localhost:8080/",
          "height": 208,
          "referenced_widgets": [
            "e1233455a8d04bcf92c6a975eed4ad50",
            "bdf6374efeb1471ea7e6e94899ee89ba",
            "19b9a1f29e64445ca0ceac32ac940a1f",
            "116d0be5b5d048b28da08dee613e0fa8",
            "1082afece33849479b929cb36864da29",
            "3475592d48874ff9b3007e32d67d71a1",
            "8bb730cc71084c31b0dad10745bdf937",
            "52cf7a3596c44c77bb1f912a03f408ef",
            "be1682c1f5ad4aaa9f3daefdecb728d1",
            "078ffe8df64c438984d071c26ee69396",
            "ea81d684926f42e3bbc67d08705567ed",
            "27cd9f7f953a4354b417aa42e391d5d2",
            "bd29c080d7124b0a99fd8bf214f9e45a",
            "e5e38436fb7143cca8e3db3181615d4f",
            "871d8a3c0f944d34b68aa70941c2d216",
            "c0f8a746acc04cceb5de3536fff02080",
            "5b66ae6c00044cc98fdeb2a539eb7046"
          ]
        }
      },
      "id": "K0XYXzsXtgFu",
      "execution_count": 35,
      "outputs": [
        {
          "output_type": "display_data",
          "data": {
            "text/plain": [
              "ToggleButtons(description='B locus:', options=(('BB (black)', 'BB'), ('Bb (black)', 'Bb'), ('bb (brown)', 'bb'…"
            ],
            "application/vnd.jupyter.widget-view+json": {
              "version_major": 2,
              "version_minor": 0,
              "model_id": "e1233455a8d04bcf92c6a975eed4ad50"
            }
          },
          "metadata": {}
        },
        {
          "output_type": "display_data",
          "data": {
            "text/plain": [
              "ToggleButtons(description='E locus:', options=(('EE (permits)', 'EE'), ('Ee (permits)', 'Ee'), ('ee (red)', 'e…"
            ],
            "application/vnd.jupyter.widget-view+json": {
              "version_major": 2,
              "version_minor": 0,
              "model_id": "116d0be5b5d048b28da08dee613e0fa8"
            }
          },
          "metadata": {}
        },
        {
          "output_type": "display_data",
          "data": {
            "text/plain": [
              "ToggleButtons(description='K locus:', options=(('KB', 'KBKB'), ('Kbr', 'Kbrky'), ('ky/ky', 'kyky')), value='KB…"
            ],
            "application/vnd.jupyter.widget-view+json": {
              "version_major": 2,
              "version_minor": 0,
              "model_id": "8bb730cc71084c31b0dad10745bdf937"
            }
          },
          "metadata": {}
        },
        {
          "output_type": "display_data",
          "data": {
            "text/plain": [
              "ToggleButtons(description='A locus:', options=(('ay/ay (sable)', 'ayay'), ('at/at (phantom)', 'atat'), ('aw/aw…"
            ],
            "application/vnd.jupyter.widget-view+json": {
              "version_major": 2,
              "version_minor": 0,
              "model_id": "078ffe8df64c438984d071c26ee69396"
            }
          },
          "metadata": {}
        },
        {
          "output_type": "display_data",
          "data": {
            "text/plain": [
              "ToggleButtons(description='S locus:', options=(('SS (solid)', 'SS'), ('Ssp (carrier)', 'Ssp'), ('sp/sp (parti)…"
            ],
            "application/vnd.jupyter.widget-view+json": {
              "version_major": 2,
              "version_minor": 0,
              "model_id": "bd29c080d7124b0a99fd8bf214f9e45a"
            }
          },
          "metadata": {}
        },
        {
          "output_type": "display_data",
          "data": {
            "text/plain": [
              "Output()"
            ],
            "application/vnd.jupyter.widget-view+json": {
              "version_major": 2,
              "version_minor": 0,
              "model_id": "c0f8a746acc04cceb5de3536fff02080"
            }
          },
          "metadata": {}
        }
      ]
    },
    {
      "cell_type": "code",
      "source": [
        "## 7. Visual Summary"
      ],
      "metadata": {
        "id": "zlZc8rqlmxpu"
      },
      "id": "zlZc8rqlmxpu",
      "execution_count": null,
      "outputs": []
    },
    {
      "cell_type": "code",
      "source": [
        "## 8. Further Reading"
      ],
      "metadata": {
        "id": "hOJT0Qgwmzhr"
      },
      "id": "hOJT0Qgwmzhr",
      "execution_count": 10,
      "outputs": []
    }
  ],
  "metadata": {
    "colab": {
      "provenance": []
    },
    "language_info": {
      "name": "python"
    },
    "kernelspec": {
      "name": "python3",
      "display_name": "Python 3"
    },
    "widgets": {
      "application/vnd.jupyter.widget-state+json": {
        "e1233455a8d04bcf92c6a975eed4ad50": {
          "model_module": "@jupyter-widgets/controls",
          "model_name": "ToggleButtonsModel",
          "model_module_version": "1.5.0",
          "state": {
            "_dom_classes": [],
            "_model_module": "@jupyter-widgets/controls",
            "_model_module_version": "1.5.0",
            "_model_name": "ToggleButtonsModel",
            "_options_labels": [
              "BB (black)",
              "Bb (black)",
              "bb (brown)"
            ],
            "_view_count": null,
            "_view_module": "@jupyter-widgets/controls",
            "_view_module_version": "1.5.0",
            "_view_name": "ToggleButtonsView",
            "button_style": "",
            "description": "B locus:",
            "description_tooltip": null,
            "disabled": false,
            "icons": [],
            "index": 2,
            "layout": "IPY_MODEL_bdf6374efeb1471ea7e6e94899ee89ba",
            "style": "IPY_MODEL_19b9a1f29e64445ca0ceac32ac940a1f",
            "tooltips": []
          }
        },
        "bdf6374efeb1471ea7e6e94899ee89ba": {
          "model_module": "@jupyter-widgets/base",
          "model_name": "LayoutModel",
          "model_module_version": "1.2.0",
          "state": {
            "_model_module": "@jupyter-widgets/base",
            "_model_module_version": "1.2.0",
            "_model_name": "LayoutModel",
            "_view_count": null,
            "_view_module": "@jupyter-widgets/base",
            "_view_module_version": "1.2.0",
            "_view_name": "LayoutView",
            "align_content": null,
            "align_items": null,
            "align_self": null,
            "border": null,
            "bottom": null,
            "display": null,
            "flex": null,
            "flex_flow": null,
            "grid_area": null,
            "grid_auto_columns": null,
            "grid_auto_flow": null,
            "grid_auto_rows": null,
            "grid_column": null,
            "grid_gap": null,
            "grid_row": null,
            "grid_template_areas": null,
            "grid_template_columns": null,
            "grid_template_rows": null,
            "height": null,
            "justify_content": null,
            "justify_items": null,
            "left": null,
            "margin": null,
            "max_height": null,
            "max_width": null,
            "min_height": null,
            "min_width": null,
            "object_fit": null,
            "object_position": null,
            "order": null,
            "overflow": null,
            "overflow_x": null,
            "overflow_y": null,
            "padding": null,
            "right": null,
            "top": null,
            "visibility": null,
            "width": null
          }
        },
        "19b9a1f29e64445ca0ceac32ac940a1f": {
          "model_module": "@jupyter-widgets/controls",
          "model_name": "ToggleButtonsStyleModel",
          "model_module_version": "1.5.0",
          "state": {
            "_model_module": "@jupyter-widgets/controls",
            "_model_module_version": "1.5.0",
            "_model_name": "ToggleButtonsStyleModel",
            "_view_count": null,
            "_view_module": "@jupyter-widgets/base",
            "_view_module_version": "1.2.0",
            "_view_name": "StyleView",
            "button_width": "",
            "description_width": "",
            "font_weight": ""
          }
        },
        "116d0be5b5d048b28da08dee613e0fa8": {
          "model_module": "@jupyter-widgets/controls",
          "model_name": "ToggleButtonsModel",
          "model_module_version": "1.5.0",
          "state": {
            "_dom_classes": [],
            "_model_module": "@jupyter-widgets/controls",
            "_model_module_version": "1.5.0",
            "_model_name": "ToggleButtonsModel",
            "_options_labels": [
              "EE (permits)",
              "Ee (permits)",
              "ee (red)"
            ],
            "_view_count": null,
            "_view_module": "@jupyter-widgets/controls",
            "_view_module_version": "1.5.0",
            "_view_name": "ToggleButtonsView",
            "button_style": "",
            "description": "E locus:",
            "description_tooltip": null,
            "disabled": false,
            "icons": [],
            "index": 0,
            "layout": "IPY_MODEL_1082afece33849479b929cb36864da29",
            "style": "IPY_MODEL_3475592d48874ff9b3007e32d67d71a1",
            "tooltips": []
          }
        },
        "1082afece33849479b929cb36864da29": {
          "model_module": "@jupyter-widgets/base",
          "model_name": "LayoutModel",
          "model_module_version": "1.2.0",
          "state": {
            "_model_module": "@jupyter-widgets/base",
            "_model_module_version": "1.2.0",
            "_model_name": "LayoutModel",
            "_view_count": null,
            "_view_module": "@jupyter-widgets/base",
            "_view_module_version": "1.2.0",
            "_view_name": "LayoutView",
            "align_content": null,
            "align_items": null,
            "align_self": null,
            "border": null,
            "bottom": null,
            "display": null,
            "flex": null,
            "flex_flow": null,
            "grid_area": null,
            "grid_auto_columns": null,
            "grid_auto_flow": null,
            "grid_auto_rows": null,
            "grid_column": null,
            "grid_gap": null,
            "grid_row": null,
            "grid_template_areas": null,
            "grid_template_columns": null,
            "grid_template_rows": null,
            "height": null,
            "justify_content": null,
            "justify_items": null,
            "left": null,
            "margin": null,
            "max_height": null,
            "max_width": null,
            "min_height": null,
            "min_width": null,
            "object_fit": null,
            "object_position": null,
            "order": null,
            "overflow": null,
            "overflow_x": null,
            "overflow_y": null,
            "padding": null,
            "right": null,
            "top": null,
            "visibility": null,
            "width": null
          }
        },
        "3475592d48874ff9b3007e32d67d71a1": {
          "model_module": "@jupyter-widgets/controls",
          "model_name": "ToggleButtonsStyleModel",
          "model_module_version": "1.5.0",
          "state": {
            "_model_module": "@jupyter-widgets/controls",
            "_model_module_version": "1.5.0",
            "_model_name": "ToggleButtonsStyleModel",
            "_view_count": null,
            "_view_module": "@jupyter-widgets/base",
            "_view_module_version": "1.2.0",
            "_view_name": "StyleView",
            "button_width": "",
            "description_width": "",
            "font_weight": ""
          }
        },
        "8bb730cc71084c31b0dad10745bdf937": {
          "model_module": "@jupyter-widgets/controls",
          "model_name": "ToggleButtonsModel",
          "model_module_version": "1.5.0",
          "state": {
            "_dom_classes": [],
            "_model_module": "@jupyter-widgets/controls",
            "_model_module_version": "1.5.0",
            "_model_name": "ToggleButtonsModel",
            "_options_labels": [
              "KB",
              "Kbr",
              "ky/ky"
            ],
            "_view_count": null,
            "_view_module": "@jupyter-widgets/controls",
            "_view_module_version": "1.5.0",
            "_view_name": "ToggleButtonsView",
            "button_style": "",
            "description": "K locus:",
            "description_tooltip": null,
            "disabled": false,
            "icons": [],
            "index": 2,
            "layout": "IPY_MODEL_52cf7a3596c44c77bb1f912a03f408ef",
            "style": "IPY_MODEL_be1682c1f5ad4aaa9f3daefdecb728d1",
            "tooltips": []
          }
        },
        "52cf7a3596c44c77bb1f912a03f408ef": {
          "model_module": "@jupyter-widgets/base",
          "model_name": "LayoutModel",
          "model_module_version": "1.2.0",
          "state": {
            "_model_module": "@jupyter-widgets/base",
            "_model_module_version": "1.2.0",
            "_model_name": "LayoutModel",
            "_view_count": null,
            "_view_module": "@jupyter-widgets/base",
            "_view_module_version": "1.2.0",
            "_view_name": "LayoutView",
            "align_content": null,
            "align_items": null,
            "align_self": null,
            "border": null,
            "bottom": null,
            "display": null,
            "flex": null,
            "flex_flow": null,
            "grid_area": null,
            "grid_auto_columns": null,
            "grid_auto_flow": null,
            "grid_auto_rows": null,
            "grid_column": null,
            "grid_gap": null,
            "grid_row": null,
            "grid_template_areas": null,
            "grid_template_columns": null,
            "grid_template_rows": null,
            "height": null,
            "justify_content": null,
            "justify_items": null,
            "left": null,
            "margin": null,
            "max_height": null,
            "max_width": null,
            "min_height": null,
            "min_width": null,
            "object_fit": null,
            "object_position": null,
            "order": null,
            "overflow": null,
            "overflow_x": null,
            "overflow_y": null,
            "padding": null,
            "right": null,
            "top": null,
            "visibility": null,
            "width": null
          }
        },
        "be1682c1f5ad4aaa9f3daefdecb728d1": {
          "model_module": "@jupyter-widgets/controls",
          "model_name": "ToggleButtonsStyleModel",
          "model_module_version": "1.5.0",
          "state": {
            "_model_module": "@jupyter-widgets/controls",
            "_model_module_version": "1.5.0",
            "_model_name": "ToggleButtonsStyleModel",
            "_view_count": null,
            "_view_module": "@jupyter-widgets/base",
            "_view_module_version": "1.2.0",
            "_view_name": "StyleView",
            "button_width": "",
            "description_width": "",
            "font_weight": ""
          }
        },
        "078ffe8df64c438984d071c26ee69396": {
          "model_module": "@jupyter-widgets/controls",
          "model_name": "ToggleButtonsModel",
          "model_module_version": "1.5.0",
          "state": {
            "_dom_classes": [],
            "_model_module": "@jupyter-widgets/controls",
            "_model_module_version": "1.5.0",
            "_model_name": "ToggleButtonsModel",
            "_options_labels": [
              "ay/ay (sable)",
              "at/at (phantom)",
              "aw/aw (agouti)",
              "a/a (rec.black)"
            ],
            "_view_count": null,
            "_view_module": "@jupyter-widgets/controls",
            "_view_module_version": "1.5.0",
            "_view_name": "ToggleButtonsView",
            "button_style": "",
            "description": "A locus:",
            "description_tooltip": null,
            "disabled": false,
            "icons": [],
            "index": 2,
            "layout": "IPY_MODEL_ea81d684926f42e3bbc67d08705567ed",
            "style": "IPY_MODEL_27cd9f7f953a4354b417aa42e391d5d2",
            "tooltips": []
          }
        },
        "ea81d684926f42e3bbc67d08705567ed": {
          "model_module": "@jupyter-widgets/base",
          "model_name": "LayoutModel",
          "model_module_version": "1.2.0",
          "state": {
            "_model_module": "@jupyter-widgets/base",
            "_model_module_version": "1.2.0",
            "_model_name": "LayoutModel",
            "_view_count": null,
            "_view_module": "@jupyter-widgets/base",
            "_view_module_version": "1.2.0",
            "_view_name": "LayoutView",
            "align_content": null,
            "align_items": null,
            "align_self": null,
            "border": null,
            "bottom": null,
            "display": null,
            "flex": null,
            "flex_flow": null,
            "grid_area": null,
            "grid_auto_columns": null,
            "grid_auto_flow": null,
            "grid_auto_rows": null,
            "grid_column": null,
            "grid_gap": null,
            "grid_row": null,
            "grid_template_areas": null,
            "grid_template_columns": null,
            "grid_template_rows": null,
            "height": null,
            "justify_content": null,
            "justify_items": null,
            "left": null,
            "margin": null,
            "max_height": null,
            "max_width": null,
            "min_height": null,
            "min_width": null,
            "object_fit": null,
            "object_position": null,
            "order": null,
            "overflow": null,
            "overflow_x": null,
            "overflow_y": null,
            "padding": null,
            "right": null,
            "top": null,
            "visibility": null,
            "width": null
          }
        },
        "27cd9f7f953a4354b417aa42e391d5d2": {
          "model_module": "@jupyter-widgets/controls",
          "model_name": "ToggleButtonsStyleModel",
          "model_module_version": "1.5.0",
          "state": {
            "_model_module": "@jupyter-widgets/controls",
            "_model_module_version": "1.5.0",
            "_model_name": "ToggleButtonsStyleModel",
            "_view_count": null,
            "_view_module": "@jupyter-widgets/base",
            "_view_module_version": "1.2.0",
            "_view_name": "StyleView",
            "button_width": "",
            "description_width": "",
            "font_weight": ""
          }
        },
        "bd29c080d7124b0a99fd8bf214f9e45a": {
          "model_module": "@jupyter-widgets/controls",
          "model_name": "ToggleButtonsModel",
          "model_module_version": "1.5.0",
          "state": {
            "_dom_classes": [],
            "_model_module": "@jupyter-widgets/controls",
            "_model_module_version": "1.5.0",
            "_model_name": "ToggleButtonsModel",
            "_options_labels": [
              "SS (solid)",
              "Ssp (carrier)",
              "sp/sp (parti)"
            ],
            "_view_count": null,
            "_view_module": "@jupyter-widgets/controls",
            "_view_module_version": "1.5.0",
            "_view_name": "ToggleButtonsView",
            "button_style": "",
            "description": "S locus:",
            "description_tooltip": null,
            "disabled": false,
            "icons": [],
            "index": 2,
            "layout": "IPY_MODEL_e5e38436fb7143cca8e3db3181615d4f",
            "style": "IPY_MODEL_871d8a3c0f944d34b68aa70941c2d216",
            "tooltips": []
          }
        },
        "e5e38436fb7143cca8e3db3181615d4f": {
          "model_module": "@jupyter-widgets/base",
          "model_name": "LayoutModel",
          "model_module_version": "1.2.0",
          "state": {
            "_model_module": "@jupyter-widgets/base",
            "_model_module_version": "1.2.0",
            "_model_name": "LayoutModel",
            "_view_count": null,
            "_view_module": "@jupyter-widgets/base",
            "_view_module_version": "1.2.0",
            "_view_name": "LayoutView",
            "align_content": null,
            "align_items": null,
            "align_self": null,
            "border": null,
            "bottom": null,
            "display": null,
            "flex": null,
            "flex_flow": null,
            "grid_area": null,
            "grid_auto_columns": null,
            "grid_auto_flow": null,
            "grid_auto_rows": null,
            "grid_column": null,
            "grid_gap": null,
            "grid_row": null,
            "grid_template_areas": null,
            "grid_template_columns": null,
            "grid_template_rows": null,
            "height": null,
            "justify_content": null,
            "justify_items": null,
            "left": null,
            "margin": null,
            "max_height": null,
            "max_width": null,
            "min_height": null,
            "min_width": null,
            "object_fit": null,
            "object_position": null,
            "order": null,
            "overflow": null,
            "overflow_x": null,
            "overflow_y": null,
            "padding": null,
            "right": null,
            "top": null,
            "visibility": null,
            "width": null
          }
        },
        "871d8a3c0f944d34b68aa70941c2d216": {
          "model_module": "@jupyter-widgets/controls",
          "model_name": "ToggleButtonsStyleModel",
          "model_module_version": "1.5.0",
          "state": {
            "_model_module": "@jupyter-widgets/controls",
            "_model_module_version": "1.5.0",
            "_model_name": "ToggleButtonsStyleModel",
            "_view_count": null,
            "_view_module": "@jupyter-widgets/base",
            "_view_module_version": "1.2.0",
            "_view_name": "StyleView",
            "button_width": "",
            "description_width": "",
            "font_weight": ""
          }
        },
        "c0f8a746acc04cceb5de3536fff02080": {
          "model_module": "@jupyter-widgets/output",
          "model_name": "OutputModel",
          "model_module_version": "1.0.0",
          "state": {
            "_dom_classes": [],
            "_model_module": "@jupyter-widgets/output",
            "_model_module_version": "1.0.0",
            "_model_name": "OutputModel",
            "_view_count": null,
            "_view_module": "@jupyter-widgets/output",
            "_view_module_version": "1.0.0",
            "_view_name": "OutputView",
            "layout": "IPY_MODEL_5b66ae6c00044cc98fdeb2a539eb7046",
            "msg_id": "",
            "outputs": [
              {
                "output_type": "display_data",
                "data": {
                  "text/plain": "<IPython.core.display.HTML object>",
                  "text/html": "<h3>Parti Agouti Brown</h3>"
                },
                "metadata": {}
              }
            ]
          }
        },
        "5b66ae6c00044cc98fdeb2a539eb7046": {
          "model_module": "@jupyter-widgets/base",
          "model_name": "LayoutModel",
          "model_module_version": "1.2.0",
          "state": {
            "_model_module": "@jupyter-widgets/base",
            "_model_module_version": "1.2.0",
            "_model_name": "LayoutModel",
            "_view_count": null,
            "_view_module": "@jupyter-widgets/base",
            "_view_module_version": "1.2.0",
            "_view_name": "LayoutView",
            "align_content": null,
            "align_items": null,
            "align_self": null,
            "border": null,
            "bottom": null,
            "display": null,
            "flex": null,
            "flex_flow": null,
            "grid_area": null,
            "grid_auto_columns": null,
            "grid_auto_flow": null,
            "grid_auto_rows": null,
            "grid_column": null,
            "grid_gap": null,
            "grid_row": null,
            "grid_template_areas": null,
            "grid_template_columns": null,
            "grid_template_rows": null,
            "height": null,
            "justify_content": null,
            "justify_items": null,
            "left": null,
            "margin": null,
            "max_height": null,
            "max_width": null,
            "min_height": null,
            "min_width": null,
            "object_fit": null,
            "object_position": null,
            "order": null,
            "overflow": null,
            "overflow_x": null,
            "overflow_y": null,
            "padding": null,
            "right": null,
            "top": null,
            "visibility": null,
            "width": null
          }
        }
      }
    }
  },
  "nbformat": 4,
  "nbformat_minor": 5
}