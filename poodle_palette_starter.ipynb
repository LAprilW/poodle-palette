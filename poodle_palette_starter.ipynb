{
  "cells": [
    {
      "cell_type": "markdown",
      "id": "11038978",
      "metadata": {
        "id": "11038978"
      },
      "source": [
        "# 🐩 Poodle Palette – Genotype → Phenotype Tutor\n",
        "Welcome! In this notebook you’ll learn how two key genes (B and E) create the classic Poodle coat colours—and you’ll see the result for *any* genotype you enter."
      ]
    },
    {
      "cell_type": "code",
      "execution_count": 65,
      "id": "f4e13390",
      "metadata": {
        "id": "f4e13390"
      },
      "outputs": [],
      "source": [
        "# 📦 Setup\n",
        "# If running locally, make sure pandas and matplotlib are installed.\n",
        "# In Google Colab these come pre‑installed.\n",
        "import pandas as pd\n",
        "import matplotlib.pyplot as plt\n",
        "\n",
        "# Display plots inline\n",
        "%matplotlib inline\n"
      ]
    },
    {
      "cell_type": "markdown",
      "source": [
        "## 🎓 2. Genetic Background\n",
        "Poodle colours hinge mainly on two loci:\n",
        "\n",
        "| Locus | Dominant / recessive | What it controls |\n",
        "|-------|----------------------|------------------|\n",
        "| **B** | **B** = black pigment<br>**b** = brown pigment | `bb` turns all black areas brown (“liver”). |\n",
        "| **E** | **E** = allows black/brown<br>**e** = blocks black → red/cream | `ee` dogs show only red/cream pigment. |\n",
        "\n",
        "*We’ll ignore rarer loci (Dilute, Spotting) to keep the demo bite-sized.*"
      ],
      "metadata": {
        "id": "wbwCUF5LmTVe"
      },
      "id": "wbwCUF5LmTVe"
    },
    {
      "cell_type": "code",
      "source": [
        "## 3. Imports + Helper Dictionaries\n"
      ],
      "metadata": {
        "id": "Kr-X0wLsmeMg"
      },
      "id": "Kr-X0wLsmeMg",
      "execution_count": 66,
      "outputs": []
    },
    {
      "cell_type": "code",
      "source": [
        "# 📦 Standard data-science imports\n",
        "import pandas as pd\n",
        "import matplotlib.pyplot as plt\n",
        "\n",
        "# 📚 Teaching widgets (for the interactive allele picker we’ll add later)\n",
        "from IPython.display import HTML\n",
        "import ipywidgets as widgets\n",
        "\n",
        "# 🖼️ Show charts inside the notebook\n",
        "%matplotlib inline\n",
        "\n",
        "# ────────────────────────────────────────────────────────────────\n",
        "# Helper dictionaries for quick look-ups at each locus\n",
        "# These will be used by predict_colour() in the next section.\n",
        "\n",
        "# B-locus (black vs. brown pigment)\n",
        "B_LOCUS = {\n",
        "    \"BB\": \"Black\",\n",
        "    \"Bb\": \"Black\",\n",
        "    \"bb\": \"Brown\"\n",
        "}\n",
        "\n",
        "# E-locus (extension / red-cream override)\n",
        "E_LOCUS = {\n",
        "    \"EE\": \"Allows black/brown\",\n",
        "    \"Ee\": \"Allows black/brown\",\n",
        "    \"ee\": \"Red/Cream (blocks black)\"}\n",
        "\n",
        "# Spotting / Parti – dominant solid S, recessive parti sp\n",
        "S_LOCUS = {\n",
        "    \"SS\": \"solid\",\n",
        "    \"Ssp\": \"solid (carrier)\",\n",
        "    \"spsp\": \"parti\"\n",
        "}\n",
        "\n",
        "# K-locus hierarchy  KB  >  Kbr  >  ky\n",
        "K_HIERARCHY = [\"KB\", \"Kbr\", \"ky\"]    # first one present wins\n",
        "\n",
        "# A-locus hierarchy  ay  >  at  >  aw  >  a\n",
        "A_HIERARCHY = [\"ay\", \"at\", \"aw\", \"a\"]\n"
      ],
      "metadata": {
        "id": "SrpwZeXFnrgq"
      },
      "id": "SrpwZeXFnrgq",
      "execution_count": 67,
      "outputs": []
    },
    {
      "cell_type": "code",
      "source": [
        "## 4. Function `predict_colour()`"
      ],
      "metadata": {
        "id": "sSTrXgk-miZJ"
      },
      "id": "sSTrXgk-miZJ",
      "execution_count": 68,
      "outputs": []
    },
    {
      "cell_type": "code",
      "source": [
        "K_HIERARCHY = [\"Kbr\", \"KB\"]\n",
        "A_HIERARCHY = [\"ay\", \"at\", \"aw\", \"a\"]\n",
        "A_LABELS    = {\"ay\": \"Sable\", \"at\": \"Phantom\", \"aw\": \"Agouti\"}\n",
        "\n",
        "def predict_colour(b_pair: str, e_pair: str,\n",
        "                   k_pair: str,\n",
        "                   a1: str, a2: str,\n",
        "                   s_pair: str) -> str:\n",
        "    \"\"\"Return plain-English Poodle coat description with carrier notes.\"\"\"\n",
        "\n",
        "    recessive_red = (e_pair == \"ee\")\n",
        "    brown_base    = (b_pair == \"bb\")\n",
        "\n",
        "    # ── 1. Base colour ────────────────────────────────────────────────\n",
        "    if recessive_red:\n",
        "        base_colour = \"Red/Cream\" + (\" (brown nose)\" if brown_base else \"\")\n",
        "    else:\n",
        "        base_colour = \"Brown\" if brown_base else \"Black\"\n",
        "\n",
        "    # ── 2. K winner ──────────────────────────────────────────────────\n",
        "    if \"Kbr\" in k_pair:\n",
        "        k_dom = \"Kbr\"\n",
        "    elif \"KB\" in k_pair:\n",
        "        k_dom = \"KB\"\n",
        "    else:\n",
        "        k_dom = \"ky\"\n",
        "\n",
        "    # ── 3. Dominant A allele ─────────────────────────────────────────\n",
        "    dom_a = next(a for a in A_HIERARCHY if a in (a1 + a2))\n",
        "\n",
        "    # ── 4. Pattern / carrier text (brindle, sable, etc.) ─────────────\n",
        "    pattern = \"\"\n",
        "    if recessive_red:\n",
        "        if k_dom == \"Kbr\":\n",
        "            pattern = \"carries Brindle\"\n",
        "        elif k_dom == \"ky\" and dom_a != \"a\":\n",
        "            pattern = f\"carries {A_LABELS[dom_a]}\"\n",
        "    else:\n",
        "        if k_dom == \"KB\":\n",
        "            pattern = \"\"\n",
        "        elif k_dom == \"Kbr\":\n",
        "            pattern = \"\" if dom_a == \"a\" else \"Brindle\"\n",
        "        else:  # kyky\n",
        "            pattern = A_LABELS.get(dom_a, \"\")\n",
        "\n",
        "    # ── 5. Spotting / Parti text ─────────────────────────────────────\n",
        "    spot_prefix = \"Parti\" if s_pair.lower().endswith(\"spsp\") else \"\"\n",
        "    spot_suffix = \"carries Parti\" if s_pair == \"Ssp\" or s_pair.lower() == \"ssp\" else \"\"\n",
        "\n",
        "    # ── 6. Assemble, keep spaces tidy ────────────────────────────────\n",
        "    parts = [spot_prefix, base_colour, pattern, spot_suffix]\n",
        "    return \" \".join(p for p in parts if p)\n"
      ],
      "metadata": {
        "id": "-I3XsuFioRUd"
      },
      "id": "-I3XsuFioRUd",
      "execution_count": 69,
      "outputs": []
    },
    {
      "cell_type": "code",
      "source": [
        "# ee + kyky + ay  → carries Sable\n",
        "print(predict_colour(\"BB\",\"ee\",\"kyky\",\"ay\",\"at\",\"SS\"))\n",
        "#   Red/Cream carries Sable\n",
        "\n",
        "# ee + kyky + at  → carries Phantom\n",
        "print(predict_colour(\"BB\",\"ee\",\"kyky\",\"at\",\"aw\",\"SS\"))\n",
        "#   Red/Cream carries Phantom\n",
        "\n",
        "# ee + kyky + a/a  → just Red/Cream\n",
        "print(predict_colour(\"bb\",\"ee\",\"kyky\",\"a\",\"a\",\"SS\"))\n",
        "#   Red/Cream\n",
        "\n",
        "# ee + Kbr  → carries Brindle (unchanged)\n",
        "print(predict_colour(\"BB\",\"ee\",\"Kbrky\",\"ay\",\"at\",\"SS\"))\n",
        "#   Red/Cream carries Brindle\n",
        "\n",
        "# non-ee kyky atat  → Phantom Black (pattern shows)\n",
        "print(predict_colour(\"bb\",\"EE\",\"kyky\",\"at\",\"at\",\"SS\"))\n",
        "#   Phantom Black\n"
      ],
      "metadata": {
        "colab": {
          "base_uri": "https://localhost:8080/"
        },
        "id": "xCAqVEzgoZ4z",
        "outputId": "8b209e56-f540-40c5-8077-92d6f5de514b"
      },
      "id": "xCAqVEzgoZ4z",
      "execution_count": 70,
      "outputs": [
        {
          "output_type": "stream",
          "name": "stdout",
          "text": [
            "Red/Cream carries Sable\n",
            "Red/Cream carries Phantom\n",
            "Red/Cream (brown nose)\n",
            "Red/Cream carries Brindle\n",
            "Brown Phantom\n"
          ]
        }
      ]
    },
    {
      "cell_type": "code",
      "source": [
        "## 5. Bulk Conversion of Your CSV"
      ],
      "metadata": {
        "id": "PbGiLltjmnEb"
      },
      "id": "PbGiLltjmnEb",
      "execution_count": 71,
      "outputs": []
    },
    {
      "cell_type": "code",
      "source": [
        "## 6. Interactive Playground"
      ],
      "metadata": {
        "id": "q-Ome1RBmu4u"
      },
      "id": "q-Ome1RBmu4u",
      "execution_count": 72,
      "outputs": []
    },
    {
      "cell_type": "code",
      "source": [
        "def show_interactive():\n",
        "    # --- B locus ----------------------------------------------------------\n",
        "    b_btn = widgets.ToggleButtons(\n",
        "        options=[(\"BB (black)\", \"BB\"),\n",
        "                 (\"Bb (black)\", \"Bb\"),\n",
        "                 (\"bb (brown)\", \"bb\")],\n",
        "        description=\"B locus:\",\n",
        "    )\n",
        "\n",
        "    # --- E locus ----------------------------------------------------------\n",
        "    e_btn = widgets.ToggleButtons(\n",
        "        options=[(\"EE (permits)\", \"EE\"),\n",
        "                 (\"Ee (permits)\", \"Ee\"),\n",
        "                 (\"ee (red/cream)\", \"ee\")],\n",
        "        description=\"E locus:\",\n",
        "    )\n",
        "\n",
        "    # --- K locus ----------------------------------------------------------\n",
        "    k_btn = widgets.ToggleButtons(\n",
        "        options=[(\"KB/KB\",  \"KBKB\"),\n",
        "                 (\"Kbr/ky\", \"Kbrky\"),\n",
        "                 (\"ky/ky\",  \"kyky\")],\n",
        "        description=\"K locus:\",\n",
        "    )\n",
        "\n",
        "    # --- A locus (two alleles) -------------------------------------------\n",
        "    a1_btn = widgets.ToggleButtons(\n",
        "        description=\"A-1:\",\n",
        "        options=[(\"ay\", \"ay\"), (\"at\", \"at\"), (\"aw\", \"aw\"), (\"a\", \"a\")],\n",
        "    )\n",
        "    a2_btn = widgets.ToggleButtons(\n",
        "        description=\"A-2:\",\n",
        "        options=[(\"ay\", \"ay\"), (\"at\", \"at\"), (\"aw\", \"aw\"), (\"a\", \"a\")],\n",
        "    )\n",
        "\n",
        "    # --- Spotting ---------------------------------------------------------\n",
        "    s_btn = widgets.ToggleButtons(\n",
        "        description=\"S locus:\",\n",
        "        options=[(\"SS (solid)\",  \"SS\"),\n",
        "                 (\"Ssp (carrier)\", \"Ssp\"),\n",
        "                 (\"sp/sp (parti)\", \"spsp\")],\n",
        "    )\n",
        "\n",
        "    # --------- live output area ------------------------------------------\n",
        "    out = widgets.Output()\n",
        "\n",
        "    def update(_=None):\n",
        "        colour = predict_colour(\n",
        "            b_btn.value,\n",
        "            e_btn.value,\n",
        "            k_btn.value,\n",
        "            a1_btn.value,\n",
        "            a2_btn.value,\n",
        "            s_btn.value\n",
        "        )\n",
        "        with out:\n",
        "            out.clear_output()\n",
        "            display(HTML(f\"<h3>{colour}</h3>\"))\n",
        "\n",
        "    # fire once at start\n",
        "    update()\n",
        "\n",
        "    # listen for *any* change\n",
        "    for w in (b_btn, e_btn, k_btn, a1_btn, a2_btn, s_btn):\n",
        "        w.observe(update, names=\"value\")\n",
        "\n",
        "    display(b_btn, e_btn, k_btn, a1_btn, a2_btn, s_btn, out)\n",
        "\n",
        "# run it\n",
        "show_interactive()\n"
      ],
      "metadata": {
        "colab": {
          "base_uri": "https://localhost:8080/",
          "height": 238,
          "referenced_widgets": [
            "fd4d81c09d394f3bbbe83351da8a84a7",
            "ffa1b347c1ac4fac94dfe3cc6e6105c8",
            "c1d17ff074fd47da96650475de17ae50",
            "6a3bb5b1b7834f4eb1d7a5d5ca0b0917",
            "d6ec014129504d68a0d073f76b3fc1f9",
            "86b3fc17340e44e1b486b776b0a9ec8f",
            "a775f230310d45e9901d3025677356a9",
            "566fe375400e43aaaf8384001366fe5a",
            "95ae720a79f14f2b894c4744806f71f1",
            "1dab35b9ae7f4a119c42cecbee098ad6",
            "499ec93ad7cf4a07855e9e293c891aef",
            "3e53445dbaf541adb5d2fcb8a5a85257",
            "87ffbca6040845e98111cc72e74effba",
            "dae01debc45b4d7eaf10f2ee8f41bd54",
            "287ab06e04e8401a8959a00c141172d7",
            "aeefbf9cda2a4d9f856d454251f1d8cd",
            "26542c59805f415c8e6ea8a40b859452",
            "5f80105ce9754ecdbc04a4ec15836b6b",
            "6fc5f6e1041146bf9462f1e85ebeb237",
            "09e8dcb59c5e484da6a3d156ca20fe04"
          ]
        },
        "id": "K0XYXzsXtgFu",
        "outputId": "53fdc8e8-69d4-444d-f586-0ae44e238543"
      },
      "id": "K0XYXzsXtgFu",
      "execution_count": 73,
      "outputs": [
        {
          "output_type": "display_data",
          "data": {
            "text/plain": [
              "ToggleButtons(description='B locus:', options=(('BB (black)', 'BB'), ('Bb (black)', 'Bb'), ('bb (brown)', 'bb'…"
            ],
            "application/vnd.jupyter.widget-view+json": {
              "version_major": 2,
              "version_minor": 0,
              "model_id": "fd4d81c09d394f3bbbe83351da8a84a7"
            }
          },
          "metadata": {}
        },
        {
          "output_type": "display_data",
          "data": {
            "text/plain": [
              "ToggleButtons(description='E locus:', options=(('EE (permits)', 'EE'), ('Ee (permits)', 'Ee'), ('ee (red/cream…"
            ],
            "application/vnd.jupyter.widget-view+json": {
              "version_major": 2,
              "version_minor": 0,
              "model_id": "6a3bb5b1b7834f4eb1d7a5d5ca0b0917"
            }
          },
          "metadata": {}
        },
        {
          "output_type": "display_data",
          "data": {
            "text/plain": [
              "ToggleButtons(description='K locus:', options=(('KB/KB', 'KBKB'), ('Kbr/ky', 'Kbrky'), ('ky/ky', 'kyky')), val…"
            ],
            "application/vnd.jupyter.widget-view+json": {
              "version_major": 2,
              "version_minor": 0,
              "model_id": "a775f230310d45e9901d3025677356a9"
            }
          },
          "metadata": {}
        },
        {
          "output_type": "display_data",
          "data": {
            "text/plain": [
              "ToggleButtons(description='A-1:', options=(('ay', 'ay'), ('at', 'at'), ('aw', 'aw'), ('a', 'a')), value='ay')"
            ],
            "application/vnd.jupyter.widget-view+json": {
              "version_major": 2,
              "version_minor": 0,
              "model_id": "1dab35b9ae7f4a119c42cecbee098ad6"
            }
          },
          "metadata": {}
        },
        {
          "output_type": "display_data",
          "data": {
            "text/plain": [
              "ToggleButtons(description='A-2:', options=(('ay', 'ay'), ('at', 'at'), ('aw', 'aw'), ('a', 'a')), value='ay')"
            ],
            "application/vnd.jupyter.widget-view+json": {
              "version_major": 2,
              "version_minor": 0,
              "model_id": "87ffbca6040845e98111cc72e74effba"
            }
          },
          "metadata": {}
        },
        {
          "output_type": "display_data",
          "data": {
            "text/plain": [
              "ToggleButtons(description='S locus:', options=(('SS (solid)', 'SS'), ('Ssp (carrier)', 'Ssp'), ('sp/sp (parti)…"
            ],
            "application/vnd.jupyter.widget-view+json": {
              "version_major": 2,
              "version_minor": 0,
              "model_id": "aeefbf9cda2a4d9f856d454251f1d8cd"
            }
          },
          "metadata": {}
        },
        {
          "output_type": "display_data",
          "data": {
            "text/plain": [
              "Output()"
            ],
            "application/vnd.jupyter.widget-view+json": {
              "version_major": 2,
              "version_minor": 0,
              "model_id": "6fc5f6e1041146bf9462f1e85ebeb237"
            }
          },
          "metadata": {}
        }
      ]
    },
    {
      "cell_type": "code",
      "source": [
        "## 7. Visual Summary"
      ],
      "metadata": {
        "id": "zlZc8rqlmxpu"
      },
      "id": "zlZc8rqlmxpu",
      "execution_count": 74,
      "outputs": []
    },
    {
      "cell_type": "code",
      "source": [
        "## 8. Further Reading"
      ],
      "metadata": {
        "id": "hOJT0Qgwmzhr"
      },
      "id": "hOJT0Qgwmzhr",
      "execution_count": 75,
      "outputs": []
    }
  ],
  "metadata": {
    "colab": {
      "provenance": []
    },
    "language_info": {
      "name": "python"
    },
    "kernelspec": {
      "name": "python3",
      "display_name": "Python 3"
    },
    "widgets": {
      "application/vnd.jupyter.widget-state+json": {
        "fd4d81c09d394f3bbbe83351da8a84a7": {
          "model_module": "@jupyter-widgets/controls",
          "model_name": "ToggleButtonsModel",
          "model_module_version": "1.5.0",
          "state": {
            "_dom_classes": [],
            "_model_module": "@jupyter-widgets/controls",
            "_model_module_version": "1.5.0",
            "_model_name": "ToggleButtonsModel",
            "_options_labels": [
              "BB (black)",
              "Bb (black)",
              "bb (brown)"
            ],
            "_view_count": null,
            "_view_module": "@jupyter-widgets/controls",
            "_view_module_version": "1.5.0",
            "_view_name": "ToggleButtonsView",
            "button_style": "",
            "description": "B locus:",
            "description_tooltip": null,
            "disabled": false,
            "icons": [],
            "index": 0,
            "layout": "IPY_MODEL_ffa1b347c1ac4fac94dfe3cc6e6105c8",
            "style": "IPY_MODEL_c1d17ff074fd47da96650475de17ae50",
            "tooltips": []
          }
        },
        "ffa1b347c1ac4fac94dfe3cc6e6105c8": {
          "model_module": "@jupyter-widgets/base",
          "model_name": "LayoutModel",
          "model_module_version": "1.2.0",
          "state": {
            "_model_module": "@jupyter-widgets/base",
            "_model_module_version": "1.2.0",
            "_model_name": "LayoutModel",
            "_view_count": null,
            "_view_module": "@jupyter-widgets/base",
            "_view_module_version": "1.2.0",
            "_view_name": "LayoutView",
            "align_content": null,
            "align_items": null,
            "align_self": null,
            "border": null,
            "bottom": null,
            "display": null,
            "flex": null,
            "flex_flow": null,
            "grid_area": null,
            "grid_auto_columns": null,
            "grid_auto_flow": null,
            "grid_auto_rows": null,
            "grid_column": null,
            "grid_gap": null,
            "grid_row": null,
            "grid_template_areas": null,
            "grid_template_columns": null,
            "grid_template_rows": null,
            "height": null,
            "justify_content": null,
            "justify_items": null,
            "left": null,
            "margin": null,
            "max_height": null,
            "max_width": null,
            "min_height": null,
            "min_width": null,
            "object_fit": null,
            "object_position": null,
            "order": null,
            "overflow": null,
            "overflow_x": null,
            "overflow_y": null,
            "padding": null,
            "right": null,
            "top": null,
            "visibility": null,
            "width": null
          }
        },
        "c1d17ff074fd47da96650475de17ae50": {
          "model_module": "@jupyter-widgets/controls",
          "model_name": "ToggleButtonsStyleModel",
          "model_module_version": "1.5.0",
          "state": {
            "_model_module": "@jupyter-widgets/controls",
            "_model_module_version": "1.5.0",
            "_model_name": "ToggleButtonsStyleModel",
            "_view_count": null,
            "_view_module": "@jupyter-widgets/base",
            "_view_module_version": "1.2.0",
            "_view_name": "StyleView",
            "button_width": "",
            "description_width": "",
            "font_weight": ""
          }
        },
        "6a3bb5b1b7834f4eb1d7a5d5ca0b0917": {
          "model_module": "@jupyter-widgets/controls",
          "model_name": "ToggleButtonsModel",
          "model_module_version": "1.5.0",
          "state": {
            "_dom_classes": [],
            "_model_module": "@jupyter-widgets/controls",
            "_model_module_version": "1.5.0",
            "_model_name": "ToggleButtonsModel",
            "_options_labels": [
              "EE (permits)",
              "Ee (permits)",
              "ee (red/cream)"
            ],
            "_view_count": null,
            "_view_module": "@jupyter-widgets/controls",
            "_view_module_version": "1.5.0",
            "_view_name": "ToggleButtonsView",
            "button_style": "",
            "description": "E locus:",
            "description_tooltip": null,
            "disabled": false,
            "icons": [],
            "index": 0,
            "layout": "IPY_MODEL_d6ec014129504d68a0d073f76b3fc1f9",
            "style": "IPY_MODEL_86b3fc17340e44e1b486b776b0a9ec8f",
            "tooltips": []
          }
        },
        "d6ec014129504d68a0d073f76b3fc1f9": {
          "model_module": "@jupyter-widgets/base",
          "model_name": "LayoutModel",
          "model_module_version": "1.2.0",
          "state": {
            "_model_module": "@jupyter-widgets/base",
            "_model_module_version": "1.2.0",
            "_model_name": "LayoutModel",
            "_view_count": null,
            "_view_module": "@jupyter-widgets/base",
            "_view_module_version": "1.2.0",
            "_view_name": "LayoutView",
            "align_content": null,
            "align_items": null,
            "align_self": null,
            "border": null,
            "bottom": null,
            "display": null,
            "flex": null,
            "flex_flow": null,
            "grid_area": null,
            "grid_auto_columns": null,
            "grid_auto_flow": null,
            "grid_auto_rows": null,
            "grid_column": null,
            "grid_gap": null,
            "grid_row": null,
            "grid_template_areas": null,
            "grid_template_columns": null,
            "grid_template_rows": null,
            "height": null,
            "justify_content": null,
            "justify_items": null,
            "left": null,
            "margin": null,
            "max_height": null,
            "max_width": null,
            "min_height": null,
            "min_width": null,
            "object_fit": null,
            "object_position": null,
            "order": null,
            "overflow": null,
            "overflow_x": null,
            "overflow_y": null,
            "padding": null,
            "right": null,
            "top": null,
            "visibility": null,
            "width": null
          }
        },
        "86b3fc17340e44e1b486b776b0a9ec8f": {
          "model_module": "@jupyter-widgets/controls",
          "model_name": "ToggleButtonsStyleModel",
          "model_module_version": "1.5.0",
          "state": {
            "_model_module": "@jupyter-widgets/controls",
            "_model_module_version": "1.5.0",
            "_model_name": "ToggleButtonsStyleModel",
            "_view_count": null,
            "_view_module": "@jupyter-widgets/base",
            "_view_module_version": "1.2.0",
            "_view_name": "StyleView",
            "button_width": "",
            "description_width": "",
            "font_weight": ""
          }
        },
        "a775f230310d45e9901d3025677356a9": {
          "model_module": "@jupyter-widgets/controls",
          "model_name": "ToggleButtonsModel",
          "model_module_version": "1.5.0",
          "state": {
            "_dom_classes": [],
            "_model_module": "@jupyter-widgets/controls",
            "_model_module_version": "1.5.0",
            "_model_name": "ToggleButtonsModel",
            "_options_labels": [
              "KB/KB",
              "Kbr/ky",
              "ky/ky"
            ],
            "_view_count": null,
            "_view_module": "@jupyter-widgets/controls",
            "_view_module_version": "1.5.0",
            "_view_name": "ToggleButtonsView",
            "button_style": "",
            "description": "K locus:",
            "description_tooltip": null,
            "disabled": false,
            "icons": [],
            "index": 0,
            "layout": "IPY_MODEL_566fe375400e43aaaf8384001366fe5a",
            "style": "IPY_MODEL_95ae720a79f14f2b894c4744806f71f1",
            "tooltips": []
          }
        },
        "566fe375400e43aaaf8384001366fe5a": {
          "model_module": "@jupyter-widgets/base",
          "model_name": "LayoutModel",
          "model_module_version": "1.2.0",
          "state": {
            "_model_module": "@jupyter-widgets/base",
            "_model_module_version": "1.2.0",
            "_model_name": "LayoutModel",
            "_view_count": null,
            "_view_module": "@jupyter-widgets/base",
            "_view_module_version": "1.2.0",
            "_view_name": "LayoutView",
            "align_content": null,
            "align_items": null,
            "align_self": null,
            "border": null,
            "bottom": null,
            "display": null,
            "flex": null,
            "flex_flow": null,
            "grid_area": null,
            "grid_auto_columns": null,
            "grid_auto_flow": null,
            "grid_auto_rows": null,
            "grid_column": null,
            "grid_gap": null,
            "grid_row": null,
            "grid_template_areas": null,
            "grid_template_columns": null,
            "grid_template_rows": null,
            "height": null,
            "justify_content": null,
            "justify_items": null,
            "left": null,
            "margin": null,
            "max_height": null,
            "max_width": null,
            "min_height": null,
            "min_width": null,
            "object_fit": null,
            "object_position": null,
            "order": null,
            "overflow": null,
            "overflow_x": null,
            "overflow_y": null,
            "padding": null,
            "right": null,
            "top": null,
            "visibility": null,
            "width": null
          }
        },
        "95ae720a79f14f2b894c4744806f71f1": {
          "model_module": "@jupyter-widgets/controls",
          "model_name": "ToggleButtonsStyleModel",
          "model_module_version": "1.5.0",
          "state": {
            "_model_module": "@jupyter-widgets/controls",
            "_model_module_version": "1.5.0",
            "_model_name": "ToggleButtonsStyleModel",
            "_view_count": null,
            "_view_module": "@jupyter-widgets/base",
            "_view_module_version": "1.2.0",
            "_view_name": "StyleView",
            "button_width": "",
            "description_width": "",
            "font_weight": ""
          }
        },
        "1dab35b9ae7f4a119c42cecbee098ad6": {
          "model_module": "@jupyter-widgets/controls",
          "model_name": "ToggleButtonsModel",
          "model_module_version": "1.5.0",
          "state": {
            "_dom_classes": [],
            "_model_module": "@jupyter-widgets/controls",
            "_model_module_version": "1.5.0",
            "_model_name": "ToggleButtonsModel",
            "_options_labels": [
              "ay",
              "at",
              "aw",
              "a"
            ],
            "_view_count": null,
            "_view_module": "@jupyter-widgets/controls",
            "_view_module_version": "1.5.0",
            "_view_name": "ToggleButtonsView",
            "button_style": "",
            "description": "A-1:",
            "description_tooltip": null,
            "disabled": false,
            "icons": [],
            "index": 0,
            "layout": "IPY_MODEL_499ec93ad7cf4a07855e9e293c891aef",
            "style": "IPY_MODEL_3e53445dbaf541adb5d2fcb8a5a85257",
            "tooltips": []
          }
        },
        "499ec93ad7cf4a07855e9e293c891aef": {
          "model_module": "@jupyter-widgets/base",
          "model_name": "LayoutModel",
          "model_module_version": "1.2.0",
          "state": {
            "_model_module": "@jupyter-widgets/base",
            "_model_module_version": "1.2.0",
            "_model_name": "LayoutModel",
            "_view_count": null,
            "_view_module": "@jupyter-widgets/base",
            "_view_module_version": "1.2.0",
            "_view_name": "LayoutView",
            "align_content": null,
            "align_items": null,
            "align_self": null,
            "border": null,
            "bottom": null,
            "display": null,
            "flex": null,
            "flex_flow": null,
            "grid_area": null,
            "grid_auto_columns": null,
            "grid_auto_flow": null,
            "grid_auto_rows": null,
            "grid_column": null,
            "grid_gap": null,
            "grid_row": null,
            "grid_template_areas": null,
            "grid_template_columns": null,
            "grid_template_rows": null,
            "height": null,
            "justify_content": null,
            "justify_items": null,
            "left": null,
            "margin": null,
            "max_height": null,
            "max_width": null,
            "min_height": null,
            "min_width": null,
            "object_fit": null,
            "object_position": null,
            "order": null,
            "overflow": null,
            "overflow_x": null,
            "overflow_y": null,
            "padding": null,
            "right": null,
            "top": null,
            "visibility": null,
            "width": null
          }
        },
        "3e53445dbaf541adb5d2fcb8a5a85257": {
          "model_module": "@jupyter-widgets/controls",
          "model_name": "ToggleButtonsStyleModel",
          "model_module_version": "1.5.0",
          "state": {
            "_model_module": "@jupyter-widgets/controls",
            "_model_module_version": "1.5.0",
            "_model_name": "ToggleButtonsStyleModel",
            "_view_count": null,
            "_view_module": "@jupyter-widgets/base",
            "_view_module_version": "1.2.0",
            "_view_name": "StyleView",
            "button_width": "",
            "description_width": "",
            "font_weight": ""
          }
        },
        "87ffbca6040845e98111cc72e74effba": {
          "model_module": "@jupyter-widgets/controls",
          "model_name": "ToggleButtonsModel",
          "model_module_version": "1.5.0",
          "state": {
            "_dom_classes": [],
            "_model_module": "@jupyter-widgets/controls",
            "_model_module_version": "1.5.0",
            "_model_name": "ToggleButtonsModel",
            "_options_labels": [
              "ay",
              "at",
              "aw",
              "a"
            ],
            "_view_count": null,
            "_view_module": "@jupyter-widgets/controls",
            "_view_module_version": "1.5.0",
            "_view_name": "ToggleButtonsView",
            "button_style": "",
            "description": "A-2:",
            "description_tooltip": null,
            "disabled": false,
            "icons": [],
            "index": 0,
            "layout": "IPY_MODEL_dae01debc45b4d7eaf10f2ee8f41bd54",
            "style": "IPY_MODEL_287ab06e04e8401a8959a00c141172d7",
            "tooltips": []
          }
        },
        "dae01debc45b4d7eaf10f2ee8f41bd54": {
          "model_module": "@jupyter-widgets/base",
          "model_name": "LayoutModel",
          "model_module_version": "1.2.0",
          "state": {
            "_model_module": "@jupyter-widgets/base",
            "_model_module_version": "1.2.0",
            "_model_name": "LayoutModel",
            "_view_count": null,
            "_view_module": "@jupyter-widgets/base",
            "_view_module_version": "1.2.0",
            "_view_name": "LayoutView",
            "align_content": null,
            "align_items": null,
            "align_self": null,
            "border": null,
            "bottom": null,
            "display": null,
            "flex": null,
            "flex_flow": null,
            "grid_area": null,
            "grid_auto_columns": null,
            "grid_auto_flow": null,
            "grid_auto_rows": null,
            "grid_column": null,
            "grid_gap": null,
            "grid_row": null,
            "grid_template_areas": null,
            "grid_template_columns": null,
            "grid_template_rows": null,
            "height": null,
            "justify_content": null,
            "justify_items": null,
            "left": null,
            "margin": null,
            "max_height": null,
            "max_width": null,
            "min_height": null,
            "min_width": null,
            "object_fit": null,
            "object_position": null,
            "order": null,
            "overflow": null,
            "overflow_x": null,
            "overflow_y": null,
            "padding": null,
            "right": null,
            "top": null,
            "visibility": null,
            "width": null
          }
        },
        "287ab06e04e8401a8959a00c141172d7": {
          "model_module": "@jupyter-widgets/controls",
          "model_name": "ToggleButtonsStyleModel",
          "model_module_version": "1.5.0",
          "state": {
            "_model_module": "@jupyter-widgets/controls",
            "_model_module_version": "1.5.0",
            "_model_name": "ToggleButtonsStyleModel",
            "_view_count": null,
            "_view_module": "@jupyter-widgets/base",
            "_view_module_version": "1.2.0",
            "_view_name": "StyleView",
            "button_width": "",
            "description_width": "",
            "font_weight": ""
          }
        },
        "aeefbf9cda2a4d9f856d454251f1d8cd": {
          "model_module": "@jupyter-widgets/controls",
          "model_name": "ToggleButtonsModel",
          "model_module_version": "1.5.0",
          "state": {
            "_dom_classes": [],
            "_model_module": "@jupyter-widgets/controls",
            "_model_module_version": "1.5.0",
            "_model_name": "ToggleButtonsModel",
            "_options_labels": [
              "SS (solid)",
              "Ssp (carrier)",
              "sp/sp (parti)"
            ],
            "_view_count": null,
            "_view_module": "@jupyter-widgets/controls",
            "_view_module_version": "1.5.0",
            "_view_name": "ToggleButtonsView",
            "button_style": "",
            "description": "S locus:",
            "description_tooltip": null,
            "disabled": false,
            "icons": [],
            "index": 0,
            "layout": "IPY_MODEL_26542c59805f415c8e6ea8a40b859452",
            "style": "IPY_MODEL_5f80105ce9754ecdbc04a4ec15836b6b",
            "tooltips": []
          }
        },
        "26542c59805f415c8e6ea8a40b859452": {
          "model_module": "@jupyter-widgets/base",
          "model_name": "LayoutModel",
          "model_module_version": "1.2.0",
          "state": {
            "_model_module": "@jupyter-widgets/base",
            "_model_module_version": "1.2.0",
            "_model_name": "LayoutModel",
            "_view_count": null,
            "_view_module": "@jupyter-widgets/base",
            "_view_module_version": "1.2.0",
            "_view_name": "LayoutView",
            "align_content": null,
            "align_items": null,
            "align_self": null,
            "border": null,
            "bottom": null,
            "display": null,
            "flex": null,
            "flex_flow": null,
            "grid_area": null,
            "grid_auto_columns": null,
            "grid_auto_flow": null,
            "grid_auto_rows": null,
            "grid_column": null,
            "grid_gap": null,
            "grid_row": null,
            "grid_template_areas": null,
            "grid_template_columns": null,
            "grid_template_rows": null,
            "height": null,
            "justify_content": null,
            "justify_items": null,
            "left": null,
            "margin": null,
            "max_height": null,
            "max_width": null,
            "min_height": null,
            "min_width": null,
            "object_fit": null,
            "object_position": null,
            "order": null,
            "overflow": null,
            "overflow_x": null,
            "overflow_y": null,
            "padding": null,
            "right": null,
            "top": null,
            "visibility": null,
            "width": null
          }
        },
        "5f80105ce9754ecdbc04a4ec15836b6b": {
          "model_module": "@jupyter-widgets/controls",
          "model_name": "ToggleButtonsStyleModel",
          "model_module_version": "1.5.0",
          "state": {
            "_model_module": "@jupyter-widgets/controls",
            "_model_module_version": "1.5.0",
            "_model_name": "ToggleButtonsStyleModel",
            "_view_count": null,
            "_view_module": "@jupyter-widgets/base",
            "_view_module_version": "1.2.0",
            "_view_name": "StyleView",
            "button_width": "",
            "description_width": "",
            "font_weight": ""
          }
        },
        "6fc5f6e1041146bf9462f1e85ebeb237": {
          "model_module": "@jupyter-widgets/output",
          "model_name": "OutputModel",
          "model_module_version": "1.0.0",
          "state": {
            "_dom_classes": [],
            "_model_module": "@jupyter-widgets/output",
            "_model_module_version": "1.0.0",
            "_model_name": "OutputModel",
            "_view_count": null,
            "_view_module": "@jupyter-widgets/output",
            "_view_module_version": "1.0.0",
            "_view_name": "OutputView",
            "layout": "IPY_MODEL_09e8dcb59c5e484da6a3d156ca20fe04",
            "msg_id": "",
            "outputs": [
              {
                "output_type": "display_data",
                "data": {
                  "text/plain": "<IPython.core.display.HTML object>",
                  "text/html": "<h3>Black</h3>"
                },
                "metadata": {}
              }
            ]
          }
        },
        "09e8dcb59c5e484da6a3d156ca20fe04": {
          "model_module": "@jupyter-widgets/base",
          "model_name": "LayoutModel",
          "model_module_version": "1.2.0",
          "state": {
            "_model_module": "@jupyter-widgets/base",
            "_model_module_version": "1.2.0",
            "_model_name": "LayoutModel",
            "_view_count": null,
            "_view_module": "@jupyter-widgets/base",
            "_view_module_version": "1.2.0",
            "_view_name": "LayoutView",
            "align_content": null,
            "align_items": null,
            "align_self": null,
            "border": null,
            "bottom": null,
            "display": null,
            "flex": null,
            "flex_flow": null,
            "grid_area": null,
            "grid_auto_columns": null,
            "grid_auto_flow": null,
            "grid_auto_rows": null,
            "grid_column": null,
            "grid_gap": null,
            "grid_row": null,
            "grid_template_areas": null,
            "grid_template_columns": null,
            "grid_template_rows": null,
            "height": null,
            "justify_content": null,
            "justify_items": null,
            "left": null,
            "margin": null,
            "max_height": null,
            "max_width": null,
            "min_height": null,
            "min_width": null,
            "object_fit": null,
            "object_position": null,
            "order": null,
            "overflow": null,
            "overflow_x": null,
            "overflow_y": null,
            "padding": null,
            "right": null,
            "top": null,
            "visibility": null,
            "width": null
          }
        }
      }
    }
  },
  "nbformat": 4,
  "nbformat_minor": 5
}