{
 "cells": [
  {
   "cell_type": "markdown",
   "id": "11038978",
   "metadata": {},
   "source": [
    "# 🐩 Poodle Palette\n",
    "\n",
    "A quick-start notebook for visualizing Poodle coat‑color genetics.\n",
    "\n",
    "---\n",
    "**How to use this notebook**\n",
    "1. Run the setup cell to install/load dependencies.\n",
    "2. Enter or paste genotype data in the provided DataFrame.\n",
    "3. Run the viz cell to see a bar chart of phenotype counts.\n",
    "\n",
    "Feel free to add new cells, notes, or replace the sample data!"
   ]
  },
  {
   "cell_type": "code",
   "execution_count": null,
   "id": "f4e13390",
   "metadata": {},
   "outputs": [],
   "source": [
    "# 📦 Setup\n",
    "# If running locally, make sure pandas and matplotlib are installed.\n",
    "# In Google Colab these come pre‑installed.\n",
    "import pandas as pd\n",
    "import matplotlib.pyplot as plt\n",
    "\n",
    "# Display plots inline\n",
    "%matplotlib inline\n"
   ]
  },
  {
   "cell_type": "code",
   "execution_count": null,
   "id": "a708e56d",
   "metadata": {},
   "outputs": [],
   "source": [
    "# 🗃️ Sample genotype -> phenotype data\n",
    "# Replace or expand this with real genotypes if you have them.\n",
    "data = [\n",
    "    {'Dog': 'Fido', 'Genotype': 'BbEe', 'Phenotype': 'Black'},\n",
    "    {'Dog': 'Luna', 'Genotype': 'bbEe', 'Phenotype': 'Brown'},\n",
    "    {'Dog': 'Max',  'Genotype': 'BBee', 'Phenotype': 'Cream'},\n",
    "]\n",
    "\n",
    "df = pd.DataFrame(data)\n",
    "df"
   ]
  },
  {
   "cell_type": "code",
   "execution_count": null,
   "id": "c86771fb",
   "metadata": {},
   "outputs": [],
   "source": [
    "# 🎨 Visualization\n",
    "phenotype_counts = df['Phenotype'].value_counts()\n",
    "phenotype_counts.plot(kind='bar', title='Poodle Coat‑Color Distribution')\n",
    "plt.xlabel('Coat Color')\n",
    "plt.ylabel('Number of Dogs')\n",
    "plt.show()"
   ]
  }
 ],
 "metadata": {},
 "nbformat": 4,
 "nbformat_minor": 5
}
