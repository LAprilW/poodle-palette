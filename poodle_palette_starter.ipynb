{
  "cells": [
    {
      "cell_type": "markdown",
      "id": "11038978",
      "metadata": {
        "id": "11038978"
      },
      "source": [
        "# 🐩 Poodle Palette – Genotype → Phenotype Tutor\n",
        "Welcome! In this notebook you’ll learn how two key genes (B and E) create the classic Poodle coat colours—and you’ll see the result for *any* genotype you enter."
      ]
    },
    {
      "cell_type": "code",
      "execution_count": 1,
      "id": "f4e13390",
      "metadata": {
        "id": "f4e13390"
      },
      "outputs": [],
      "source": [
        "# 📦 Setup\n",
        "# If running locally, make sure pandas and matplotlib are installed.\n",
        "# In Google Colab these come pre‑installed.\n",
        "import pandas as pd\n",
        "import matplotlib.pyplot as plt\n",
        "\n",
        "# Display plots inline\n",
        "%matplotlib inline\n"
      ]
    },
    {
      "cell_type": "markdown",
      "source": [
        "## 🎓 2. Genetic Background\n",
        "Poodle colours hinge mainly on two loci:\n",
        "\n",
        "| Locus | Dominant / recessive | What it controls |\n",
        "|-------|----------------------|------------------|\n",
        "| **B** | **B** = black pigment<br>**b** = brown pigment | `bb` turns all black areas brown (“liver”). |\n",
        "| **E** | **E** = allows black/brown<br>**e** = blocks black → red/cream | `ee` dogs show only red/cream pigment. |\n",
        "\n",
        "*We’ll ignore rarer loci (Dilute, Spotting) to keep the demo bite-sized.*"
      ],
      "metadata": {
        "id": "wbwCUF5LmTVe"
      },
      "id": "wbwCUF5LmTVe"
    },
    {
      "cell_type": "code",
      "source": [
        "## 3. Imports + Helper Dictionaries\n"
      ],
      "metadata": {
        "id": "Kr-X0wLsmeMg"
      },
      "id": "Kr-X0wLsmeMg",
      "execution_count": 11,
      "outputs": []
    },
    {
      "cell_type": "code",
      "source": [
        "# 📦 Standard data-science imports\n",
        "import pandas as pd\n",
        "import matplotlib.pyplot as plt\n",
        "\n",
        "# 📚 Teaching widgets (for the interactive allele picker we’ll add later)\n",
        "from IPython.display import HTML\n",
        "import ipywidgets as widgets\n",
        "\n",
        "# 🖼️ Show charts inside the notebook\n",
        "%matplotlib inline\n",
        "\n",
        "# ────────────────────────────────────────────────────────────────\n",
        "# Helper dictionaries for quick look-ups at each locus\n",
        "# These will be used by predict_colour() in the next section.\n",
        "\n",
        "# B-locus (black vs. brown pigment)\n",
        "B_LOCUS = {\n",
        "    \"BB\": \"Black\",\n",
        "    \"Bb\": \"Black\",\n",
        "    \"bb\": \"Brown\"\n",
        "}\n",
        "\n",
        "# E-locus (extension / red-cream override)\n",
        "E_LOCUS = {\n",
        "    \"EE\": \"Allows black/brown\",\n",
        "    \"Ee\": \"Allows black/brown\",\n",
        "    \"ee\": \"Red/Cream (blocks black)\"}\n",
        "\n",
        "# Spotting / Parti – dominant solid S, recessive parti sp\n",
        "S_LOCUS = {\n",
        "    \"SS\": \"solid\",\n",
        "    \"Ssp\": \"solid (carrier)\",\n",
        "    \"spsp\": \"parti\"\n",
        "}\n",
        "\n",
        "# K-locus hierarchy  KB  >  Kbr  >  ky\n",
        "K_HIERARCHY = [\"KB\", \"Kbr\", \"ky\"]    # first one present wins\n",
        "\n",
        "# A-locus hierarchy  ay  >  at  >  aw  >  a\n",
        "A_HIERARCHY = [\"ay\", \"at\", \"aw\", \"a\"]\n"
      ],
      "metadata": {
        "id": "SrpwZeXFnrgq"
      },
      "id": "SrpwZeXFnrgq",
      "execution_count": 25,
      "outputs": []
    },
    {
      "cell_type": "code",
      "source": [
        "## 4. Function `predict_colour()`"
      ],
      "metadata": {
        "id": "sSTrXgk-miZJ"
      },
      "id": "sSTrXgk-miZJ",
      "execution_count": 14,
      "outputs": []
    },
    {
      "cell_type": "code",
      "source": [
        "# dominance tables\n",
        "K_HIERARCHY = [\"Kbr\", \"KB\"]\n",
        "A_HIERARCHY = [\"ay\", \"at\", \"aw\", \"a\"]\n",
        "A_LABELS    = {\"ay\": \"Sable\", \"at\": \"Phantom\", \"aw\": \"Agouti\"}\n",
        "\n",
        "def predict_colour(b_pair: str, e_pair: str,\n",
        "                   k_pair: str,\n",
        "                   a1: str, a2: str,\n",
        "                   s_pair: str) -> str:\n",
        "    \"\"\"Return plain-English Poodle coat description.\"\"\"\n",
        "\n",
        "    recessive_red = (e_pair == \"ee\")\n",
        "    brown_base    = (b_pair == \"bb\")\n",
        "\n",
        "    # 1️⃣  Base colour\n",
        "    if recessive_red:\n",
        "        base_colour = \"Red/Cream\" + (\" (brown nose)\" if brown_base else \"\")\n",
        "    else:\n",
        "        base_colour = \"Brown\" if brown_base else \"Black\"\n",
        "\n",
        "    # 2️⃣  K-locus winner\n",
        "    if \"Kbr\" in k_pair:\n",
        "        k_dom = \"Kbr\"\n",
        "    elif \"KB\" in k_pair:\n",
        "        k_dom = \"KB\"\n",
        "    else:\n",
        "        k_dom = \"ky\"          # kyky\n",
        "\n",
        "    # 3️⃣  Dominant A allele\n",
        "    dom_a = next(a for a in A_HIERARCHY if a in (a1 + a2))\n",
        "\n",
        "    # 4️⃣  Pattern / carrier text\n",
        "    pattern = \"\"\n",
        "\n",
        "    if recessive_red:\n",
        "        if k_dom == \"Kbr\":\n",
        "            pattern = \"carries Brindle\"\n",
        "        elif k_dom == \"ky\" and dom_a != \"a\":           # kyky & not a/a\n",
        "            pattern = f\"carries {A_LABELS[dom_a]}\"\n",
        "        # KB does nothing on ee\n",
        "    else:\n",
        "        if k_dom == \"KB\":\n",
        "            pattern = \"\"\n",
        "        elif k_dom == \"Kbr\":\n",
        "            pattern = \"\" if dom_a == \"a\" else \"Brindle\"\n",
        "        else:   # kyky — true A pattern shows\n",
        "            pattern = A_LABELS.get(dom_a, \"\")\n",
        "\n",
        "    # 5️⃣  Spotting / Parti\n",
        "    spotting = \"Parti\" if s_pair.lower().endswith(\"spsp\") else \"\"\n",
        "\n",
        "    # 6️⃣  Assemble neatly\n",
        "    parts = [spotting, base_colour, pattern]\n",
        "    return \" \".join(p for p in parts if p)\n"
      ],
      "metadata": {
        "id": "-I3XsuFioRUd"
      },
      "id": "-I3XsuFioRUd",
      "execution_count": 59,
      "outputs": []
    },
    {
      "cell_type": "code",
      "source": [
        "# ee + kyky + ay  → carries Sable\n",
        "print(predict_colour(\"BB\",\"ee\",\"kyky\",\"ay\",\"at\",\"SS\"))\n",
        "#   Red/Cream carries Sable\n",
        "\n",
        "# ee + kyky + at  → carries Phantom\n",
        "print(predict_colour(\"BB\",\"ee\",\"kyky\",\"at\",\"aw\",\"SS\"))\n",
        "#   Red/Cream carries Phantom\n",
        "\n",
        "# ee + kyky + a/a  → just Red/Cream\n",
        "print(predict_colour(\"bb\",\"ee\",\"kyky\",\"a\",\"a\",\"SS\"))\n",
        "#   Red/Cream\n",
        "\n",
        "# ee + Kbr  → carries Brindle (unchanged)\n",
        "print(predict_colour(\"BB\",\"ee\",\"Kbrky\",\"ay\",\"at\",\"SS\"))\n",
        "#   Red/Cream carries Brindle\n",
        "\n",
        "# non-ee kyky atat  → Phantom Black (pattern shows)\n",
        "print(predict_colour(\"bb\",\"EE\",\"kyky\",\"at\",\"at\",\"SS\"))\n",
        "#   Phantom Black\n"
      ],
      "metadata": {
        "colab": {
          "base_uri": "https://localhost:8080/"
        },
        "id": "xCAqVEzgoZ4z",
        "outputId": "f2028ad3-e38d-4fc6-8d25-ed9c0c3ad84b"
      },
      "id": "xCAqVEzgoZ4z",
      "execution_count": 62,
      "outputs": [
        {
          "output_type": "stream",
          "name": "stdout",
          "text": [
            "Red/Cream carries Sable\n",
            "Red/Cream carries Phantom\n",
            "Red/Cream (brown nose)\n",
            "Red/Cream carries Brindle\n",
            "Brown Phantom\n"
          ]
        }
      ]
    },
    {
      "cell_type": "code",
      "source": [
        "## 5. Bulk Conversion of Your CSV"
      ],
      "metadata": {
        "id": "PbGiLltjmnEb"
      },
      "id": "PbGiLltjmnEb",
      "execution_count": 8,
      "outputs": []
    },
    {
      "cell_type": "code",
      "source": [
        "## 6. Interactive Playground"
      ],
      "metadata": {
        "id": "q-Ome1RBmu4u"
      },
      "id": "q-Ome1RBmu4u",
      "execution_count": 23,
      "outputs": []
    },
    {
      "cell_type": "code",
      "source": [
        "def show_interactive():\n",
        "    # --- B locus ----------------------------------------------------------\n",
        "    b_btn = widgets.ToggleButtons(\n",
        "        options=[(\"BB (black)\", \"BB\"),\n",
        "                 (\"Bb (black)\", \"Bb\"),\n",
        "                 (\"bb (brown)\", \"bb\")],\n",
        "        description=\"B locus:\",\n",
        "    )\n",
        "\n",
        "    # --- E locus ----------------------------------------------------------\n",
        "    e_btn = widgets.ToggleButtons(\n",
        "        options=[(\"EE (permits)\", \"EE\"),\n",
        "                 (\"Ee (permits)\", \"Ee\"),\n",
        "                 (\"ee (red/cream)\", \"ee\")],\n",
        "        description=\"E locus:\",\n",
        "    )\n",
        "\n",
        "    # --- K locus ----------------------------------------------------------\n",
        "    k_btn = widgets.ToggleButtons(\n",
        "        options=[(\"KB/KB\",  \"KBKB\"),\n",
        "                 (\"Kbr/ky\", \"Kbrky\"),\n",
        "                 (\"ky/ky\",  \"kyky\")],\n",
        "        description=\"K locus:\",\n",
        "    )\n",
        "\n",
        "    # --- A locus (two alleles) -------------------------------------------\n",
        "    a1_btn = widgets.ToggleButtons(\n",
        "        description=\"A-1:\",\n",
        "        options=[(\"ay\", \"ay\"), (\"at\", \"at\"), (\"aw\", \"aw\"), (\"a\", \"a\")],\n",
        "    )\n",
        "    a2_btn = widgets.ToggleButtons(\n",
        "        description=\"A-2:\",\n",
        "        options=[(\"ay\", \"ay\"), (\"at\", \"at\"), (\"aw\", \"aw\"), (\"a\", \"a\")],\n",
        "    )\n",
        "\n",
        "    # --- Spotting ---------------------------------------------------------\n",
        "    s_btn = widgets.ToggleButtons(\n",
        "        description=\"S locus:\",\n",
        "        options=[(\"SS (solid)\",  \"SS\"),\n",
        "                 (\"Ssp (carrier)\", \"Ssp\"),\n",
        "                 (\"sp/sp (parti)\", \"spsp\")],\n",
        "    )\n",
        "\n",
        "    # --------- live output area ------------------------------------------\n",
        "    out = widgets.Output()\n",
        "\n",
        "    def update(_=None):\n",
        "        colour = predict_colour(\n",
        "            b_btn.value,\n",
        "            e_btn.value,\n",
        "            k_btn.value,\n",
        "            a1_btn.value,\n",
        "            a2_btn.value,\n",
        "            s_btn.value\n",
        "        )\n",
        "        with out:\n",
        "            out.clear_output()\n",
        "            display(HTML(f\"<h3>{colour}</h3>\"))\n",
        "\n",
        "    # fire once at start\n",
        "    update()\n",
        "\n",
        "    # listen for *any* change\n",
        "    for w in (b_btn, e_btn, k_btn, a1_btn, a2_btn, s_btn):\n",
        "        w.observe(update, names=\"value\")\n",
        "\n",
        "    display(b_btn, e_btn, k_btn, a1_btn, a2_btn, s_btn, out)\n",
        "\n",
        "# run it\n",
        "show_interactive()\n"
      ],
      "metadata": {
        "colab": {
          "base_uri": "https://localhost:8080/",
          "height": 238,
          "referenced_widgets": [
            "aa0c67d7ed664e5da9a52a23d78c36d8",
            "984d79a5349a4969a126e68cee76160f",
            "87a8f6d0cd8149bdab27936ca68faf8b",
            "1986d45c531b4bcb9b25afbd2e52dc45",
            "a0d0b05813da422db45a333c8822d9bc",
            "60a11dffb7c748c4a3b00c8c7d838fed",
            "627c079c5eaa437483d4f4595f340109",
            "f1880fe72ad346ada61a7fa44c511f36",
            "80483739669c47e4b8a0a68d6f7fec71",
            "8adc634a39ee4c368830309ac52bf29c",
            "72264c74e8b540ba81f78e2a55d63284",
            "e5b12be057ef4f5f9269db4207ecc2eb",
            "df6cacc1522745c9a7c29ca0bfd6dc8f",
            "ff7c8d3002d844e7aa1bc939b32e05d5",
            "fe619f2551214b52a41561e823271e1a",
            "d9ae75c74dca4835b4242ebdc8e2cc1c",
            "b9ec213aad7b428db2f1b3eb265ac1c2",
            "a5a93e85227140019097fd7c9ee8adf4",
            "ca4df33202444c38b5e6d24613689aa8",
            "faf70f7fa0114ce390d8d2c11653980a"
          ]
        },
        "id": "K0XYXzsXtgFu",
        "outputId": "3075fd82-115f-4fa5-f569-a3f4edd2b25d"
      },
      "id": "K0XYXzsXtgFu",
      "execution_count": 58,
      "outputs": [
        {
          "output_type": "display_data",
          "data": {
            "text/plain": [
              "ToggleButtons(description='B locus:', options=(('BB (black)', 'BB'), ('Bb (black)', 'Bb'), ('bb (brown)', 'bb'…"
            ],
            "application/vnd.jupyter.widget-view+json": {
              "version_major": 2,
              "version_minor": 0,
              "model_id": "aa0c67d7ed664e5da9a52a23d78c36d8"
            }
          },
          "metadata": {}
        },
        {
          "output_type": "display_data",
          "data": {
            "text/plain": [
              "ToggleButtons(description='E locus:', options=(('EE (permits)', 'EE'), ('Ee (permits)', 'Ee'), ('ee (red/cream…"
            ],
            "application/vnd.jupyter.widget-view+json": {
              "version_major": 2,
              "version_minor": 0,
              "model_id": "1986d45c531b4bcb9b25afbd2e52dc45"
            }
          },
          "metadata": {}
        },
        {
          "output_type": "display_data",
          "data": {
            "text/plain": [
              "ToggleButtons(description='K locus:', options=(('KB/KB', 'KBKB'), ('Kbr/ky', 'Kbrky'), ('ky/ky', 'kyky')), val…"
            ],
            "application/vnd.jupyter.widget-view+json": {
              "version_major": 2,
              "version_minor": 0,
              "model_id": "627c079c5eaa437483d4f4595f340109"
            }
          },
          "metadata": {}
        },
        {
          "output_type": "display_data",
          "data": {
            "text/plain": [
              "ToggleButtons(description='A-1:', options=(('ay', 'ay'), ('at', 'at'), ('aw', 'aw'), ('a', 'a')), value='ay')"
            ],
            "application/vnd.jupyter.widget-view+json": {
              "version_major": 2,
              "version_minor": 0,
              "model_id": "8adc634a39ee4c368830309ac52bf29c"
            }
          },
          "metadata": {}
        },
        {
          "output_type": "display_data",
          "data": {
            "text/plain": [
              "ToggleButtons(description='A-2:', options=(('ay', 'ay'), ('at', 'at'), ('aw', 'aw'), ('a', 'a')), value='ay')"
            ],
            "application/vnd.jupyter.widget-view+json": {
              "version_major": 2,
              "version_minor": 0,
              "model_id": "df6cacc1522745c9a7c29ca0bfd6dc8f"
            }
          },
          "metadata": {}
        },
        {
          "output_type": "display_data",
          "data": {
            "text/plain": [
              "ToggleButtons(description='S locus:', options=(('SS (solid)', 'SS'), ('Ssp (carrier)', 'Ssp'), ('sp/sp (parti)…"
            ],
            "application/vnd.jupyter.widget-view+json": {
              "version_major": 2,
              "version_minor": 0,
              "model_id": "d9ae75c74dca4835b4242ebdc8e2cc1c"
            }
          },
          "metadata": {}
        },
        {
          "output_type": "display_data",
          "data": {
            "text/plain": [
              "Output()"
            ],
            "application/vnd.jupyter.widget-view+json": {
              "version_major": 2,
              "version_minor": 0,
              "model_id": "ca4df33202444c38b5e6d24613689aa8"
            }
          },
          "metadata": {}
        }
      ]
    },
    {
      "cell_type": "code",
      "source": [
        "## 7. Visual Summary"
      ],
      "metadata": {
        "id": "zlZc8rqlmxpu"
      },
      "id": "zlZc8rqlmxpu",
      "execution_count": null,
      "outputs": []
    },
    {
      "cell_type": "code",
      "source": [
        "## 8. Further Reading"
      ],
      "metadata": {
        "id": "hOJT0Qgwmzhr"
      },
      "id": "hOJT0Qgwmzhr",
      "execution_count": 10,
      "outputs": []
    }
  ],
  "metadata": {
    "colab": {
      "provenance": []
    },
    "language_info": {
      "name": "python"
    },
    "kernelspec": {
      "name": "python3",
      "display_name": "Python 3"
    },
    "widgets": {
      "application/vnd.jupyter.widget-state+json": {
        "aa0c67d7ed664e5da9a52a23d78c36d8": {
          "model_module": "@jupyter-widgets/controls",
          "model_name": "ToggleButtonsModel",
          "model_module_version": "1.5.0",
          "state": {
            "_dom_classes": [],
            "_model_module": "@jupyter-widgets/controls",
            "_model_module_version": "1.5.0",
            "_model_name": "ToggleButtonsModel",
            "_options_labels": [
              "BB (black)",
              "Bb (black)",
              "bb (brown)"
            ],
            "_view_count": null,
            "_view_module": "@jupyter-widgets/controls",
            "_view_module_version": "1.5.0",
            "_view_name": "ToggleButtonsView",
            "button_style": "",
            "description": "B locus:",
            "description_tooltip": null,
            "disabled": false,
            "icons": [],
            "index": 2,
            "layout": "IPY_MODEL_984d79a5349a4969a126e68cee76160f",
            "style": "IPY_MODEL_87a8f6d0cd8149bdab27936ca68faf8b",
            "tooltips": []
          }
        },
        "984d79a5349a4969a126e68cee76160f": {
          "model_module": "@jupyter-widgets/base",
          "model_name": "LayoutModel",
          "model_module_version": "1.2.0",
          "state": {
            "_model_module": "@jupyter-widgets/base",
            "_model_module_version": "1.2.0",
            "_model_name": "LayoutModel",
            "_view_count": null,
            "_view_module": "@jupyter-widgets/base",
            "_view_module_version": "1.2.0",
            "_view_name": "LayoutView",
            "align_content": null,
            "align_items": null,
            "align_self": null,
            "border": null,
            "bottom": null,
            "display": null,
            "flex": null,
            "flex_flow": null,
            "grid_area": null,
            "grid_auto_columns": null,
            "grid_auto_flow": null,
            "grid_auto_rows": null,
            "grid_column": null,
            "grid_gap": null,
            "grid_row": null,
            "grid_template_areas": null,
            "grid_template_columns": null,
            "grid_template_rows": null,
            "height": null,
            "justify_content": null,
            "justify_items": null,
            "left": null,
            "margin": null,
            "max_height": null,
            "max_width": null,
            "min_height": null,
            "min_width": null,
            "object_fit": null,
            "object_position": null,
            "order": null,
            "overflow": null,
            "overflow_x": null,
            "overflow_y": null,
            "padding": null,
            "right": null,
            "top": null,
            "visibility": null,
            "width": null
          }
        },
        "87a8f6d0cd8149bdab27936ca68faf8b": {
          "model_module": "@jupyter-widgets/controls",
          "model_name": "ToggleButtonsStyleModel",
          "model_module_version": "1.5.0",
          "state": {
            "_model_module": "@jupyter-widgets/controls",
            "_model_module_version": "1.5.0",
            "_model_name": "ToggleButtonsStyleModel",
            "_view_count": null,
            "_view_module": "@jupyter-widgets/base",
            "_view_module_version": "1.2.0",
            "_view_name": "StyleView",
            "button_width": "",
            "description_width": "",
            "font_weight": ""
          }
        },
        "1986d45c531b4bcb9b25afbd2e52dc45": {
          "model_module": "@jupyter-widgets/controls",
          "model_name": "ToggleButtonsModel",
          "model_module_version": "1.5.0",
          "state": {
            "_dom_classes": [],
            "_model_module": "@jupyter-widgets/controls",
            "_model_module_version": "1.5.0",
            "_model_name": "ToggleButtonsModel",
            "_options_labels": [
              "EE (permits)",
              "Ee (permits)",
              "ee (red/cream)"
            ],
            "_view_count": null,
            "_view_module": "@jupyter-widgets/controls",
            "_view_module_version": "1.5.0",
            "_view_name": "ToggleButtonsView",
            "button_style": "",
            "description": "E locus:",
            "description_tooltip": null,
            "disabled": false,
            "icons": [],
            "index": 2,
            "layout": "IPY_MODEL_a0d0b05813da422db45a333c8822d9bc",
            "style": "IPY_MODEL_60a11dffb7c748c4a3b00c8c7d838fed",
            "tooltips": []
          }
        },
        "a0d0b05813da422db45a333c8822d9bc": {
          "model_module": "@jupyter-widgets/base",
          "model_name": "LayoutModel",
          "model_module_version": "1.2.0",
          "state": {
            "_model_module": "@jupyter-widgets/base",
            "_model_module_version": "1.2.0",
            "_model_name": "LayoutModel",
            "_view_count": null,
            "_view_module": "@jupyter-widgets/base",
            "_view_module_version": "1.2.0",
            "_view_name": "LayoutView",
            "align_content": null,
            "align_items": null,
            "align_self": null,
            "border": null,
            "bottom": null,
            "display": null,
            "flex": null,
            "flex_flow": null,
            "grid_area": null,
            "grid_auto_columns": null,
            "grid_auto_flow": null,
            "grid_auto_rows": null,
            "grid_column": null,
            "grid_gap": null,
            "grid_row": null,
            "grid_template_areas": null,
            "grid_template_columns": null,
            "grid_template_rows": null,
            "height": null,
            "justify_content": null,
            "justify_items": null,
            "left": null,
            "margin": null,
            "max_height": null,
            "max_width": null,
            "min_height": null,
            "min_width": null,
            "object_fit": null,
            "object_position": null,
            "order": null,
            "overflow": null,
            "overflow_x": null,
            "overflow_y": null,
            "padding": null,
            "right": null,
            "top": null,
            "visibility": null,
            "width": null
          }
        },
        "60a11dffb7c748c4a3b00c8c7d838fed": {
          "model_module": "@jupyter-widgets/controls",
          "model_name": "ToggleButtonsStyleModel",
          "model_module_version": "1.5.0",
          "state": {
            "_model_module": "@jupyter-widgets/controls",
            "_model_module_version": "1.5.0",
            "_model_name": "ToggleButtonsStyleModel",
            "_view_count": null,
            "_view_module": "@jupyter-widgets/base",
            "_view_module_version": "1.2.0",
            "_view_name": "StyleView",
            "button_width": "",
            "description_width": "",
            "font_weight": ""
          }
        },
        "627c079c5eaa437483d4f4595f340109": {
          "model_module": "@jupyter-widgets/controls",
          "model_name": "ToggleButtonsModel",
          "model_module_version": "1.5.0",
          "state": {
            "_dom_classes": [],
            "_model_module": "@jupyter-widgets/controls",
            "_model_module_version": "1.5.0",
            "_model_name": "ToggleButtonsModel",
            "_options_labels": [
              "KB/KB",
              "Kbr/ky",
              "ky/ky"
            ],
            "_view_count": null,
            "_view_module": "@jupyter-widgets/controls",
            "_view_module_version": "1.5.0",
            "_view_name": "ToggleButtonsView",
            "button_style": "",
            "description": "K locus:",
            "description_tooltip": null,
            "disabled": false,
            "icons": [],
            "index": 2,
            "layout": "IPY_MODEL_f1880fe72ad346ada61a7fa44c511f36",
            "style": "IPY_MODEL_80483739669c47e4b8a0a68d6f7fec71",
            "tooltips": []
          }
        },
        "f1880fe72ad346ada61a7fa44c511f36": {
          "model_module": "@jupyter-widgets/base",
          "model_name": "LayoutModel",
          "model_module_version": "1.2.0",
          "state": {
            "_model_module": "@jupyter-widgets/base",
            "_model_module_version": "1.2.0",
            "_model_name": "LayoutModel",
            "_view_count": null,
            "_view_module": "@jupyter-widgets/base",
            "_view_module_version": "1.2.0",
            "_view_name": "LayoutView",
            "align_content": null,
            "align_items": null,
            "align_self": null,
            "border": null,
            "bottom": null,
            "display": null,
            "flex": null,
            "flex_flow": null,
            "grid_area": null,
            "grid_auto_columns": null,
            "grid_auto_flow": null,
            "grid_auto_rows": null,
            "grid_column": null,
            "grid_gap": null,
            "grid_row": null,
            "grid_template_areas": null,
            "grid_template_columns": null,
            "grid_template_rows": null,
            "height": null,
            "justify_content": null,
            "justify_items": null,
            "left": null,
            "margin": null,
            "max_height": null,
            "max_width": null,
            "min_height": null,
            "min_width": null,
            "object_fit": null,
            "object_position": null,
            "order": null,
            "overflow": null,
            "overflow_x": null,
            "overflow_y": null,
            "padding": null,
            "right": null,
            "top": null,
            "visibility": null,
            "width": null
          }
        },
        "80483739669c47e4b8a0a68d6f7fec71": {
          "model_module": "@jupyter-widgets/controls",
          "model_name": "ToggleButtonsStyleModel",
          "model_module_version": "1.5.0",
          "state": {
            "_model_module": "@jupyter-widgets/controls",
            "_model_module_version": "1.5.0",
            "_model_name": "ToggleButtonsStyleModel",
            "_view_count": null,
            "_view_module": "@jupyter-widgets/base",
            "_view_module_version": "1.2.0",
            "_view_name": "StyleView",
            "button_width": "",
            "description_width": "",
            "font_weight": ""
          }
        },
        "8adc634a39ee4c368830309ac52bf29c": {
          "model_module": "@jupyter-widgets/controls",
          "model_name": "ToggleButtonsModel",
          "model_module_version": "1.5.0",
          "state": {
            "_dom_classes": [],
            "_model_module": "@jupyter-widgets/controls",
            "_model_module_version": "1.5.0",
            "_model_name": "ToggleButtonsModel",
            "_options_labels": [
              "ay",
              "at",
              "aw",
              "a"
            ],
            "_view_count": null,
            "_view_module": "@jupyter-widgets/controls",
            "_view_module_version": "1.5.0",
            "_view_name": "ToggleButtonsView",
            "button_style": "",
            "description": "A-1:",
            "description_tooltip": null,
            "disabled": false,
            "icons": [],
            "index": 0,
            "layout": "IPY_MODEL_72264c74e8b540ba81f78e2a55d63284",
            "style": "IPY_MODEL_e5b12be057ef4f5f9269db4207ecc2eb",
            "tooltips": []
          }
        },
        "72264c74e8b540ba81f78e2a55d63284": {
          "model_module": "@jupyter-widgets/base",
          "model_name": "LayoutModel",
          "model_module_version": "1.2.0",
          "state": {
            "_model_module": "@jupyter-widgets/base",
            "_model_module_version": "1.2.0",
            "_model_name": "LayoutModel",
            "_view_count": null,
            "_view_module": "@jupyter-widgets/base",
            "_view_module_version": "1.2.0",
            "_view_name": "LayoutView",
            "align_content": null,
            "align_items": null,
            "align_self": null,
            "border": null,
            "bottom": null,
            "display": null,
            "flex": null,
            "flex_flow": null,
            "grid_area": null,
            "grid_auto_columns": null,
            "grid_auto_flow": null,
            "grid_auto_rows": null,
            "grid_column": null,
            "grid_gap": null,
            "grid_row": null,
            "grid_template_areas": null,
            "grid_template_columns": null,
            "grid_template_rows": null,
            "height": null,
            "justify_content": null,
            "justify_items": null,
            "left": null,
            "margin": null,
            "max_height": null,
            "max_width": null,
            "min_height": null,
            "min_width": null,
            "object_fit": null,
            "object_position": null,
            "order": null,
            "overflow": null,
            "overflow_x": null,
            "overflow_y": null,
            "padding": null,
            "right": null,
            "top": null,
            "visibility": null,
            "width": null
          }
        },
        "e5b12be057ef4f5f9269db4207ecc2eb": {
          "model_module": "@jupyter-widgets/controls",
          "model_name": "ToggleButtonsStyleModel",
          "model_module_version": "1.5.0",
          "state": {
            "_model_module": "@jupyter-widgets/controls",
            "_model_module_version": "1.5.0",
            "_model_name": "ToggleButtonsStyleModel",
            "_view_count": null,
            "_view_module": "@jupyter-widgets/base",
            "_view_module_version": "1.2.0",
            "_view_name": "StyleView",
            "button_width": "",
            "description_width": "",
            "font_weight": ""
          }
        },
        "df6cacc1522745c9a7c29ca0bfd6dc8f": {
          "model_module": "@jupyter-widgets/controls",
          "model_name": "ToggleButtonsModel",
          "model_module_version": "1.5.0",
          "state": {
            "_dom_classes": [],
            "_model_module": "@jupyter-widgets/controls",
            "_model_module_version": "1.5.0",
            "_model_name": "ToggleButtonsModel",
            "_options_labels": [
              "ay",
              "at",
              "aw",
              "a"
            ],
            "_view_count": null,
            "_view_module": "@jupyter-widgets/controls",
            "_view_module_version": "1.5.0",
            "_view_name": "ToggleButtonsView",
            "button_style": "",
            "description": "A-2:",
            "description_tooltip": null,
            "disabled": false,
            "icons": [],
            "index": 1,
            "layout": "IPY_MODEL_ff7c8d3002d844e7aa1bc939b32e05d5",
            "style": "IPY_MODEL_fe619f2551214b52a41561e823271e1a",
            "tooltips": []
          }
        },
        "ff7c8d3002d844e7aa1bc939b32e05d5": {
          "model_module": "@jupyter-widgets/base",
          "model_name": "LayoutModel",
          "model_module_version": "1.2.0",
          "state": {
            "_model_module": "@jupyter-widgets/base",
            "_model_module_version": "1.2.0",
            "_model_name": "LayoutModel",
            "_view_count": null,
            "_view_module": "@jupyter-widgets/base",
            "_view_module_version": "1.2.0",
            "_view_name": "LayoutView",
            "align_content": null,
            "align_items": null,
            "align_self": null,
            "border": null,
            "bottom": null,
            "display": null,
            "flex": null,
            "flex_flow": null,
            "grid_area": null,
            "grid_auto_columns": null,
            "grid_auto_flow": null,
            "grid_auto_rows": null,
            "grid_column": null,
            "grid_gap": null,
            "grid_row": null,
            "grid_template_areas": null,
            "grid_template_columns": null,
            "grid_template_rows": null,
            "height": null,
            "justify_content": null,
            "justify_items": null,
            "left": null,
            "margin": null,
            "max_height": null,
            "max_width": null,
            "min_height": null,
            "min_width": null,
            "object_fit": null,
            "object_position": null,
            "order": null,
            "overflow": null,
            "overflow_x": null,
            "overflow_y": null,
            "padding": null,
            "right": null,
            "top": null,
            "visibility": null,
            "width": null
          }
        },
        "fe619f2551214b52a41561e823271e1a": {
          "model_module": "@jupyter-widgets/controls",
          "model_name": "ToggleButtonsStyleModel",
          "model_module_version": "1.5.0",
          "state": {
            "_model_module": "@jupyter-widgets/controls",
            "_model_module_version": "1.5.0",
            "_model_name": "ToggleButtonsStyleModel",
            "_view_count": null,
            "_view_module": "@jupyter-widgets/base",
            "_view_module_version": "1.2.0",
            "_view_name": "StyleView",
            "button_width": "",
            "description_width": "",
            "font_weight": ""
          }
        },
        "d9ae75c74dca4835b4242ebdc8e2cc1c": {
          "model_module": "@jupyter-widgets/controls",
          "model_name": "ToggleButtonsModel",
          "model_module_version": "1.5.0",
          "state": {
            "_dom_classes": [],
            "_model_module": "@jupyter-widgets/controls",
            "_model_module_version": "1.5.0",
            "_model_name": "ToggleButtonsModel",
            "_options_labels": [
              "SS (solid)",
              "Ssp (carrier)",
              "sp/sp (parti)"
            ],
            "_view_count": null,
            "_view_module": "@jupyter-widgets/controls",
            "_view_module_version": "1.5.0",
            "_view_name": "ToggleButtonsView",
            "button_style": "",
            "description": "S locus:",
            "description_tooltip": null,
            "disabled": false,
            "icons": [],
            "index": 2,
            "layout": "IPY_MODEL_b9ec213aad7b428db2f1b3eb265ac1c2",
            "style": "IPY_MODEL_a5a93e85227140019097fd7c9ee8adf4",
            "tooltips": []
          }
        },
        "b9ec213aad7b428db2f1b3eb265ac1c2": {
          "model_module": "@jupyter-widgets/base",
          "model_name": "LayoutModel",
          "model_module_version": "1.2.0",
          "state": {
            "_model_module": "@jupyter-widgets/base",
            "_model_module_version": "1.2.0",
            "_model_name": "LayoutModel",
            "_view_count": null,
            "_view_module": "@jupyter-widgets/base",
            "_view_module_version": "1.2.0",
            "_view_name": "LayoutView",
            "align_content": null,
            "align_items": null,
            "align_self": null,
            "border": null,
            "bottom": null,
            "display": null,
            "flex": null,
            "flex_flow": null,
            "grid_area": null,
            "grid_auto_columns": null,
            "grid_auto_flow": null,
            "grid_auto_rows": null,
            "grid_column": null,
            "grid_gap": null,
            "grid_row": null,
            "grid_template_areas": null,
            "grid_template_columns": null,
            "grid_template_rows": null,
            "height": null,
            "justify_content": null,
            "justify_items": null,
            "left": null,
            "margin": null,
            "max_height": null,
            "max_width": null,
            "min_height": null,
            "min_width": null,
            "object_fit": null,
            "object_position": null,
            "order": null,
            "overflow": null,
            "overflow_x": null,
            "overflow_y": null,
            "padding": null,
            "right": null,
            "top": null,
            "visibility": null,
            "width": null
          }
        },
        "a5a93e85227140019097fd7c9ee8adf4": {
          "model_module": "@jupyter-widgets/controls",
          "model_name": "ToggleButtonsStyleModel",
          "model_module_version": "1.5.0",
          "state": {
            "_model_module": "@jupyter-widgets/controls",
            "_model_module_version": "1.5.0",
            "_model_name": "ToggleButtonsStyleModel",
            "_view_count": null,
            "_view_module": "@jupyter-widgets/base",
            "_view_module_version": "1.2.0",
            "_view_name": "StyleView",
            "button_width": "",
            "description_width": "",
            "font_weight": ""
          }
        },
        "ca4df33202444c38b5e6d24613689aa8": {
          "model_module": "@jupyter-widgets/output",
          "model_name": "OutputModel",
          "model_module_version": "1.0.0",
          "state": {
            "_dom_classes": [],
            "_model_module": "@jupyter-widgets/output",
            "_model_module_version": "1.0.0",
            "_model_name": "OutputModel",
            "_view_count": null,
            "_view_module": "@jupyter-widgets/output",
            "_view_module_version": "1.0.0",
            "_view_name": "OutputView",
            "layout": "IPY_MODEL_faf70f7fa0114ce390d8d2c11653980a",
            "msg_id": "",
            "outputs": [
              {
                "output_type": "display_data",
                "data": {
                  "text/plain": "<IPython.core.display.HTML object>",
                  "text/html": "<h3>Parti Red/Cream (brown nose)</h3>"
                },
                "metadata": {}
              }
            ]
          }
        },
        "faf70f7fa0114ce390d8d2c11653980a": {
          "model_module": "@jupyter-widgets/base",
          "model_name": "LayoutModel",
          "model_module_version": "1.2.0",
          "state": {
            "_model_module": "@jupyter-widgets/base",
            "_model_module_version": "1.2.0",
            "_model_name": "LayoutModel",
            "_view_count": null,
            "_view_module": "@jupyter-widgets/base",
            "_view_module_version": "1.2.0",
            "_view_name": "LayoutView",
            "align_content": null,
            "align_items": null,
            "align_self": null,
            "border": null,
            "bottom": null,
            "display": null,
            "flex": null,
            "flex_flow": null,
            "grid_area": null,
            "grid_auto_columns": null,
            "grid_auto_flow": null,
            "grid_auto_rows": null,
            "grid_column": null,
            "grid_gap": null,
            "grid_row": null,
            "grid_template_areas": null,
            "grid_template_columns": null,
            "grid_template_rows": null,
            "height": null,
            "justify_content": null,
            "justify_items": null,
            "left": null,
            "margin": null,
            "max_height": null,
            "max_width": null,
            "min_height": null,
            "min_width": null,
            "object_fit": null,
            "object_position": null,
            "order": null,
            "overflow": null,
            "overflow_x": null,
            "overflow_y": null,
            "padding": null,
            "right": null,
            "top": null,
            "visibility": null,
            "width": null
          }
        }
      }
    }
  },
  "nbformat": 4,
  "nbformat_minor": 5
}