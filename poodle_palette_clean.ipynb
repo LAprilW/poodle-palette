{
 "cells": [
  {
   "cell_type": "markdown",
   "id": "0",
   "metadata": {
    "id": "0"
   },
   "source": [
    "# 🐩 Poodle Palette — Genotype → Phenotype Tutor\n",
    "\n",
    "Welcome! This notebook lets you toggle **five** coat-colour loci and instantly see the phenotype (or carrier notes) for any Poodle genotype:\n",
    "\n",
    "* **B** — black vs. brown pigment  \n",
    "* **E** — pigment switch (ee = red/cream)  \n",
    "* **K** — dominant black / brindle / pattern-free  \n",
    "* **A** — sable, phantom, agouti, recessive black (shown when K = kyky)  \n",
    "* **S** — solid vs. parti spotting\n",
    "\n",
    "Click around in the widget below, or feed the function a full genotype string to watch the colours—and the carrier caveats—unfold. Enjoy the genetics journey!\n"
   ]
  },
  {
   "cell_type": "code",
   "execution_count": 30,
   "id": "1",
   "metadata": {
    "id": "1"
   },
   "outputs": [],
   "source": [
    "# 📦 Setup\n",
    "# If running locally, make sure pandas and matplotlib are installed.\n",
    "# In Google Colab these come pre‑installed.\n",
    "import pandas as pd\n",
    "import matplotlib.pyplot as plt\n",
    "\n",
    "# Display plots inline\n",
    "%matplotlib inline\n"
   ]
  },
  {
   "cell_type": "markdown",
   "id": "2",
   "metadata": {
    "id": "2"
   },
   "source": [
    "## 🎓 2. Genetic Background — quick‐reference table\n",
    "\n",
    "| Locus | Key alleles* | Dominance order&nbsp;→ | What the locus controls | Notes for Poodles |\n",
    "|-------|--------------|------------------------|-------------------------|-------------------|\n",
    "| **B** (TYRP1) | **B** = black • **b** = brown | BB ≈ Bb ≫ bb | Eumelanin pigment (black vs. brown) | bb turns nose/lips brown and lightens any black areas (inc. phantom points). |\n",
    "| **E** (MC1R) | **E** = allows pigment • **e** = recessive red | EE ≈ Ee ≫ ee | Switch that blocks/permits black/brown coat colour | ee hides all K/A patterns; dog may *carry* them. |\n",
    "| **K** (CBD103) | **KB** = dominant black • **Kbr** = brindle • **ky** = pattern-free | KB ≫ Kbr ≫ ky | Overrides or reveals A-locus patterns | Kbr shows brindle **unless** coat is ee or a/a. |\n",
    "| **A** (ASIP) | **ay** = sable • **at** = phantom • **aw** = agouti • **a** = recessive black | ay ≫ at ≫ aw ≫ a | Determines banding/point patterns **only** when K = ky/ky **or** Kbr (non-a/a) | In ee kyky dogs, top A allele is “carried” rather than shown. |\n",
    "| **S** (MITF) | **S** = solid • **sp** = parti | SS ≫ Ssp ≫ spsp | White-spotting (parti) layer on top of base colour | Ssp dogs carry parti; spsp shows full parti pattern. |\n",
    "\n",
    "\\* For simplicity we list the most common poodle alleles. Other rare modifiers (D-locus silvering, I-locus intensity, etc.) are beyond this demo.\n",
    "\n",
    "> **Rule of thumb:**  \n",
    "> 1. **E** sets the stage (ee hides everything).  \n",
    "> 2. **K** decides if patterns are blocked (KB), brindled (Kbr), or revealed (kyky).  \n",
    "> 3. **A** supplies the actual pattern—*if* K lets it through.  \n",
    "> 4. **B** colours the eumelanin (black vs. brown).  \n",
    "> 5. **S** sprinkles white on top if homozygous *sp*.  \n",
    ">  \n",
    "> Carriers (Kbr, Ssp, ay/at/aw in ee dogs) are noted in the phenotype read-out but not visually expressed.\n"
   ]
  },
  {
   "cell_type": "code",
   "execution_count": 31,
   "id": "3",
   "metadata": {
    "id": "3"
   },
   "outputs": [],
   "source": [
    "## 3. Imports + Helper Dictionaries\n"
   ]
  },
  {
   "cell_type": "code",
   "execution_count": 32,
   "id": "4",
   "metadata": {
    "id": "4"
   },
   "outputs": [],
   "source": [
    "# 📦 Standard data-science imports\n",
    "import pandas as pd\n",
    "import matplotlib.pyplot as plt\n",
    "\n",
    "# 📚 Teaching widgets (for the interactive allele picker we’ll add later)\n",
    "from IPython.display import HTML\n",
    "import ipywidgets as widgets\n",
    "\n",
    "# 🖼️ Show charts inside the notebook\n",
    "%matplotlib inline\n",
    "\n",
    "# ────────────────────────────────────────────────────────────────\n",
    "# Helper dictionaries for quick look-ups at each locus\n",
    "# These will be used by predict_colour() in the next section.\n",
    "\n",
    "# B-locus (black vs. brown pigment)\n",
    "B_LOCUS = {\n",
    "    \"BB\": \"Black\",\n",
    "    \"Bb\": \"Black\",\n",
    "    \"bb\": \"Brown\"\n",
    "}\n",
    "\n",
    "# E-locus (extension / red-cream override)\n",
    "E_LOCUS = {\n",
    "    \"EE\": \"Allows black/brown\",\n",
    "    \"Ee\": \"Allows black/brown\",\n",
    "    \"ee\": \"Red/Cream (blocks black)\"}\n",
    "\n",
    "# Spotting / Parti – dominant solid S, recessive parti sp\n",
    "S_LOCUS = {\n",
    "    \"SS\": \"solid\",\n",
    "    \"Ssp\": \"solid (carrier)\",\n",
    "    \"spsp\": \"parti\"\n",
    "}\n",
    "\n",
    "# K-locus hierarchy  KB  >  Kbr  >  ky\n",
    "K_HIERARCHY = [\"KB\", \"Kbr\", \"ky\"]    # first one present wins\n",
    "\n",
    "# A-locus hierarchy  ay  >  at  >  aw  >  a\n",
    "A_HIERARCHY = [\"ay\", \"at\", \"aw\", \"a\"]\n"
   ]
  },
  {
   "cell_type": "code",
   "execution_count": 33,
   "id": "5",
   "metadata": {
    "id": "5"
   },
   "outputs": [],
   "source": [
    "## 4. Function `predict_colour()`"
   ]
  },
  {
   "cell_type": "code",
   "execution_count": 34,
   "id": "6",
   "metadata": {
    "id": "6"
   },
   "outputs": [],
   "source": [
    "# ── dominance tables ───────────────────────────────────────────────\n",
    "K_HIERARCHY = [\"Kbr\", \"KB\"]\n",
    "A_HIERARCHY = [\"ay\", \"at\", \"aw\", \"a\"]\n",
    "A_LABELS    = {\"ay\": \"Sable\", \"at\": \"Phantom\", \"aw\": \"Agouti\"}\n",
    "\n",
    "def predict_colour(b_pair: str, e_pair: str,\n",
    "                   k_pair: str,\n",
    "                   a1: str, a2: str,\n",
    "                   s_pair: str) -> str:\n",
    "    \"\"\"Return plain-English phenotype plus carrier notes.\"\"\"\n",
    "\n",
    "    # --- 0. quick flags ---------------------------------------------------\n",
    "    recessive_red  = (e_pair == \"ee\")               # ee dog\n",
    "    carries_red    = (e_pair in (\"Ee\", \"eE\"))       # heterozygous\n",
    "    brown_base     = (b_pair == \"bb\")               # brown dog\n",
    "    carries_brown  = (b_pair in (\"Bb\", \"bB\"))       # heterozygous\n",
    "\n",
    "    # --- 1. base coat colour ---------------------------------------------\n",
    "    if recessive_red:\n",
    "        base = \"Red/Cream\" + (\" (brown nose)\" if brown_base else \"\")\n",
    "    else:\n",
    "        base = \"Brown\" if brown_base else \"Black\"\n",
    "\n",
    "    # --- 2. K-locus winner -----------------------------------------------\n",
    "    if \"Kbr\" in k_pair:\n",
    "        k_dom = \"Kbr\"\n",
    "    elif \"KB\" in k_pair:\n",
    "        k_dom = \"KB\"\n",
    "    else:\n",
    "        k_dom = \"ky\"\n",
    "\n",
    "    # --- 3. dominant A allele --------------------------------------------\n",
    "    dom_a = next(a for a in A_HIERARCHY if a in (a1 + a2))\n",
    "\n",
    "    # --- 4. pattern / carrier phrases ------------------------------------\n",
    "    pattern = \"\"\n",
    "    if recessive_red:\n",
    "        if k_dom == \"Kbr\":\n",
    "            pattern = \"carries Brindle\"\n",
    "        elif k_dom == \"ky\" and dom_a != \"a\":\n",
    "            pattern = f\"carries {A_LABELS[dom_a]}\"\n",
    "    else:\n",
    "        if k_dom == \"KB\":\n",
    "            pattern = \"\"\n",
    "        elif k_dom == \"Kbr\":\n",
    "            pattern = \"\" if dom_a == \"a\" else \"Brindle\"\n",
    "        else:  # kyky\n",
    "            pattern = A_LABELS.get(dom_a, \"\")\n",
    "\n",
    "    # --- 5. spotting notes -----------------------------------------------\n",
    "    spot_prefix = \"Parti\"          if s_pair.lower().endswith(\"spsp\") else \"\"\n",
    "    spot_suffix = \"carries Parti\"  if s_pair.lower() == \"ssp\" else \"\"\n",
    "\n",
    "    # --- 6. red & brown carrier notes ------------------------------------\n",
    "    red_suffix   = \"carries Red\"   if carries_red   else \"\"\n",
    "    brown_suffix = \"carries Brown\" if carries_brown else \"\"\n",
    "\n",
    "    # --- 7. assemble ------------------------------------------------------\n",
    "    parts = [spot_prefix, base, pattern, spot_suffix, red_suffix, brown_suffix]\n",
    "    return \" \".join(p for p in parts if p)\n"
   ]
  },
  {
   "cell_type": "code",
   "execution_count": 35,
   "id": "7",
   "metadata": {
    "colab": {
     "base_uri": "https://localhost:8080/"
    },
    "id": "7",
    "outputId": "f334601b-a988-481b-c16d-a594e2aced41"
   },
   "outputs": [
    {
     "name": "stdout",
     "output_type": "stream",
     "text": [
      "Red/Cream carries Sable\n",
      "Red/Cream carries Phantom\n",
      "Red/Cream (brown nose)\n",
      "Red/Cream carries Brindle\n",
      "Brown Phantom\n"
     ]
    }
   ],
   "source": [
    "# ee + kyky + ay  → carries Sable\n",
    "print(predict_colour(\"BB\",\"ee\",\"kyky\",\"ay\",\"at\",\"SS\"))\n",
    "#   Red/Cream carries Sable\n",
    "\n",
    "# ee + kyky + at  → carries Phantom\n",
    "print(predict_colour(\"BB\",\"ee\",\"kyky\",\"at\",\"aw\",\"SS\"))\n",
    "#   Red/Cream carries Phantom\n",
    "\n",
    "# ee + kyky + a/a  → just Red/Cream\n",
    "print(predict_colour(\"bb\",\"ee\",\"kyky\",\"a\",\"a\",\"SS\"))\n",
    "#   Red/Cream\n",
    "\n",
    "# ee + Kbr  → carries Brindle (unchanged)\n",
    "print(predict_colour(\"BB\",\"ee\",\"Kbrky\",\"ay\",\"at\",\"SS\"))\n",
    "#   Red/Cream carries Brindle\n",
    "\n",
    "# non-ee kyky atat  → Phantom Black (pattern shows)\n",
    "print(predict_colour(\"bb\",\"EE\",\"kyky\",\"at\",\"at\",\"SS\"))\n",
    "#   Phantom Black\n"
   ]
  },
  {
   "cell_type": "code",
   "execution_count": 36,
   "id": "8",
   "metadata": {
    "id": "8"
   },
   "outputs": [],
   "source": [
    "## 5. Bulk Conversion of Your CSV"
   ]
  },
  {
   "cell_type": "code",
   "execution_count": 37,
   "id": "9",
   "metadata": {
    "id": "9"
   },
   "outputs": [],
   "source": [
    "## 6. Interactive Playground"
   ]
  },
  {
   "cell_type": "code",
   "execution_count": 38,
   "id": "10",
   "metadata": {
    "colab": {
     "base_uri": "https://localhost:8080/",
     "height": 238,
     "referenced_widgets": [
      "f7327e9036694516baf2ee038bda5f7a",
      "6d4ce7761424432494459082cc4f7b32",
      "8dc3f1f1436e4aedad638ffb725e2851",
      "dc1dc5ef7ef340688eebe81f6c3d6056",
      "46a391626d1e4252908cd2bc7416d506",
      "8db5adc0ca8b485e87b48f0dd8aced31",
      "4db2e3ee3b8041a3827348b0543fccef",
      "7b2244afed274c87ae0550a940326faa",
      "6caa6f3b1ee94a13adffb9a7e39f704b",
      "345595f613304b648ab65a142039dede",
      "e88c717b8b7d4a5393d1ef2787fb0158",
      "cae22162a5504b9e8b5fce89bd11989e",
      "5cd6c78dc52648878c47edfc06a803d9",
      "1f2def8894f8401cb0de850679b6c62c",
      "e1d1a32942d14015aa927d0eb980ed42",
      "6af6fe80f44540d787d618db399d7165",
      "779b34831ee34ec3b3d8c7222d439e7f",
      "576949e544d146809d026ca759ac9c9a",
      "fba5f886eabb4ce18a5f9019c394fad7",
      "f58ca18cec3e4528955fa3bd9efa087f"
     ]
    },
    "id": "10",
    "outputId": "c70bfb5a-3ba4-4e40-fc96-26e2aba061c9"
   },
   "outputs": [
    {
     "data": {
      "application/vnd.jupyter.widget-view+json": {
       "model_id": "f7327e9036694516baf2ee038bda5f7a",
       "version_major": 2,
       "version_minor": 0
      },
      "text/plain": [
       "ToggleButtons(description='B locus:', options=(('BB (black)', 'BB'), ('Bb (black)', 'Bb'), ('bb (brown)', 'bb'…"
      ]
     },
     "metadata": {},
     "output_type": "display_data"
    },
    {
     "data": {
      "application/vnd.jupyter.widget-view+json": {
       "model_id": "dc1dc5ef7ef340688eebe81f6c3d6056",
       "version_major": 2,
       "version_minor": 0
      },
      "text/plain": [
       "ToggleButtons(description='E locus:', options=(('EE (permits)', 'EE'), ('Ee (permits)', 'Ee'), ('ee (red/cream…"
      ]
     },
     "metadata": {},
     "output_type": "display_data"
    },
    {
     "data": {
      "application/vnd.jupyter.widget-view+json": {
       "model_id": "4db2e3ee3b8041a3827348b0543fccef",
       "version_major": 2,
       "version_minor": 0
      },
      "text/plain": [
       "ToggleButtons(description='K locus:', options=(('KB/KB', 'KBKB'), ('Kbr/ky', 'Kbrky'), ('ky/ky', 'kyky')), val…"
      ]
     },
     "metadata": {},
     "output_type": "display_data"
    },
    {
     "data": {
      "application/vnd.jupyter.widget-view+json": {
       "model_id": "345595f613304b648ab65a142039dede",
       "version_major": 2,
       "version_minor": 0
      },
      "text/plain": [
       "ToggleButtons(description='A-1:', options=(('ay', 'ay'), ('at', 'at'), ('aw', 'aw'), ('a', 'a')), value='ay')"
      ]
     },
     "metadata": {},
     "output_type": "display_data"
    },
    {
     "data": {
      "application/vnd.jupyter.widget-view+json": {
       "model_id": "5cd6c78dc52648878c47edfc06a803d9",
       "version_major": 2,
       "version_minor": 0
      },
      "text/plain": [
       "ToggleButtons(description='A-2:', options=(('ay', 'ay'), ('at', 'at'), ('aw', 'aw'), ('a', 'a')), value='ay')"
      ]
     },
     "metadata": {},
     "output_type": "display_data"
    },
    {
     "data": {
      "application/vnd.jupyter.widget-view+json": {
       "model_id": "6af6fe80f44540d787d618db399d7165",
       "version_major": 2,
       "version_minor": 0
      },
      "text/plain": [
       "ToggleButtons(description='S locus:', options=(('SS (solid)', 'SS'), ('Ssp (carrier)', 'Ssp'), ('sp/sp (parti)…"
      ]
     },
     "metadata": {},
     "output_type": "display_data"
    },
    {
     "data": {
      "application/vnd.jupyter.widget-view+json": {
       "model_id": "fba5f886eabb4ce18a5f9019c394fad7",
       "version_major": 2,
       "version_minor": 0
      },
      "text/plain": [
       "Output()"
      ]
     },
     "metadata": {},
     "output_type": "display_data"
    }
   ],
   "source": [
    "def show_interactive():\n",
    "    # --- B locus ----------------------------------------------------------\n",
    "    b_btn = widgets.ToggleButtons(\n",
    "        options=[(\"BB (black)\", \"BB\"),\n",
    "                 (\"Bb (black)\", \"Bb\"),\n",
    "                 (\"bb (brown)\", \"bb\")],\n",
    "        description=\"B locus:\",\n",
    "    )\n",
    "\n",
    "    # --- E locus ----------------------------------------------------------\n",
    "    e_btn = widgets.ToggleButtons(\n",
    "        options=[(\"EE (permits)\", \"EE\"),\n",
    "                 (\"Ee (permits)\", \"Ee\"),\n",
    "                 (\"ee (red/cream)\", \"ee\")],\n",
    "        description=\"E locus:\",\n",
    "    )\n",
    "\n",
    "    # --- K locus ----------------------------------------------------------\n",
    "    k_btn = widgets.ToggleButtons(\n",
    "        options=[(\"KB/KB\",  \"KBKB\"),\n",
    "                 (\"Kbr/ky\", \"Kbrky\"),\n",
    "                 (\"ky/ky\",  \"kyky\")],\n",
    "        description=\"K locus:\",\n",
    "    )\n",
    "\n",
    "    # --- A locus (two alleles) -------------------------------------------\n",
    "    a1_btn = widgets.ToggleButtons(\n",
    "        description=\"A-1:\",\n",
    "        options=[(\"ay\", \"ay\"), (\"at\", \"at\"), (\"aw\", \"aw\"), (\"a\", \"a\")],\n",
    "    )\n",
    "    a2_btn = widgets.ToggleButtons(\n",
    "        description=\"A-2:\",\n",
    "        options=[(\"ay\", \"ay\"), (\"at\", \"at\"), (\"aw\", \"aw\"), (\"a\", \"a\")],\n",
    "    )\n",
    "\n",
    "    # --- Spotting ---------------------------------------------------------\n",
    "    s_btn = widgets.ToggleButtons(\n",
    "        description=\"S locus:\",\n",
    "        options=[(\"SS (solid)\",  \"SS\"),\n",
    "                 (\"Ssp (carrier)\", \"Ssp\"),\n",
    "                 (\"sp/sp (parti)\", \"spsp\")],\n",
    "    )\n",
    "\n",
    "    # --------- live output area ------------------------------------------\n",
    "    out = widgets.Output()\n",
    "\n",
    "    def update(_=None):\n",
    "        colour = predict_colour(\n",
    "            b_btn.value,\n",
    "            e_btn.value,\n",
    "            k_btn.value,\n",
    "            a1_btn.value,\n",
    "            a2_btn.value,\n",
    "            s_btn.value\n",
    "        )\n",
    "        with out:\n",
    "            out.clear_output()\n",
    "            display(HTML(f\"<h3>{colour}</h3>\"))\n",
    "\n",
    "    # fire once at start\n",
    "    update()\n",
    "\n",
    "    # listen for *any* change\n",
    "    for w in (b_btn, e_btn, k_btn, a1_btn, a2_btn, s_btn):\n",
    "        w.observe(update, names=\"value\")\n",
    "\n",
    "    display(b_btn, e_btn, k_btn, a1_btn, a2_btn, s_btn, out)\n",
    "\n",
    "# run it\n",
    "show_interactive()\n"
   ]
  },
  {
   "cell_type": "code",
   "execution_count": 39,
   "id": "11",
   "metadata": {
    "id": "11"
   },
   "outputs": [],
   "source": [
    "## 7. Visual Summary"
   ]
  },
  {
   "cell_type": "code",
   "execution_count": 40,
   "id": "12",
   "metadata": {
    "id": "12"
   },
   "outputs": [],
   "source": [
    "## 8. Further Reading"
   ]
  }
 ],
 "metadata": {
  "colab": {
   "provenance": []
  },
  "kernelspec": {
   "display_name": "Python 3",
   "name": "python3"
  },
  "language_info": {
   "name": "python"
  }
 },
 "nbformat": 4,
 "nbformat_minor": 5
}
