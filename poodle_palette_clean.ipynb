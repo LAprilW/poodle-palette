{
  "cells": [
    {
      "cell_type": "markdown",
      "metadata": {
        "id": "view-in-github",
        "colab_type": "text"
      },
      "source": [
        "<a href=\"https://colab.research.google.com/github/LAprilW/poodle-palette/blob/main/poodle_palette_clean.ipynb\" target=\"_parent\"><img src=\"https://colab.research.google.com/assets/colab-badge.svg\" alt=\"Open In Colab\"/></a>"
      ]
    },
    {
      "cell_type": "markdown",
      "id": "0",
      "metadata": {
        "id": "0"
      },
      "source": [
        "# 🐩 Poodle Palette — Genotype → Phenotype Tutor\n",
        "\n",
        "Welcome! This notebook lets you toggle **five** coat-colour loci and instantly see the phenotype (or carrier notes) for any Poodle genotype:\n",
        "\n",
        "* **B** — black vs. brown pigment  \n",
        "* **E** — pigment switch (ee = red/cream)  \n",
        "* **K** — dominant black / brindle / pattern-free  \n",
        "* **A** — sable, phantom, agouti, recessive black (shown when K = kyky)  \n",
        "* **S** — solid vs. parti spotting\n",
        "\n",
        "Click around in the widget below, or feed the function a full genotype string to watch the colours—and the carrier caveats—unfold. Enjoy the genetics journey!\n"
      ]
    },
    {
      "cell_type": "code",
      "execution_count": 15,
      "id": "1",
      "metadata": {
        "id": "1"
      },
      "outputs": [],
      "source": [
        "# 📦 Setup\n",
        "# If running locally, make sure pandas and matplotlib are installed.\n",
        "# In Google Colab these come pre‑installed.\n",
        "import pandas as pd\n",
        "import matplotlib.pyplot as plt\n",
        "\n",
        "# Display plots inline\n",
        "%matplotlib inline\n"
      ]
    },
    {
      "cell_type": "markdown",
      "id": "2",
      "metadata": {
        "id": "2"
      },
      "source": [
        "## 🎓 2. Genetic Background — quick‐reference table\n",
        "\n",
        "| Locus | Key alleles* | Dominance order&nbsp;→ | What the locus controls | Notes for Poodles |\n",
        "|-------|--------------|------------------------|-------------------------|-------------------|\n",
        "| **B** (TYRP1) | **B** = black • **b** = brown | BB ≈ Bb ≫ bb | Eumelanin pigment (black vs. brown) | bb turns nose/lips brown and lightens any black areas (inc. phantom points). |\n",
        "| **E** (MC1R) | **E** = allows pigment • **e** = recessive red | EE ≈ Ee ≫ ee | Switch that blocks/permits black/brown coat colour | ee hides all K/A patterns; dog may *carry* them. |\n",
        "| **K** (CBD103) | **KB** = dominant black • **Kbr** = brindle • **ky** = pattern-free | KB ≫ Kbr ≫ ky | Overrides or reveals A-locus patterns | Kbr shows brindle **unless** coat is ee or a/a. |\n",
        "| **A** (ASIP) | **ay** = sable • **at** = phantom • **aw** = agouti • **a** = recessive black | ay ≫ at ≫ aw ≫ a | Determines banding/point patterns **only** when K = ky/ky **or** Kbr (non-a/a) | In ee kyky dogs, top A allele is “carried” rather than shown. |\n",
        "| **S** (MITF) | **S** = solid • **sp** = parti | SS ≫ Ssp ≫ spsp | White-spotting (parti) layer on top of base colour | Ssp dogs carry parti; spsp shows full parti pattern. |\n",
        "\n",
        "\\* For simplicity we list the most common poodle alleles. Other rare modifiers (D-locus silvering, I-locus intensity, etc.) are beyond this demo.\n",
        "\n",
        "> **Rule of thumb:**  \n",
        "> 1. **E** sets the stage (ee hides everything).  \n",
        "> 2. **K** decides if patterns are blocked (KB), brindled (Kbr), or revealed (kyky).  \n",
        "> 3. **A** supplies the actual pattern—*if* K lets it through.  \n",
        "> 4. **B** colours the eumelanin (black vs. brown).  \n",
        "> 5. **S** sprinkles white on top if homozygous *sp*.  \n",
        ">  \n",
        "> Carriers (Kbr, Ssp, ay/at/aw in ee dogs) are noted in the phenotype read-out but not visually expressed.\n"
      ]
    },
    {
      "cell_type": "code",
      "execution_count": 16,
      "id": "3",
      "metadata": {
        "id": "3"
      },
      "outputs": [],
      "source": [
        "## 3. Imports + Helper Dictionaries\n"
      ]
    },
    {
      "cell_type": "code",
      "execution_count": 17,
      "id": "4",
      "metadata": {
        "id": "4"
      },
      "outputs": [],
      "source": [
        "# 📦 Standard data-science imports\n",
        "import pandas as pd\n",
        "import matplotlib.pyplot as plt\n",
        "\n",
        "# 📚 Teaching widgets (for the interactive allele picker we’ll add later)\n",
        "from IPython.display import HTML\n",
        "import ipywidgets as widgets\n",
        "\n",
        "# 🖼️ Show charts inside the notebook\n",
        "%matplotlib inline\n",
        "\n",
        "# ────────────────────────────────────────────────────────────────\n",
        "# Helper dictionaries for quick look-ups at each locus\n",
        "# These will be used by predict_colour() in the next section.\n",
        "\n",
        "# B-locus (black vs. brown pigment)\n",
        "B_LOCUS = {\n",
        "    \"BB\": \"Black\",\n",
        "    \"Bb\": \"Black\",\n",
        "    \"bb\": \"Brown\"\n",
        "}\n",
        "\n",
        "# E-locus (extension / red-cream override)\n",
        "E_LOCUS = {\n",
        "    \"EE\": \"Allows black/brown\",\n",
        "    \"Ee\": \"Allows black/brown\",\n",
        "    \"ee\": \"Red/Cream (blocks black)\"}\n",
        "\n",
        "# Spotting / Parti – dominant solid S, recessive parti sp\n",
        "S_LOCUS = {\n",
        "    \"SS\": \"solid\",\n",
        "    \"Ssp\": \"solid (carrier)\",\n",
        "    \"spsp\": \"parti\"\n",
        "}\n",
        "\n",
        "# K-locus hierarchy  KB  >  Kbr  >  ky\n",
        "K_HIERARCHY = [\"KB\", \"Kbr\", \"ky\"]    # first one present wins\n",
        "\n",
        "# A-locus hierarchy  ay  >  at  >  aw  >  a\n",
        "A_HIERARCHY = [\"ay\", \"at\", \"aw\", \"a\"]\n"
      ]
    },
    {
      "cell_type": "code",
      "execution_count": 18,
      "id": "5",
      "metadata": {
        "id": "5"
      },
      "outputs": [],
      "source": [
        "## 4. Function `predict_colour()`"
      ]
    },
    {
      "cell_type": "code",
      "execution_count": 19,
      "id": "6",
      "metadata": {
        "id": "6"
      },
      "outputs": [],
      "source": [
        "K_HIERARCHY = [\"Kbr\", \"KB\"]\n",
        "A_HIERARCHY = [\"ay\", \"at\", \"aw\", \"a\"]\n",
        "A_LABELS    = {\"ay\": \"Sable\", \"at\": \"Phantom\", \"aw\": \"Agouti\"}\n",
        "\n",
        "def predict_colour(b_pair: str, e_pair: str,\n",
        "                   k_pair: str,\n",
        "                   a1: str, a2: str,\n",
        "                   s_pair: str) -> str:\n",
        "    \"\"\"Return plain-English Poodle coat description with carrier notes.\"\"\"\n",
        "\n",
        "    recessive_red = (e_pair == \"ee\")\n",
        "    brown_base    = (b_pair == \"bb\")\n",
        "\n",
        "    # ── 1. Base colour ────────────────────────────────────────────────\n",
        "    if recessive_red:\n",
        "        base_colour = \"Red/Cream\" + (\" (brown nose)\" if brown_base else \"\")\n",
        "    else:\n",
        "        base_colour = \"Brown\" if brown_base else \"Black\"\n",
        "\n",
        "    # ── 2. K winner ──────────────────────────────────────────────────\n",
        "    if \"Kbr\" in k_pair:\n",
        "        k_dom = \"Kbr\"\n",
        "    elif \"KB\" in k_pair:\n",
        "        k_dom = \"KB\"\n",
        "    else:\n",
        "        k_dom = \"ky\"\n",
        "\n",
        "    # ── 3. Dominant A allele ─────────────────────────────────────────\n",
        "    dom_a = next(a for a in A_HIERARCHY if a in (a1 + a2))\n",
        "\n",
        "    # ── 4. Pattern / carrier text (brindle, sable, etc.) ─────────────\n",
        "    pattern = \"\"\n",
        "    if recessive_red:\n",
        "        if k_dom == \"Kbr\":\n",
        "            pattern = \"carries Brindle\"\n",
        "        elif k_dom == \"ky\" and dom_a != \"a\":\n",
        "            pattern = f\"carries {A_LABELS[dom_a]}\"\n",
        "    else:\n",
        "        if k_dom == \"KB\":\n",
        "            pattern = \"\"\n",
        "        elif k_dom == \"Kbr\":\n",
        "            pattern = \"\" if dom_a == \"a\" else \"Brindle\"\n",
        "        else:  # kyky\n",
        "            pattern = A_LABELS.get(dom_a, \"\")\n",
        "\n",
        "    # ── 5. Spotting / Parti text ─────────────────────────────────────\n",
        "    spot_prefix = \"Parti\" if s_pair.lower().endswith(\"spsp\") else \"\"\n",
        "    spot_suffix = \"carries Parti\" if s_pair == \"Ssp\" or s_pair.lower() == \"ssp\" else \"\"\n",
        "\n",
        "    # ── 6. Assemble, keep spaces tidy ────────────────────────────────\n",
        "    parts = [spot_prefix, base_colour, pattern, spot_suffix]\n",
        "    return \" \".join(p for p in parts if p)\n"
      ]
    },
    {
      "cell_type": "code",
      "execution_count": 20,
      "id": "7",
      "metadata": {
        "colab": {
          "base_uri": "https://localhost:8080/"
        },
        "id": "7",
        "outputId": "e32df055-1fdc-43da-d595-0118c323ec90"
      },
      "outputs": [
        {
          "output_type": "stream",
          "name": "stdout",
          "text": [
            "Red/Cream carries Sable\n",
            "Red/Cream carries Phantom\n",
            "Red/Cream (brown nose)\n",
            "Red/Cream carries Brindle\n",
            "Brown Phantom\n"
          ]
        }
      ],
      "source": [
        "# ee + kyky + ay  → carries Sable\n",
        "print(predict_colour(\"BB\",\"ee\",\"kyky\",\"ay\",\"at\",\"SS\"))\n",
        "#   Red/Cream carries Sable\n",
        "\n",
        "# ee + kyky + at  → carries Phantom\n",
        "print(predict_colour(\"BB\",\"ee\",\"kyky\",\"at\",\"aw\",\"SS\"))\n",
        "#   Red/Cream carries Phantom\n",
        "\n",
        "# ee + kyky + a/a  → just Red/Cream\n",
        "print(predict_colour(\"bb\",\"ee\",\"kyky\",\"a\",\"a\",\"SS\"))\n",
        "#   Red/Cream\n",
        "\n",
        "# ee + Kbr  → carries Brindle (unchanged)\n",
        "print(predict_colour(\"BB\",\"ee\",\"Kbrky\",\"ay\",\"at\",\"SS\"))\n",
        "#   Red/Cream carries Brindle\n",
        "\n",
        "# non-ee kyky atat  → Phantom Black (pattern shows)\n",
        "print(predict_colour(\"bb\",\"EE\",\"kyky\",\"at\",\"at\",\"SS\"))\n",
        "#   Phantom Black\n"
      ]
    },
    {
      "cell_type": "code",
      "execution_count": 21,
      "id": "8",
      "metadata": {
        "id": "8"
      },
      "outputs": [],
      "source": [
        "## 5. Bulk Conversion of Your CSV"
      ]
    },
    {
      "cell_type": "code",
      "execution_count": 22,
      "id": "9",
      "metadata": {
        "id": "9"
      },
      "outputs": [],
      "source": [
        "## 6. Interactive Playground"
      ]
    },
    {
      "cell_type": "code",
      "execution_count": 23,
      "id": "10",
      "metadata": {
        "colab": {
          "base_uri": "https://localhost:8080/",
          "height": 238,
          "referenced_widgets": [
            "a9484a91db2343d798d28f9f016e2c9e",
            "b1a2de5a5a4844bd942940129cd1ae16",
            "5f6e88781b7f41b593bb6d9cb1a39fed",
            "f9823ee19d31406cb64f0e22a8bb4ab1",
            "4c4504e2ae9848aa8b40110eba09a7c7",
            "fe513aab8f5e4214aa6108f8ed82243b",
            "546a2321b64f433181d16afa84d1ba38",
            "a453b057ebba43ee8afe9474f65faefd",
            "427e8d9a0a844117a78162d7280be42e",
            "81d046c356ae4e56a1dc40b8d75afe43",
            "21eab6e95fd7467a8180eed6d6c46b58",
            "99c47d1354cc449fbe39e911f56c40d4",
            "0eb9404841a44891ad02e76b73afa5fb",
            "eaaeb14857c649bebd1500a44bf1a5f1",
            "0965cf7974cb48a68f5520770d654d97",
            "4ba7a082f31840d396f63e9cc4658dbe",
            "c59b9f7de4e5438496cbea92121c577c",
            "469fcc38af17461985b7908c9a71e2f7",
            "909d078c41014c1b80cfc782b0c23d4a",
            "6cd96e7564964416b5f5a31e8dadb6a5"
          ]
        },
        "id": "10",
        "outputId": "a7a792f5-3fe6-4cfe-cfa4-7abbe6824349"
      },
      "outputs": [
        {
          "output_type": "display_data",
          "data": {
            "text/plain": [
              "ToggleButtons(description='B locus:', options=(('BB (black)', 'BB'), ('Bb (black)', 'Bb'), ('bb (brown)', 'bb'…"
            ],
            "application/vnd.jupyter.widget-view+json": {
              "version_major": 2,
              "version_minor": 0,
              "model_id": "a9484a91db2343d798d28f9f016e2c9e"
            }
          },
          "metadata": {}
        },
        {
          "output_type": "display_data",
          "data": {
            "text/plain": [
              "ToggleButtons(description='E locus:', options=(('EE (permits)', 'EE'), ('Ee (permits)', 'Ee'), ('ee (red/cream…"
            ],
            "application/vnd.jupyter.widget-view+json": {
              "version_major": 2,
              "version_minor": 0,
              "model_id": "f9823ee19d31406cb64f0e22a8bb4ab1"
            }
          },
          "metadata": {}
        },
        {
          "output_type": "display_data",
          "data": {
            "text/plain": [
              "ToggleButtons(description='K locus:', options=(('KB/KB', 'KBKB'), ('Kbr/ky', 'Kbrky'), ('ky/ky', 'kyky')), val…"
            ],
            "application/vnd.jupyter.widget-view+json": {
              "version_major": 2,
              "version_minor": 0,
              "model_id": "546a2321b64f433181d16afa84d1ba38"
            }
          },
          "metadata": {}
        },
        {
          "output_type": "display_data",
          "data": {
            "text/plain": [
              "ToggleButtons(description='A-1:', options=(('ay', 'ay'), ('at', 'at'), ('aw', 'aw'), ('a', 'a')), value='ay')"
            ],
            "application/vnd.jupyter.widget-view+json": {
              "version_major": 2,
              "version_minor": 0,
              "model_id": "81d046c356ae4e56a1dc40b8d75afe43"
            }
          },
          "metadata": {}
        },
        {
          "output_type": "display_data",
          "data": {
            "text/plain": [
              "ToggleButtons(description='A-2:', options=(('ay', 'ay'), ('at', 'at'), ('aw', 'aw'), ('a', 'a')), value='ay')"
            ],
            "application/vnd.jupyter.widget-view+json": {
              "version_major": 2,
              "version_minor": 0,
              "model_id": "0eb9404841a44891ad02e76b73afa5fb"
            }
          },
          "metadata": {}
        },
        {
          "output_type": "display_data",
          "data": {
            "text/plain": [
              "ToggleButtons(description='S locus:', options=(('SS (solid)', 'SS'), ('Ssp (carrier)', 'Ssp'), ('sp/sp (parti)…"
            ],
            "application/vnd.jupyter.widget-view+json": {
              "version_major": 2,
              "version_minor": 0,
              "model_id": "4ba7a082f31840d396f63e9cc4658dbe"
            }
          },
          "metadata": {}
        },
        {
          "output_type": "display_data",
          "data": {
            "text/plain": [
              "Output()"
            ],
            "application/vnd.jupyter.widget-view+json": {
              "version_major": 2,
              "version_minor": 0,
              "model_id": "909d078c41014c1b80cfc782b0c23d4a"
            }
          },
          "metadata": {}
        }
      ],
      "source": [
        "def show_interactive():\n",
        "    # --- B locus ----------------------------------------------------------\n",
        "    b_btn = widgets.ToggleButtons(\n",
        "        options=[(\"BB (black)\", \"BB\"),\n",
        "                 (\"Bb (black)\", \"Bb\"),\n",
        "                 (\"bb (brown)\", \"bb\")],\n",
        "        description=\"B locus:\",\n",
        "    )\n",
        "\n",
        "    # --- E locus ----------------------------------------------------------\n",
        "    e_btn = widgets.ToggleButtons(\n",
        "        options=[(\"EE (permits)\", \"EE\"),\n",
        "                 (\"Ee (permits)\", \"Ee\"),\n",
        "                 (\"ee (red/cream)\", \"ee\")],\n",
        "        description=\"E locus:\",\n",
        "    )\n",
        "\n",
        "    # --- K locus ----------------------------------------------------------\n",
        "    k_btn = widgets.ToggleButtons(\n",
        "        options=[(\"KB/KB\",  \"KBKB\"),\n",
        "                 (\"Kbr/ky\", \"Kbrky\"),\n",
        "                 (\"ky/ky\",  \"kyky\")],\n",
        "        description=\"K locus:\",\n",
        "    )\n",
        "\n",
        "    # --- A locus (two alleles) -------------------------------------------\n",
        "    a1_btn = widgets.ToggleButtons(\n",
        "        description=\"A-1:\",\n",
        "        options=[(\"ay\", \"ay\"), (\"at\", \"at\"), (\"aw\", \"aw\"), (\"a\", \"a\")],\n",
        "    )\n",
        "    a2_btn = widgets.ToggleButtons(\n",
        "        description=\"A-2:\",\n",
        "        options=[(\"ay\", \"ay\"), (\"at\", \"at\"), (\"aw\", \"aw\"), (\"a\", \"a\")],\n",
        "    )\n",
        "\n",
        "    # --- Spotting ---------------------------------------------------------\n",
        "    s_btn = widgets.ToggleButtons(\n",
        "        description=\"S locus:\",\n",
        "        options=[(\"SS (solid)\",  \"SS\"),\n",
        "                 (\"Ssp (carrier)\", \"Ssp\"),\n",
        "                 (\"sp/sp (parti)\", \"spsp\")],\n",
        "    )\n",
        "\n",
        "    # --------- live output area ------------------------------------------\n",
        "    out = widgets.Output()\n",
        "\n",
        "    def update(_=None):\n",
        "        colour = predict_colour(\n",
        "            b_btn.value,\n",
        "            e_btn.value,\n",
        "            k_btn.value,\n",
        "            a1_btn.value,\n",
        "            a2_btn.value,\n",
        "            s_btn.value\n",
        "        )\n",
        "        with out:\n",
        "            out.clear_output()\n",
        "            display(HTML(f\"<h3>{colour}</h3>\"))\n",
        "\n",
        "    # fire once at start\n",
        "    update()\n",
        "\n",
        "    # listen for *any* change\n",
        "    for w in (b_btn, e_btn, k_btn, a1_btn, a2_btn, s_btn):\n",
        "        w.observe(update, names=\"value\")\n",
        "\n",
        "    display(b_btn, e_btn, k_btn, a1_btn, a2_btn, s_btn, out)\n",
        "\n",
        "# run it\n",
        "show_interactive()\n"
      ]
    },
    {
      "cell_type": "code",
      "execution_count": 24,
      "id": "11",
      "metadata": {
        "id": "11"
      },
      "outputs": [],
      "source": [
        "## 7. Visual Summary"
      ]
    },
    {
      "cell_type": "code",
      "execution_count": 25,
      "id": "12",
      "metadata": {
        "id": "12"
      },
      "outputs": [],
      "source": [
        "## 8. Further Reading"
      ]
    }
  ],
  "metadata": {
    "colab": {
      "provenance": [],
      "include_colab_link": true
    },
    "kernelspec": {
      "display_name": "Python 3",
      "name": "python3"
    },
    "language_info": {
      "name": "python"
    },
    "widgets": {
      "application/vnd.jupyter.widget-state+json": {
        "a9484a91db2343d798d28f9f016e2c9e": {
          "model_module": "@jupyter-widgets/controls",
          "model_name": "ToggleButtonsModel",
          "model_module_version": "1.5.0",
          "state": {
            "_dom_classes": [],
            "_model_module": "@jupyter-widgets/controls",
            "_model_module_version": "1.5.0",
            "_model_name": "ToggleButtonsModel",
            "_options_labels": [
              "BB (black)",
              "Bb (black)",
              "bb (brown)"
            ],
            "_view_count": null,
            "_view_module": "@jupyter-widgets/controls",
            "_view_module_version": "1.5.0",
            "_view_name": "ToggleButtonsView",
            "button_style": "",
            "description": "B locus:",
            "description_tooltip": null,
            "disabled": false,
            "icons": [],
            "index": 2,
            "layout": "IPY_MODEL_b1a2de5a5a4844bd942940129cd1ae16",
            "style": "IPY_MODEL_5f6e88781b7f41b593bb6d9cb1a39fed",
            "tooltips": []
          }
        },
        "b1a2de5a5a4844bd942940129cd1ae16": {
          "model_module": "@jupyter-widgets/base",
          "model_name": "LayoutModel",
          "model_module_version": "1.2.0",
          "state": {
            "_model_module": "@jupyter-widgets/base",
            "_model_module_version": "1.2.0",
            "_model_name": "LayoutModel",
            "_view_count": null,
            "_view_module": "@jupyter-widgets/base",
            "_view_module_version": "1.2.0",
            "_view_name": "LayoutView",
            "align_content": null,
            "align_items": null,
            "align_self": null,
            "border": null,
            "bottom": null,
            "display": null,
            "flex": null,
            "flex_flow": null,
            "grid_area": null,
            "grid_auto_columns": null,
            "grid_auto_flow": null,
            "grid_auto_rows": null,
            "grid_column": null,
            "grid_gap": null,
            "grid_row": null,
            "grid_template_areas": null,
            "grid_template_columns": null,
            "grid_template_rows": null,
            "height": null,
            "justify_content": null,
            "justify_items": null,
            "left": null,
            "margin": null,
            "max_height": null,
            "max_width": null,
            "min_height": null,
            "min_width": null,
            "object_fit": null,
            "object_position": null,
            "order": null,
            "overflow": null,
            "overflow_x": null,
            "overflow_y": null,
            "padding": null,
            "right": null,
            "top": null,
            "visibility": null,
            "width": null
          }
        },
        "5f6e88781b7f41b593bb6d9cb1a39fed": {
          "model_module": "@jupyter-widgets/controls",
          "model_name": "ToggleButtonsStyleModel",
          "model_module_version": "1.5.0",
          "state": {
            "_model_module": "@jupyter-widgets/controls",
            "_model_module_version": "1.5.0",
            "_model_name": "ToggleButtonsStyleModel",
            "_view_count": null,
            "_view_module": "@jupyter-widgets/base",
            "_view_module_version": "1.2.0",
            "_view_name": "StyleView",
            "button_width": "",
            "description_width": "",
            "font_weight": ""
          }
        },
        "f9823ee19d31406cb64f0e22a8bb4ab1": {
          "model_module": "@jupyter-widgets/controls",
          "model_name": "ToggleButtonsModel",
          "model_module_version": "1.5.0",
          "state": {
            "_dom_classes": [],
            "_model_module": "@jupyter-widgets/controls",
            "_model_module_version": "1.5.0",
            "_model_name": "ToggleButtonsModel",
            "_options_labels": [
              "EE (permits)",
              "Ee (permits)",
              "ee (red/cream)"
            ],
            "_view_count": null,
            "_view_module": "@jupyter-widgets/controls",
            "_view_module_version": "1.5.0",
            "_view_name": "ToggleButtonsView",
            "button_style": "",
            "description": "E locus:",
            "description_tooltip": null,
            "disabled": false,
            "icons": [],
            "index": 1,
            "layout": "IPY_MODEL_4c4504e2ae9848aa8b40110eba09a7c7",
            "style": "IPY_MODEL_fe513aab8f5e4214aa6108f8ed82243b",
            "tooltips": []
          }
        },
        "4c4504e2ae9848aa8b40110eba09a7c7": {
          "model_module": "@jupyter-widgets/base",
          "model_name": "LayoutModel",
          "model_module_version": "1.2.0",
          "state": {
            "_model_module": "@jupyter-widgets/base",
            "_model_module_version": "1.2.0",
            "_model_name": "LayoutModel",
            "_view_count": null,
            "_view_module": "@jupyter-widgets/base",
            "_view_module_version": "1.2.0",
            "_view_name": "LayoutView",
            "align_content": null,
            "align_items": null,
            "align_self": null,
            "border": null,
            "bottom": null,
            "display": null,
            "flex": null,
            "flex_flow": null,
            "grid_area": null,
            "grid_auto_columns": null,
            "grid_auto_flow": null,
            "grid_auto_rows": null,
            "grid_column": null,
            "grid_gap": null,
            "grid_row": null,
            "grid_template_areas": null,
            "grid_template_columns": null,
            "grid_template_rows": null,
            "height": null,
            "justify_content": null,
            "justify_items": null,
            "left": null,
            "margin": null,
            "max_height": null,
            "max_width": null,
            "min_height": null,
            "min_width": null,
            "object_fit": null,
            "object_position": null,
            "order": null,
            "overflow": null,
            "overflow_x": null,
            "overflow_y": null,
            "padding": null,
            "right": null,
            "top": null,
            "visibility": null,
            "width": null
          }
        },
        "fe513aab8f5e4214aa6108f8ed82243b": {
          "model_module": "@jupyter-widgets/controls",
          "model_name": "ToggleButtonsStyleModel",
          "model_module_version": "1.5.0",
          "state": {
            "_model_module": "@jupyter-widgets/controls",
            "_model_module_version": "1.5.0",
            "_model_name": "ToggleButtonsStyleModel",
            "_view_count": null,
            "_view_module": "@jupyter-widgets/base",
            "_view_module_version": "1.2.0",
            "_view_name": "StyleView",
            "button_width": "",
            "description_width": "",
            "font_weight": ""
          }
        },
        "546a2321b64f433181d16afa84d1ba38": {
          "model_module": "@jupyter-widgets/controls",
          "model_name": "ToggleButtonsModel",
          "model_module_version": "1.5.0",
          "state": {
            "_dom_classes": [],
            "_model_module": "@jupyter-widgets/controls",
            "_model_module_version": "1.5.0",
            "_model_name": "ToggleButtonsModel",
            "_options_labels": [
              "KB/KB",
              "Kbr/ky",
              "ky/ky"
            ],
            "_view_count": null,
            "_view_module": "@jupyter-widgets/controls",
            "_view_module_version": "1.5.0",
            "_view_name": "ToggleButtonsView",
            "button_style": "",
            "description": "K locus:",
            "description_tooltip": null,
            "disabled": false,
            "icons": [],
            "index": 2,
            "layout": "IPY_MODEL_a453b057ebba43ee8afe9474f65faefd",
            "style": "IPY_MODEL_427e8d9a0a844117a78162d7280be42e",
            "tooltips": []
          }
        },
        "a453b057ebba43ee8afe9474f65faefd": {
          "model_module": "@jupyter-widgets/base",
          "model_name": "LayoutModel",
          "model_module_version": "1.2.0",
          "state": {
            "_model_module": "@jupyter-widgets/base",
            "_model_module_version": "1.2.0",
            "_model_name": "LayoutModel",
            "_view_count": null,
            "_view_module": "@jupyter-widgets/base",
            "_view_module_version": "1.2.0",
            "_view_name": "LayoutView",
            "align_content": null,
            "align_items": null,
            "align_self": null,
            "border": null,
            "bottom": null,
            "display": null,
            "flex": null,
            "flex_flow": null,
            "grid_area": null,
            "grid_auto_columns": null,
            "grid_auto_flow": null,
            "grid_auto_rows": null,
            "grid_column": null,
            "grid_gap": null,
            "grid_row": null,
            "grid_template_areas": null,
            "grid_template_columns": null,
            "grid_template_rows": null,
            "height": null,
            "justify_content": null,
            "justify_items": null,
            "left": null,
            "margin": null,
            "max_height": null,
            "max_width": null,
            "min_height": null,
            "min_width": null,
            "object_fit": null,
            "object_position": null,
            "order": null,
            "overflow": null,
            "overflow_x": null,
            "overflow_y": null,
            "padding": null,
            "right": null,
            "top": null,
            "visibility": null,
            "width": null
          }
        },
        "427e8d9a0a844117a78162d7280be42e": {
          "model_module": "@jupyter-widgets/controls",
          "model_name": "ToggleButtonsStyleModel",
          "model_module_version": "1.5.0",
          "state": {
            "_model_module": "@jupyter-widgets/controls",
            "_model_module_version": "1.5.0",
            "_model_name": "ToggleButtonsStyleModel",
            "_view_count": null,
            "_view_module": "@jupyter-widgets/base",
            "_view_module_version": "1.2.0",
            "_view_name": "StyleView",
            "button_width": "",
            "description_width": "",
            "font_weight": ""
          }
        },
        "81d046c356ae4e56a1dc40b8d75afe43": {
          "model_module": "@jupyter-widgets/controls",
          "model_name": "ToggleButtonsModel",
          "model_module_version": "1.5.0",
          "state": {
            "_dom_classes": [],
            "_model_module": "@jupyter-widgets/controls",
            "_model_module_version": "1.5.0",
            "_model_name": "ToggleButtonsModel",
            "_options_labels": [
              "ay",
              "at",
              "aw",
              "a"
            ],
            "_view_count": null,
            "_view_module": "@jupyter-widgets/controls",
            "_view_module_version": "1.5.0",
            "_view_name": "ToggleButtonsView",
            "button_style": "",
            "description": "A-1:",
            "description_tooltip": null,
            "disabled": false,
            "icons": [],
            "index": 1,
            "layout": "IPY_MODEL_21eab6e95fd7467a8180eed6d6c46b58",
            "style": "IPY_MODEL_99c47d1354cc449fbe39e911f56c40d4",
            "tooltips": []
          }
        },
        "21eab6e95fd7467a8180eed6d6c46b58": {
          "model_module": "@jupyter-widgets/base",
          "model_name": "LayoutModel",
          "model_module_version": "1.2.0",
          "state": {
            "_model_module": "@jupyter-widgets/base",
            "_model_module_version": "1.2.0",
            "_model_name": "LayoutModel",
            "_view_count": null,
            "_view_module": "@jupyter-widgets/base",
            "_view_module_version": "1.2.0",
            "_view_name": "LayoutView",
            "align_content": null,
            "align_items": null,
            "align_self": null,
            "border": null,
            "bottom": null,
            "display": null,
            "flex": null,
            "flex_flow": null,
            "grid_area": null,
            "grid_auto_columns": null,
            "grid_auto_flow": null,
            "grid_auto_rows": null,
            "grid_column": null,
            "grid_gap": null,
            "grid_row": null,
            "grid_template_areas": null,
            "grid_template_columns": null,
            "grid_template_rows": null,
            "height": null,
            "justify_content": null,
            "justify_items": null,
            "left": null,
            "margin": null,
            "max_height": null,
            "max_width": null,
            "min_height": null,
            "min_width": null,
            "object_fit": null,
            "object_position": null,
            "order": null,
            "overflow": null,
            "overflow_x": null,
            "overflow_y": null,
            "padding": null,
            "right": null,
            "top": null,
            "visibility": null,
            "width": null
          }
        },
        "99c47d1354cc449fbe39e911f56c40d4": {
          "model_module": "@jupyter-widgets/controls",
          "model_name": "ToggleButtonsStyleModel",
          "model_module_version": "1.5.0",
          "state": {
            "_model_module": "@jupyter-widgets/controls",
            "_model_module_version": "1.5.0",
            "_model_name": "ToggleButtonsStyleModel",
            "_view_count": null,
            "_view_module": "@jupyter-widgets/base",
            "_view_module_version": "1.2.0",
            "_view_name": "StyleView",
            "button_width": "",
            "description_width": "",
            "font_weight": ""
          }
        },
        "0eb9404841a44891ad02e76b73afa5fb": {
          "model_module": "@jupyter-widgets/controls",
          "model_name": "ToggleButtonsModel",
          "model_module_version": "1.5.0",
          "state": {
            "_dom_classes": [],
            "_model_module": "@jupyter-widgets/controls",
            "_model_module_version": "1.5.0",
            "_model_name": "ToggleButtonsModel",
            "_options_labels": [
              "ay",
              "at",
              "aw",
              "a"
            ],
            "_view_count": null,
            "_view_module": "@jupyter-widgets/controls",
            "_view_module_version": "1.5.0",
            "_view_name": "ToggleButtonsView",
            "button_style": "",
            "description": "A-2:",
            "description_tooltip": null,
            "disabled": false,
            "icons": [],
            "index": 1,
            "layout": "IPY_MODEL_eaaeb14857c649bebd1500a44bf1a5f1",
            "style": "IPY_MODEL_0965cf7974cb48a68f5520770d654d97",
            "tooltips": []
          }
        },
        "eaaeb14857c649bebd1500a44bf1a5f1": {
          "model_module": "@jupyter-widgets/base",
          "model_name": "LayoutModel",
          "model_module_version": "1.2.0",
          "state": {
            "_model_module": "@jupyter-widgets/base",
            "_model_module_version": "1.2.0",
            "_model_name": "LayoutModel",
            "_view_count": null,
            "_view_module": "@jupyter-widgets/base",
            "_view_module_version": "1.2.0",
            "_view_name": "LayoutView",
            "align_content": null,
            "align_items": null,
            "align_self": null,
            "border": null,
            "bottom": null,
            "display": null,
            "flex": null,
            "flex_flow": null,
            "grid_area": null,
            "grid_auto_columns": null,
            "grid_auto_flow": null,
            "grid_auto_rows": null,
            "grid_column": null,
            "grid_gap": null,
            "grid_row": null,
            "grid_template_areas": null,
            "grid_template_columns": null,
            "grid_template_rows": null,
            "height": null,
            "justify_content": null,
            "justify_items": null,
            "left": null,
            "margin": null,
            "max_height": null,
            "max_width": null,
            "min_height": null,
            "min_width": null,
            "object_fit": null,
            "object_position": null,
            "order": null,
            "overflow": null,
            "overflow_x": null,
            "overflow_y": null,
            "padding": null,
            "right": null,
            "top": null,
            "visibility": null,
            "width": null
          }
        },
        "0965cf7974cb48a68f5520770d654d97": {
          "model_module": "@jupyter-widgets/controls",
          "model_name": "ToggleButtonsStyleModel",
          "model_module_version": "1.5.0",
          "state": {
            "_model_module": "@jupyter-widgets/controls",
            "_model_module_version": "1.5.0",
            "_model_name": "ToggleButtonsStyleModel",
            "_view_count": null,
            "_view_module": "@jupyter-widgets/base",
            "_view_module_version": "1.2.0",
            "_view_name": "StyleView",
            "button_width": "",
            "description_width": "",
            "font_weight": ""
          }
        },
        "4ba7a082f31840d396f63e9cc4658dbe": {
          "model_module": "@jupyter-widgets/controls",
          "model_name": "ToggleButtonsModel",
          "model_module_version": "1.5.0",
          "state": {
            "_dom_classes": [],
            "_model_module": "@jupyter-widgets/controls",
            "_model_module_version": "1.5.0",
            "_model_name": "ToggleButtonsModel",
            "_options_labels": [
              "SS (solid)",
              "Ssp (carrier)",
              "sp/sp (parti)"
            ],
            "_view_count": null,
            "_view_module": "@jupyter-widgets/controls",
            "_view_module_version": "1.5.0",
            "_view_name": "ToggleButtonsView",
            "button_style": "",
            "description": "S locus:",
            "description_tooltip": null,
            "disabled": false,
            "icons": [],
            "index": 0,
            "layout": "IPY_MODEL_c59b9f7de4e5438496cbea92121c577c",
            "style": "IPY_MODEL_469fcc38af17461985b7908c9a71e2f7",
            "tooltips": []
          }
        },
        "c59b9f7de4e5438496cbea92121c577c": {
          "model_module": "@jupyter-widgets/base",
          "model_name": "LayoutModel",
          "model_module_version": "1.2.0",
          "state": {
            "_model_module": "@jupyter-widgets/base",
            "_model_module_version": "1.2.0",
            "_model_name": "LayoutModel",
            "_view_count": null,
            "_view_module": "@jupyter-widgets/base",
            "_view_module_version": "1.2.0",
            "_view_name": "LayoutView",
            "align_content": null,
            "align_items": null,
            "align_self": null,
            "border": null,
            "bottom": null,
            "display": null,
            "flex": null,
            "flex_flow": null,
            "grid_area": null,
            "grid_auto_columns": null,
            "grid_auto_flow": null,
            "grid_auto_rows": null,
            "grid_column": null,
            "grid_gap": null,
            "grid_row": null,
            "grid_template_areas": null,
            "grid_template_columns": null,
            "grid_template_rows": null,
            "height": null,
            "justify_content": null,
            "justify_items": null,
            "left": null,
            "margin": null,
            "max_height": null,
            "max_width": null,
            "min_height": null,
            "min_width": null,
            "object_fit": null,
            "object_position": null,
            "order": null,
            "overflow": null,
            "overflow_x": null,
            "overflow_y": null,
            "padding": null,
            "right": null,
            "top": null,
            "visibility": null,
            "width": null
          }
        },
        "469fcc38af17461985b7908c9a71e2f7": {
          "model_module": "@jupyter-widgets/controls",
          "model_name": "ToggleButtonsStyleModel",
          "model_module_version": "1.5.0",
          "state": {
            "_model_module": "@jupyter-widgets/controls",
            "_model_module_version": "1.5.0",
            "_model_name": "ToggleButtonsStyleModel",
            "_view_count": null,
            "_view_module": "@jupyter-widgets/base",
            "_view_module_version": "1.2.0",
            "_view_name": "StyleView",
            "button_width": "",
            "description_width": "",
            "font_weight": ""
          }
        },
        "909d078c41014c1b80cfc782b0c23d4a": {
          "model_module": "@jupyter-widgets/output",
          "model_name": "OutputModel",
          "model_module_version": "1.0.0",
          "state": {
            "_dom_classes": [],
            "_model_module": "@jupyter-widgets/output",
            "_model_module_version": "1.0.0",
            "_model_name": "OutputModel",
            "_view_count": null,
            "_view_module": "@jupyter-widgets/output",
            "_view_module_version": "1.0.0",
            "_view_name": "OutputView",
            "layout": "IPY_MODEL_6cd96e7564964416b5f5a31e8dadb6a5",
            "msg_id": "",
            "outputs": [
              {
                "output_type": "display_data",
                "data": {
                  "text/plain": "<IPython.core.display.HTML object>",
                  "text/html": "<h3>Brown Phantom</h3>"
                },
                "metadata": {}
              }
            ]
          }
        },
        "6cd96e7564964416b5f5a31e8dadb6a5": {
          "model_module": "@jupyter-widgets/base",
          "model_name": "LayoutModel",
          "model_module_version": "1.2.0",
          "state": {
            "_model_module": "@jupyter-widgets/base",
            "_model_module_version": "1.2.0",
            "_model_name": "LayoutModel",
            "_view_count": null,
            "_view_module": "@jupyter-widgets/base",
            "_view_module_version": "1.2.0",
            "_view_name": "LayoutView",
            "align_content": null,
            "align_items": null,
            "align_self": null,
            "border": null,
            "bottom": null,
            "display": null,
            "flex": null,
            "flex_flow": null,
            "grid_area": null,
            "grid_auto_columns": null,
            "grid_auto_flow": null,
            "grid_auto_rows": null,
            "grid_column": null,
            "grid_gap": null,
            "grid_row": null,
            "grid_template_areas": null,
            "grid_template_columns": null,
            "grid_template_rows": null,
            "height": null,
            "justify_content": null,
            "justify_items": null,
            "left": null,
            "margin": null,
            "max_height": null,
            "max_width": null,
            "min_height": null,
            "min_width": null,
            "object_fit": null,
            "object_position": null,
            "order": null,
            "overflow": null,
            "overflow_x": null,
            "overflow_y": null,
            "padding": null,
            "right": null,
            "top": null,
            "visibility": null,
            "width": null
          }
        }
      }
    }
  },
  "nbformat": 4,
  "nbformat_minor": 5
}